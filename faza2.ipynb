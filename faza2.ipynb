{
 "cells": [
  {
   "cell_type": "markdown",
   "id": "2ddca509-e00d-43b9-866b-0368687c4136",
   "metadata": {},
   "source": [
    "# Fáza 2 IAU - Daniela Paľuchová 50%, Mark Bartalos 50% "
   ]
  },
  {
   "cell_type": "code",
   "execution_count": null,
   "id": "417fa411-6a0d-40fd-9f09-5d33c3516cf0",
   "metadata": {},
   "outputs": [],
   "source": [
    "import pandas as pd\n",
    "import numpy as np\n",
    "import matplotlib.pyplot as plt\n",
    "import seaborn as sns\n",
    "import scipy.stats as stats\n",
    "import statsmodels.api as sm\n",
    "from datetime import datetime\n",
    "import category_encoders as ce\n",
    "from sklearn.model_selection import train_test_split\n",
    "from sklearn.feature_selection import VarianceThreshold\n",
    "from sklearn.feature_selection import SelectFromModel\n",
    "from sklearn.linear_model import LogisticRegression\n",
    "from sklearn.preprocessing import MinMaxScaler \n",
    "from sklearn.preprocessing import PowerTransformer\n",
    "from matplotlib import pyplot\n",
    "from sklearn.preprocessing import StandardScaler \n",
    "from sklearn.preprocessing import RobustScaler\n",
    "from sklearn.preprocessing import QuantileTransformer\n",
    "from sklearn.feature_selection import SelectKBest\n",
    "from sklearn.feature_selection import mutual_info_regression\n",
    "from sklearn.feature_selection import chi2\n",
    "from sklearn.feature_selection import f_regression\n",
    "from sklearn.svm import LinearSVC\n",
    "from sklearn.feature_selection import SelectFromModel\n",
    "from sklearn.impute import KNNImputer\n",
    "from sklearn.pipeline import Pipeline\n",
    "from sklearn.compose import ColumnTransformer, make_column_selector\n",
    "from sklearn.impute import SimpleImputer\n",
    "from sklearn.neighbors import LocalOutlierFactor\n",
    "from sklearn.preprocessing import OneHotEncoder\n"
   ]
  },
  {
   "cell_type": "code",
   "execution_count": null,
   "id": "f04f8153-c24c-46c5-b44e-f5391b33a648",
   "metadata": {},
   "outputs": [],
   "source": [
    "products = pd.read_csv(\"data/product.csv\", sep='\\t')\n",
    "sessions = pd.read_csv(\"data/session.csv\", sep='\\t')\n",
    "users = pd.read_csv(\"data/user.csv\", sep='\\t')"
   ]
  },
  {
   "cell_type": "markdown",
   "id": "263782ff-89bc-4a7a-bef9-b73db4399c07",
   "metadata": {},
   "source": [
    "Vyriešené chyby z predchádzajúcej fázy"
   ]
  },
  {
   "cell_type": "code",
   "execution_count": null,
   "id": "26a8d2dd-f006-4f76-9b63-f089e7c8340c",
   "metadata": {},
   "outputs": [],
   "source": [
    "users = users.drop_duplicates(subset='user_id', keep='first')\n",
    "users['race'] = users['race'].fillna('unspecified')\n",
    "users['birthdate'] = pd.to_datetime(users['birthdate'], errors='coerce')\n",
    "sessions['ack']=sessions['ack'].astype(int)\n",
    "duplikatne_riadky = sessions[sessions.duplicated()]\n",
    "sessions.drop_duplicates(inplace=True)\n",
    "sessions['session_start'] = pd.to_datetime(sessions['session_start'], errors='coerce')"
   ]
  },
  {
   "cell_type": "code",
   "execution_count": null,
   "id": "c6bb04b3-2b21-488e-a055-5c7a8b2308e0",
   "metadata": {},
   "outputs": [],
   "source": [
    "products.head()"
   ]
  },
  {
   "cell_type": "code",
   "execution_count": null,
   "id": "7f73ccb0-d5b0-45bd-8c75-25b2a4449e17",
   "metadata": {},
   "outputs": [],
   "source": [
    "products.info()"
   ]
  },
  {
   "cell_type": "code",
   "execution_count": null,
   "id": "99b7274e-b069-4f54-9a8e-b403ab15042b",
   "metadata": {},
   "outputs": [],
   "source": [
    "sessions.head()"
   ]
  },
  {
   "cell_type": "code",
   "execution_count": null,
   "id": "533784f3-b25c-4bed-a9b2-d7bdc336d536",
   "metadata": {},
   "outputs": [],
   "source": [
    "sessions.info()"
   ]
  },
  {
   "cell_type": "code",
   "execution_count": null,
   "id": "67d08117-689d-4fc6-8bc3-b9148aaee046",
   "metadata": {},
   "outputs": [],
   "source": [
    "users.head()"
   ]
  },
  {
   "cell_type": "code",
   "execution_count": null,
   "id": "0c918054-2807-4c33-8e4d-ed908b5f1572",
   "metadata": {},
   "outputs": [],
   "source": [
    "users.info()"
   ]
  },
  {
   "cell_type": "markdown",
   "id": "50cacbd7-35a1-41c4-a573-85992de6707b",
   "metadata": {},
   "source": [
    "Po skúšaní spojiť session s product som prisšla k zisteniu, že product_ean sa nezhodujú, takže sa tie dva datasety nedajú spojiť. Nevidím žiadne logické riešenie ako by sa to dalo napraviť. Takže budem spájať a následne pracovať iba s users a sessions."
   ]
  },
  {
   "cell_type": "code",
   "execution_count": null,
   "id": "39e1c373-1680-478f-9d8b-411466ff47e8",
   "metadata": {},
   "outputs": [],
   "source": [
    "merged_data = pd.merge(sessions, users, on='user_id', how='left')\n",
    "merged_data.info()\n"
   ]
  },
  {
   "cell_type": "markdown",
   "id": "52fe6f2c-fbda-4fb0-96cb-1b6dadc10384",
   "metadata": {},
   "source": [
    "*Ako prvé idem vymatať stlpce, ktoré sú mi zbytočné*</br>\n",
    "Vyrobila som si stlpec age (nahradila som aj chýbajúce hodnoty priemerom) pomocou stlpca birthday, ktorý následne budem vymazávať"
   ]
  },
  {
   "cell_type": "code",
   "execution_count": null,
   "id": "fb419469-d061-4ae9-86f7-406f05e9c9e0",
   "metadata": {},
   "outputs": [],
   "source": [
    "merged_data['age'] = ((datetime.now() - merged_data['birthdate']).dt.days / 365.25)\n",
    "merged_data['age'] = merged_data['age'].round()\n",
    "mean_age = merged_data['age'].mean()\n",
    "merged_data['age'].fillna(mean_age, inplace=True)\n",
    "merged_data['age'] = merged_data['age'].round().astype(int)\n",
    "\n",
    "merged_data.head()"
   ]
  },
  {
   "cell_type": "code",
   "execution_count": null,
   "id": "686018a5-cbe4-4c55-a0e5-5d458cedeaf9",
   "metadata": {},
   "outputs": [],
   "source": [
    "if 'username' in merged_data.columns:\n",
    "    merged_data.drop('username', axis='columns', inplace=True)\n",
    "    print(\"vymazanie username\")\n",
    "if 'residence' in merged_data.columns:\n",
    "    merged_data.drop('residence', axis='columns', inplace=True)\n",
    "    print(\"vymazanie residence\")\n",
    "if 'current_location' in merged_data.columns:\n",
    "    merged_data.drop('current_location', axis='columns', inplace=True)\n",
    "    print(\"vymazanie current_location\")\n",
    "if 'name' in merged_data.columns:\n",
    "    merged_data.drop('name', axis='columns', inplace=True)\n",
    "    print(\"vymazanie name\")\n",
    "if 'mail' in merged_data.columns:\n",
    "    merged_data.drop('mail', axis='columns', inplace=True)\n",
    "    print(\"vymazanie mail\")\n",
    "if 'address' in merged_data.columns:\n",
    "    merged_data.drop('address', axis='columns', inplace=True)\n",
    "    print(\"vymazanie address\")\n",
    "if 'birthdate' in merged_data.columns:\n",
    "    merged_data.drop('birthdate', axis='columns', inplace=True)\n",
    "    print(\"vymazanie birthdate\")\n",
    "if 'session_start' in merged_data.columns:\n",
    "    merged_data.drop('session_start', axis='columns', inplace=True)\n",
    "    print(\"vymazanie session_start\")\n",
    "if 'sex' in merged_data.columns:\n",
    "    merged_data.drop('sex', axis='columns', inplace=True)\n",
    "    print(\"vymazanie sex\")\n",
    "merged_data.head()"
   ]
  },
  {
   "cell_type": "markdown",
   "id": "7e21f25d-8778-4491-8825-f421111928f1",
   "metadata": {},
   "source": [
    "Vymazali sme hodnoty, ktoré su pre každého usera jedinečné a teda nám nič nepovedia o ack, teda username, residence, current_location, name, mail, address, birthdate a session_start. Dalej sme vymazali aj atribút sex, pretože má okolo 60% NaN hodnot a analyzovať ack na základe tohto atribútu by teda nebolo presné._start"
   ]
  },
  {
   "cell_type": "code",
   "execution_count": null,
   "id": "e38d8afd-3665-4ea8-be21-6fdae1de8c2f",
   "metadata": {},
   "outputs": [],
   "source": [
    "merged_data['race'] = merged_data['race'].fillna('unspecified')\n",
    "merged_data['job'] = merged_data['job'].fillna('unspecified')\n",
    "merged_data.head()"
   ]
  },
  {
   "cell_type": "markdown",
   "id": "cb80f9ff-c2c6-483b-be5d-d45021e4d69f",
   "metadata": {},
   "source": [
    "Doplnenie chýbajúcich hodnôt do objektových atribútov</br>\n",
    "Race má už v pôvodných dátach hodnotu 'unspecified' a v tomto kontexte je to isté ako NaN, tak všetky NaN hodnoty tým nahradíme. V atribúte jobs sa nachádza veľké množstvo NaN hodnôt a veľa rozličných druhov prác, takže by nebolo logické to nahradzovať napríklad pomerom prác, takže použijeme znova označenie 'unspecified'. Ziaden pocet NaN v spomýnaných atribútov vyššie nebol natoľko nízky, aby sme si ich mohli dovoliť vymazať. Ďalšie objektové atribúty nemajú NaN hodnoty "
   ]
  },
  {
   "cell_type": "code",
   "execution_count": null,
   "id": "4692195c-307a-4872-ab1f-27e09a6b4ecf",
   "metadata": {},
   "outputs": [],
   "source": [
    "ce_ordinal = ce.OrdinalEncoder(cols=['race'])\n",
    "merged_data= ce_ordinal.fit_transform(merged_data)\n",
    "ce_ordinal = ce.OrdinalEncoder(cols=['job'])\n",
    "merged_data= ce_ordinal.fit_transform(merged_data)\n",
    "ce_ordinal = ce.OrdinalEncoder(cols=['browser_name'])\n",
    "merged_data= ce_ordinal.fit_transform(merged_data)\n",
    "ce_ordinal = ce.OrdinalEncoder(cols=['screen_height'])\n",
    "merged_data= ce_ordinal.fit_transform(merged_data)\n",
    "ce_ordinal = ce.OrdinalEncoder(cols=['screen_width'])\n",
    "merged_data= ce_ordinal.fit_transform(merged_data)\n",
    "merged_data.head()"
   ]
  },
  {
   "cell_type": "markdown",
   "id": "2c9ad1dd-d047-4b7f-a36f-ee2fc35ff8a4",
   "metadata": {},
   "source": [
    "Následne objectové atribúty zmeníme na číselne pomocou Ordinal Encoding"
   ]
  },
  {
   "cell_type": "code",
   "execution_count": null,
   "id": "c3b47b29-a0c0-48d4-9e92-15e985d77bd8",
   "metadata": {},
   "outputs": [],
   "source": [
    "merged_data.info()"
   ]
  },
  {
   "cell_type": "code",
   "execution_count": null,
   "id": "db1e3d5e-5f35-4209-82e3-646618516b63",
   "metadata": {},
   "outputs": [],
   "source": [
    "def deleteNaN(merged_data):\n",
    "    for column in merged_data.columns:\n",
    "        number_NaN=merged_data[column].isna().sum()\n",
    "        if 0<number_NaN:\n",
    "            merged_data = merged_data.dropna(subset=[column])\n",
    "    return merged_data"
   ]
  },
  {
   "cell_type": "code",
   "execution_count": null,
   "id": "6a74c46f-e705-4a6c-b375-e16a17a5916a",
   "metadata": {},
   "outputs": [],
   "source": [
    "def replaceNaNmean(merged_data):\n",
    "    for column in merged_data.columns:\n",
    "        number_NaN=merged_data[column].isna().sum()\n",
    "        if 0<number_NaN:\n",
    "           merged_data[column].fillna(merged_data[column].mean(), inplace=True)\n",
    "    return merged_data"
   ]
  },
  {
   "cell_type": "code",
   "execution_count": null,
   "id": "96a0dea1-d929-48df-91a6-8230dc7293b8",
   "metadata": {},
   "outputs": [],
   "source": [
    "def replaceNaNmedian(merged_data):\n",
    "    for column in merged_data.columns:\n",
    "        number_NaN=merged_data[column].isna().sum()\n",
    "        if 0<number_NaN:\n",
    "           merged_data[column].fillna(merged_data[column].median(), inplace=True)\n",
    "    return merged_data"
   ]
  },
  {
   "cell_type": "code",
   "execution_count": null,
   "id": "29bf4d3b-bd05-4f95-a29f-4dc4af21e80c",
   "metadata": {},
   "outputs": [],
   "source": [
    "#merged_data=deleteNaN(merged_data)\n",
    "#merged_data=replaceNaNmean(merged_data)\n",
    "merged_data=replaceNaNmedian(merged_data)"
   ]
  },
  {
   "cell_type": "markdown",
   "id": "1e0b0315-7095-438f-8d49-912d55eecf34",
   "metadata": {},
   "source": [
    "Vytvorili sme funkcie na vyriešenie NaN hodnôt. Môžeme si vybrať, či chceme ich vymazať, nahradiť priemerom alebo medianom. "
   ]
  },
  {
   "cell_type": "code",
   "execution_count": null,
   "id": "53920b61-7019-4fb4-866b-625f6d942e52",
   "metadata": {},
   "outputs": [],
   "source": [
    "merged_data.info()"
   ]
  },
  {
   "cell_type": "code",
   "execution_count": null,
   "id": "f23cc6cc-1ef5-49fd-bd58-d2a0e03cebe5",
   "metadata": {},
   "outputs": [],
   "source": [
    "fig, ax = plt.subplots(figsize=(30, 20))\n",
    "sns.boxplot(data=merged_data[['pct_wild_mouse', 'pct_input', 'pct_scrandom', 'pct_scroll_move', 'pct_click_product_info', 'wild_mouse_duration', 'total_load_time', 'pct_click']])\n",
    "plt.show()"
   ]
  },
  {
   "cell_type": "code",
   "execution_count": null,
   "id": "2aab4c3d-6b27-4ec8-8d8d-e13e50c472ef",
   "metadata": {},
   "outputs": [],
   "source": [
    "fig, ax = plt.subplots(figsize=(30, 20))\n",
    "sns.boxplot(data=merged_data[['pct_doubleclick', 'pct_mouse_move', 'pct_scroll_move_duration', 'scroll_move_total_rel_distance', 'page_activity_duration', 'mouse_move_total_rel_distance', 'pct_rage_click', 'pct_mouse_click']])\n",
    "plt.show()"
   ]
  },
  {
   "cell_type": "markdown",
   "id": "e66fc14d-4ce2-4bb3-a735-481513422a33",
   "metadata": {},
   "source": [
    "Na grafoch môžeme vidieť, že atribúty majú outlierov. Niektoré viac, niektoré menej. V grafe som obsiahla všetky atribúty, ktorých atribúty by bolo potrebné ošetriť na outlierov (ešte session duration, ale to som nedávala do grafu, lebo má veľké hodnoty oproti ostatným atribútom a nie je dobre vidieť potom ostatné)\n"
   ]
  },
  {
   "cell_type": "code",
   "execution_count": null,
   "id": "e7ad6a8d-2c81-40af-8d1d-4c6dcd0bfd71",
   "metadata": {},
   "outputs": [],
   "source": [
    "#Funkcia prevzatá zo vzorových notebookov\n",
    "def identify_outliers(a):\n",
    "    lower = a.quantile(0.25) - 1.5 * stats.iqr(a)\n",
    "    upper = a.quantile(0.75) + 1.5 * stats.iqr(a)\n",
    "    \n",
    "    return a[(a > upper) | (a < lower)]"
   ]
  },
  {
   "cell_type": "code",
   "execution_count": null,
   "id": "79699aa2-a2b0-42ec-9baa-ad21334c213d",
   "metadata": {},
   "outputs": [],
   "source": [
    "def delete_outliers(merged_data):\n",
    "    count=0\n",
    "    pocet_zaznamov_na_zaciatku=merged_data.shape[0]\n",
    "    for column in merged_data[['pct_doubleclick', 'pct_mouse_move', 'pct_scroll_move_duration', 'scroll_move_total_rel_distance', 'page_activity_duration', 'mouse_move_total_rel_distance', 'pct_rage_click', 'pct_mouse_click', 'pct_wild_mouse', 'pct_input', 'pct_scrandom', 'pct_scroll_move', 'pct_click_product_info', 'wild_mouse_duration', 'total_load_time', 'pct_click', 'session_duration']]:\n",
    "        outliers = identify_outliers(merged_data[column])\n",
    "        count+=outliers.count()\n",
    "        merged_data=merged_data.drop(outliers.index)\n",
    "\n",
    "    print(f'Počet vychýlených hodnôt je {count}')\n",
    "    print(f'Percento zaznamov, ktore ostali v percentach: {merged_data.shape[0]*100/pocet_zaznamov_na_zaciatku}')\n",
    "    return merged_data"
   ]
  },
  {
   "cell_type": "code",
   "execution_count": null,
   "id": "9c8a15e8-6ce6-44d0-bc11-65889f4cd53f",
   "metadata": {},
   "outputs": [],
   "source": [
    "merged_data.info()"
   ]
  },
  {
   "cell_type": "code",
   "execution_count": null,
   "id": "fef86e3d-4729-4f98-bc52-3370433b1f97",
   "metadata": {},
   "outputs": [],
   "source": [
    "\n",
    "merged_data = delete_outliers(merged_data)\n",
    "merged_data.info()"
   ]
  },
  {
   "cell_type": "markdown",
   "id": "684ee3b0-7ce2-453d-ae03-530a5039bf71",
   "metadata": {},
   "source": [
    "Vymazanie outlierov, zistili sme, že skoro 20% dát sme stratili"
   ]
  },
  {
   "cell_type": "code",
   "execution_count": null,
   "id": "0ac7193b-c77b-4c0a-ad00-7f90fc4f0814",
   "metadata": {},
   "outputs": [],
   "source": [
    "def delete_outliers_quantile(merged_data):\n",
    "    count=0\n",
    "    for column in merged_data[['pct_doubleclick', 'pct_mouse_move', 'pct_scroll_move_duration', 'scroll_move_total_rel_distance', 'page_activity_duration', 'mouse_move_total_rel_distance', 'pct_rage_click', 'pct_mouse_click', 'pct_wild_mouse', 'pct_input', 'pct_scrandom', 'pct_scroll_move', 'pct_click_product_info', 'wild_mouse_duration', 'total_load_time', 'pct_click', 'session_duration']]:\n",
    "        outliers = identify_outliers(merged_data[column])\n",
    "        lower_q = merged_data[column].quantile(0.05)\n",
    "        uper_q = merged_data[column].quantile(0.95)\n",
    "        count+=outliers.count()\n",
    "        merged_data[column] = merged_data[column].clip(lower_q, uper_q)\n",
    "        \n",
    "    print(f'Počet zmenenych hodnôt je {count}')\n",
    "    return merged_data\n",
    "\n"
   ]
  },
  {
   "cell_type": "code",
   "execution_count": null,
   "id": "6bc6ae14-02b1-4738-abe5-5e5113af72cd",
   "metadata": {},
   "outputs": [],
   "source": [
    "#merged_data = delete_outliers_quantile(merged_data)\n",
    "#merged_data.info()"
   ]
  },
  {
   "cell_type": "markdown",
   "id": "e179ae6b-ac9c-415b-8ef5-aa7a623dbcaa",
   "metadata": {},
   "source": [
    "Alternatíva pre outlierov je, že ich nahradím hraničnými hodnotami, teda quantilom 0.05 alebo 0.95"
   ]
  },
  {
   "cell_type": "markdown",
   "id": "0c6c66eb",
   "metadata": {},
   "source": [
    "# 2. Predspracovanie dat"
   ]
  },
  {
   "cell_type": "markdown",
   "id": "af689c60",
   "metadata": {},
   "source": [
    "Údaje rozdelíme do 2 rôznych súborov údajov, jedna bude určená na trénovanie a druhá časť bude slúžiť na testovanie predpokladaných výsledkov. Tréningová časť bude tvoriť 80 % údajov a testovacia časť bude tvoriť 20 % kompletných údajov."
   ]
  },
  {
   "cell_type": "code",
   "execution_count": null,
   "id": "7793fb70",
   "metadata": {},
   "outputs": [],
   "source": [
    "features = merged_data.drop('ack', axis=1)\n",
    "target = merged_data['ack']\n",
    "\n",
    "X_train, X_test, y_train, y_test = train_test_split(features, target, test_size=0.2, random_state=42)\n",
    "\n",
    "X_train"
   ]
  },
  {
   "cell_type": "markdown",
   "id": "2d16876f",
   "metadata": {},
   "source": [
    "### Encoding"
   ]
  },
  {
   "cell_type": "markdown",
   "id": "13ee0d4a",
   "metadata": {},
   "source": [
    "Všetky užitočné textové stĺpce boli zakódované v predchádzajúcej časti pomocou ordinálneho kódovania, kde boli rôzne kategórie textu zakódované do čísel, pričom každej kategórii bolo priradené jedinečné číslo."
   ]
  },
  {
   "cell_type": "markdown",
   "id": "ac44bd0e",
   "metadata": {},
   "source": [
    "### Škálovanie\n"
   ]
  },
  {
   "cell_type": "markdown",
   "id": "bb2b852f",
   "metadata": {},
   "source": [
    "Údaje normalizujeme pomocou MinMaxScaler. Používame MinMaxScaler, pretože tento scaler poskytuje rovnomerné škálovanie a zaisťuje, že žiadna jediná funkcia nedominuje modelu kvôli jeho mierke. Tiež zachováva vzťahy medzi pôvodnými dátovými bodmi."
   ]
  },
  {
   "cell_type": "code",
   "execution_count": null,
   "id": "e96febcd",
   "metadata": {},
   "outputs": [],
   "source": [
    "scaler = MinMaxScaler()\n",
    "X_train.hist(figsize=(25,25), bins=50)\n",
    "X_scaled = scaler.fit_transform(X_train) \n",
    "X_scaled = pd.DataFrame(X_scaled, columns=X_train.columns)"
   ]
  },
  {
   "cell_type": "markdown",
   "id": "94cfacbb",
   "metadata": {},
   "source": [
    "Na týchto histogramoch môžeme vidieť, ako sú jednotlivé údaje distribuované pred škálovaním."
   ]
  },
  {
   "cell_type": "code",
   "execution_count": null,
   "id": "0f6ff4c5",
   "metadata": {},
   "outputs": [],
   "source": [
    "X_scaled.hist(figsize=(25,25), bins=50)"
   ]
  },
  {
   "cell_type": "markdown",
   "id": "671d56e4",
   "metadata": {},
   "source": [
    "Vidíme, že pri použití MinMaxScaler distribúcia dát nezmenila len ich veľkosť."
   ]
  },
  {
   "cell_type": "markdown",
   "id": "c1ff6797",
   "metadata": {},
   "source": [
    "### Štandardné škálovanie"
   ]
  },
  {
   "cell_type": "markdown",
   "id": "0600598b",
   "metadata": {},
   "source": [
    "Používame štandardné škálovanie, aby sa údaje viac podobali Gaussovcom, ale extrémne hodnoty budú stále pretrvávať, čo bude musieť byť opravené v ďalšom kroku."
   ]
  },
  {
   "cell_type": "code",
   "execution_count": null,
   "id": "e3d05b78",
   "metadata": {},
   "outputs": [],
   "source": [
    "scaler = StandardScaler()\n",
    "X_scaled = scaler.fit_transform(X_scaled)\n",
    "X_scaled = pd.DataFrame(X_scaled, columns=X_train.columns)\n",
    "X_scaled.hist(figsize=(25,25), bins=50)"
   ]
  },
  {
   "cell_type": "markdown",
   "id": "644850a4",
   "metadata": {},
   "source": [
    "Po použití StandardScaling vidíme graf, že priemer údajov je viac vycentrovaný, ale distribúcia je stále zachovaná."
   ]
  },
  {
   "cell_type": "markdown",
   "id": "919955df",
   "metadata": {},
   "source": [
    "### Normálizovanie distribúcia údajov"
   ]
  },
  {
   "cell_type": "markdown",
   "id": "841bd7bd",
   "metadata": {},
   "source": [
    "Normalizácia pomocou PowerTransformer zaisťuje, že transformované údaje sú následne škálované tak, aby mali nulový priemer a jednotkový rozptyl a tiež aby boli naše údaje viac gaussovské."
   ]
  },
  {
   "cell_type": "code",
   "execution_count": null,
   "id": "9327104c",
   "metadata": {},
   "outputs": [],
   "source": [
    "power = PowerTransformer(method='yeo-johnson', standardize=True) \n",
    "X_new = power.fit_transform(X_scaled)\n",
    "X_new = pd.DataFrame(X_new, columns=X_train.columns)\n",
    "X_new.hist(figsize=(25,25), bins=50)"
   ]
  },
  {
   "cell_type": "markdown",
   "id": "877644ba",
   "metadata": {},
   "source": [
    "Na grafe vidíme, že na strane sú veľké extrémne hodnoty, chceme naše dáta zjednotiť pomocou PowerTransformaer a yeo-johnsonovej metódy. Vďaka tomu bude distribúcia našich údajov gaussovskejšia. Ako vidíme, takmer všetky naše údaje začínajú vyzerať ako gaussovská krivka."
   ]
  },
  {
   "cell_type": "markdown",
   "id": "41ef2458",
   "metadata": {},
   "source": [
    "### Quantile transformer"
   ]
  },
  {
   "cell_type": "markdown",
   "id": "b6058a4f",
   "metadata": {},
   "source": [
    "Pomocou kvantilového transformátora transformujeme vlastnosti tak, aby sledovali rovnomernejšie a normálnejšie rozloženie."
   ]
  },
  {
   "cell_type": "code",
   "execution_count": null,
   "id": "65f127e9",
   "metadata": {},
   "outputs": [],
   "source": [
    "quantile = QuantileTransformer(output_distribution='normal')\n",
    "X_new = quantile.fit_transform(X_new)\n",
    "X_new = pd.DataFrame(X_new, columns=X_train.columns)\n",
    "X_new.hist(figsize=(25,25), bins=50)"
   ]
  },
  {
   "cell_type": "markdown",
   "id": "ee416d87",
   "metadata": {},
   "source": [
    "Ako vidíme na histogramoch, takmer všetky údaje sú ako gaussovské, to znamená, že existuje malý alebo žiadny rozdiel v distribúcii každého prvku."
   ]
  },
  {
   "cell_type": "markdown",
   "id": "70c6c9ce",
   "metadata": {},
   "source": [
    "### Feature selection"
   ]
  },
  {
   "cell_type": "code",
   "execution_count": null,
   "id": "df596694-a107-42dc-977b-7da933ef5109",
   "metadata": {},
   "outputs": [],
   "source": [
    "transform = SelectKBest(mutual_info_regression, k=10)\n",
    "transform.fit_transform( X_new, y_train)\n",
    "result=pd.DataFrame({'column_name':X_train.columns, 'column_score':transform.scores_})\n",
    "result.sort_values('column_score', ascending=False).head(10)"
   ]
  },
  {
   "cell_type": "markdown",
   "id": "365afa41-ec34-426c-9e7d-76dcad056e07",
   "metadata": {},
   "source": [
    "Podľa výsledkov môžeme vidieť, že prvé 3 atribúty majú omnoho vyššie skore ako ostatné, štvrtý má tiež vyššie oproti ostatným, ale porovnateľne nižsie ako spomínané 3 atribúty"
   ]
  },
  {
   "cell_type": "code",
   "execution_count": null,
   "id": "5ee77204-a80e-45dc-8eb8-a119e4ab7812",
   "metadata": {},
   "outputs": [],
   "source": [
    "transform2 = SelectKBest(f_regression, k=10)\n",
    "transform2.fit_transform( X_new, y_train)\n",
    "result2=pd.DataFrame({'column_name':X_train.columns, 'column_score':transform2.scores_})\n",
    "result2.sort_values('column_score', ascending=False).head(10)"
   ]
  },
  {
   "cell_type": "markdown",
   "id": "0a9285e3-2253-4933-b050-7bb305715bb5",
   "metadata": {},
   "source": [
    "Podľa výsledkov môžeme vidieť, že prvé 3 atribúty majú omnoho vyššie skore ako ostatné, štvrtý má tiež vyššie oproti ostatným, ale porovnateľne nižsie ako spomínané 3 atribúty"
   ]
  },
  {
   "cell_type": "code",
   "execution_count": null,
   "id": "98424b88-544a-4990-8d54-3024682aaae3",
   "metadata": {},
   "outputs": [],
   "source": [
    "lsvc = LinearSVC(C=0.01, penalty=\"l1\", dual=False).fit( X_new, y_train)\n",
    "selector = SelectFromModel(estimator=lsvc, prefit=True)\n",
    "pd.DataFrame({'attr':X_train.columns, 'score':lsvc.coef_[0]}).sort_values('score', ascending=False).head(10)"
   ]
  },
  {
   "cell_type": "markdown",
   "id": "8ad6a694-9264-4ad8-a664-fb02beace80a",
   "metadata": {},
   "source": [
    "Podľa výsledkov môžeme vidieť, že prvé 2 atribúty majú omnoho vyššie skore ako ostatné, tretí, štvrtý a piaty má tiež vyššie oproti ostatným, ale porovnateľne nižsie ako spomínané 2 atribúty"
   ]
  },
  {
   "cell_type": "code",
   "execution_count": null,
   "id": "897f73db-dec1-4ce9-9ef6-245230cc551a",
   "metadata": {},
   "outputs": [],
   "source": [
    "selector = SelectFromModel(estimator=LogisticRegression()).fit( X_new, y_train)\n",
    "result3=pd.DataFrame({'column_name':X_train.columns, 'column_score':selector.estimator_.coef_[0]})\n",
    "result3.sort_values('column_score', ascending=False).head(10)"
   ]
  },
  {
   "cell_type": "markdown",
   "id": "a9a5b5fe-e8e2-4968-9a1c-58979b0bcb64",
   "metadata": {},
   "source": [
    "Podľa výsledkov môžeme vidieť, že prvé 2 atribúty majú omnoho vyššie skore ako ostatné, tretí, prípadne štvrtý má tiež vyššie oproti ostatným, ale porovnateľne nižsie ako spomínané 2 atribúty"
   ]
  },
  {
   "cell_type": "markdown",
   "id": "9acebee9-9008-426c-9ff0-41ad9089b96a",
   "metadata": {},
   "source": [
    "Z výsledkov môžeme vidieť, že najdôležitejšie atribúty sú pct_clic a mouse_move_total_rel_distance, kedže mali vo všetkých výsledkoch výrazne vyššie skore. Do úvahy môžem zobrať aj atribúť scroll_move_total_rel_distance, kedže tiež mal vyššie skore v vačšine testov. Poradie by som určila takéto:\n",
    "1. pct_clic\n",
    "2.  mouse_move_total_rel_distance\n",
    "3.  scroll_move_total_rel_distance"
   ]
  },
  {
   "cell_type": "markdown",
   "id": "70ae9373",
   "metadata": {},
   "source": [
    "### Predspracovanie pomocou pipelines"
   ]
  },
  {
   "cell_type": "markdown",
   "id": "9839b208",
   "metadata": {},
   "source": [
    "Aby sme zrefaktorovali naše spracovanie údajov, najskôr použijeme techniky čistenia údajov, ktoré sme robili predtým. Tieto kroky boli zhrnuté vo funkcii data_correction. Tu odstránime nepotrebné duplikáty používateľov a sessions, vypočítame vek používateľov, kódovanie stĺpcov a vynechanie nepotrebných stĺpcov.\n",
    "\n",
    "Vytvorenie pipelinu pozostáva zo štyroch krokov:\n",
    "- Handlovanie outlierov:<br>\n",
    "Táto funkcia umožňuje rôzne stratégie na správu odľahlých hodnôt v množine údajov.\n",
    "  - Ak je outlier_handling nastavené na 'remove', používa metódu Local Outlier Factor na identifikáciu a odstránenie odľahlých hodnôt z číselných stĺpcov.\n",
    "  - Ak je nastavené na 'quantile', použije sa vlastná metóda delete_outliers_quantile (nie je definovaná v úryvku), pravdepodobne na spracovanie odľahlých hodnôt na základe kvantilových prahov.\n",
    "  - Možnosť 'keep' ponecháva odľahlé hodnoty nedotknuté.\n",
    "<br>\n",
    "- Konfigurácia imputera:<br>\n",
    "Funkcia skontroluje platné hodnoty imputer_type ('priemer', 'medián' alebo 'najčastejšie') a vyvolá chybu pre neplatné vstupy.\n",
    "Konfiguruje imputer na doplnenie chýbajúcich hodnôt podľa zadanej stratégie.\n",
    "\n",
    "- Kódovanie kategorických stĺpcov:<br>\n",
    "Ak má hodnota encode_categorical_columns hodnotu True, funkcia použije jednorazové kódovanie na kategorické stĺpce.\n",
    "Toto je ďalej spresnené, ak je špecifikovaný only_columns, čím sa zabezpečí, že kódovanie sa použije iba na určené stĺpce.\n",
    "\n",
    "- Configuracia pipelinu: <br>\n",
    "Funkcia vytvára objekt Pipeline, pričom postupne pridáva kroky pre jednorazové kódovanie (podmienené), imputáciu, škálovanie (pomocou MinMaxScaler), štandardizáciu (pomocou StandardScaler),  PowerTransformer a kvantilovú transformáciu (pomocou QuantileTransformer)."
   ]
  },
  {
   "cell_type": "code",
   "execution_count": null,
   "id": "d6d9ccef",
   "metadata": {},
   "outputs": [],
   "source": [
    "products = pd.read_csv(\"data/product.csv\", sep='\\t')\n",
    "sessions = pd.read_csv(\"data/session.csv\", sep='\\t')\n",
    "users = pd.read_csv(\"data/user.csv\", sep='\\t')\n",
    "\n",
    "users = users.drop_duplicates(subset='user_id', keep='first')\n",
    "users['race'] = users['race'].fillna('unspecified')\n",
    "users['birthdate'] = pd.to_datetime(users['birthdate'], errors='coerce')\n",
    "sessions['ack']=sessions['ack'].astype(int)\n",
    "duplikatne_riadky = sessions[sessions.duplicated()]\n",
    "sessions.drop_duplicates(inplace=True)\n",
    "sessions['session_start'] = pd.to_datetime(sessions['session_start'], errors='coerce')\n",
    "\n",
    "merged_data = pd.merge(sessions, users, on='user_id', how='left')\n",
    "\n",
    "\n",
    "def data_correction(merged_data):\n",
    "    merged_data['age'] = ((datetime.now() - merged_data['birthdate']).dt.days / 365.25)\n",
    "    merged_data['age'] = merged_data['age'].round()\n",
    "    mean_age = merged_data['age'].mean()\n",
    "    merged_data['age'].fillna(mean_age, inplace=True)\n",
    "    merged_data['age'] = merged_data['age'].round().astype(int)\n",
    "\n",
    "    if 'username' in merged_data.columns:\n",
    "        merged_data.drop('username', axis='columns', inplace=True)\n",
    "    if 'residence' in merged_data.columns:\n",
    "        merged_data.drop('residence', axis='columns', inplace=True)\n",
    "    if 'current_location' in merged_data.columns:\n",
    "        merged_data.drop('current_location', axis='columns', inplace=True)\n",
    "    if 'name' in merged_data.columns:\n",
    "        merged_data.drop('name', axis='columns', inplace=True)\n",
    "    if 'mail' in merged_data.columns:\n",
    "        merged_data.drop('mail', axis='columns', inplace=True)\n",
    "    if 'address' in merged_data.columns:\n",
    "        merged_data.drop('address', axis='columns', inplace=True)\n",
    "    if 'birthdate' in merged_data.columns:\n",
    "        merged_data.drop('birthdate', axis='columns', inplace=True)\n",
    "    if 'session_start' in merged_data.columns:\n",
    "        merged_data.drop('session_start', axis='columns', inplace=True)\n",
    "    if 'sex' in merged_data.columns:\n",
    "        merged_data.drop('sex', axis='columns', inplace=True)\n",
    "\n",
    "    merged_data['race'] = merged_data['race'].fillna('unspecified')\n",
    "    merged_data['job'] = merged_data['job'].fillna('unspecified')\n",
    "    merged_data=replaceNaNmedian(merged_data)\n",
    "\n",
    "    ce_ordinal = ce.OrdinalEncoder(cols=['race'])\n",
    "    merged_data= ce_ordinal.fit_transform(merged_data)\n",
    "    ce_ordinal = ce.OrdinalEncoder(cols=['job'])\n",
    "    merged_data= ce_ordinal.fit_transform(merged_data)\n",
    "    ce_ordinal = ce.OrdinalEncoder(cols=['browser_name'])\n",
    "    merged_data= ce_ordinal.fit_transform(merged_data)\n",
    "    ce_ordinal = ce.OrdinalEncoder(cols=['screen_height'])\n",
    "    merged_data= ce_ordinal.fit_transform(merged_data)\n",
    "    ce_ordinal = ce.OrdinalEncoder(cols=['screen_width'])\n",
    "    merged_data= ce_ordinal.fit_transform(merged_data)\n",
    "\n",
    "    return merged_data\n",
    "\n",
    "merged_data = data_correction(merged_data)\n",
    "\n",
    "def create_preprocessor(outlier_handling, imputer_type, encode_categorical_columns, only_columns, data):\n",
    "    \n",
    "    # Outlier detection\n",
    "    if outlier_handling == 'remove':\n",
    "        lof = LocalOutlierFactor()\n",
    "        outliers = lof.fit_predict(data.select_dtypes(include=['number']))\n",
    "        data = data[outliers != -1]\n",
    "        if only_columns is not None:\n",
    "            data = data[outliers != -1]\n",
    "            data = data[only_columns]\n",
    "    elif outlier_handling == 'keep':\n",
    "        pass\n",
    "    elif outlier_handling == 'quantile':\n",
    "        data = delete_outliers_quantile(data)\n",
    "\n",
    "    # Imputer configuration\n",
    "    if imputer_type not in ['mean', 'median', 'most_frequent']:\n",
    "        raise ValueError(\"Invalid imputer_type value. Use 'mean', 'median', or 'most_frequent'.\")\n",
    "\n",
    "    pipeline = Pipeline(steps=[])\n",
    "\n",
    "    if encode_categorical_columns:\n",
    "        columns = data.select_dtypes(include=['object']).columns\n",
    "        if only_columns is not None:\n",
    "            for column in columns:\n",
    "                if column not in only_columns:\n",
    "                    columns = columns.drop(column)\n",
    "\n",
    "        pipeline.steps.append(('onehot', ColumnTransformer([(\"onehot\", OneHotEncoder(), make_column_selector(dtype_include='object'))], remainder='passthrough')))\n",
    "      \n",
    "    \n",
    "    pipeline.steps.append(('imputer', SimpleImputer(strategy=imputer_type)))\n",
    "    pipeline.steps.append(('scaler', MinMaxScaler()))\n",
    "    pipeline.steps.append(('standard', StandardScaler()))\n",
    "    pipeline.steps.append(('power', PowerTransformer(method='yeo-johnson', standardize=True)))\n",
    "    pipeline.steps.append(('quantile', QuantileTransformer(output_distribution='normal')))\n",
    "\n",
    "    return pipeline\n",
    "\n",
    "features = merged_data.drop('ack', axis=1)\n",
    "target = merged_data['ack']\n",
    "\n",
    "X_train, X_test, y_train, y_test = train_test_split(features, target, test_size=0.2, random_state=42)\n",
    "\n",
    "preprocessor = create_preprocessor('quantile', 'median', True, None, X_test)\n",
    "X_test\n",
    "X_encoded = preprocessor.fit_transform(X_test)\n",
    "X_encoded\n"
   ]
  },
  {
   "cell_type": "code",
   "execution_count": null,
   "id": "aa0301b2-5538-4705-adb3-0309e242ef9f",
   "metadata": {},
   "outputs": [],
   "source": [
    "X_train.to_csv('trenovaci.csv', index=False)"
   ]
  },
  {
   "cell_type": "code",
   "execution_count": null,
   "id": "62a12ee5-e887-456c-a555-bf943242b97c",
   "metadata": {},
   "outputs": [],
   "source": []
  }
 ],
 "metadata": {
  "kernelspec": {
   "display_name": "Python 3 (ipykernel)",
   "language": "python",
   "name": "python3"
  },
  "language_info": {
   "codemirror_mode": {
    "name": "ipython",
    "version": 3
   },
   "file_extension": ".py",
   "mimetype": "text/x-python",
   "name": "python",
   "nbconvert_exporter": "python",
   "pygments_lexer": "ipython3",
   "version": "3.10.7"
  }
 },
 "nbformat": 4,
 "nbformat_minor": 5
}

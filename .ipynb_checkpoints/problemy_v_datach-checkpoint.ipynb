{
 "cells": [
  {
   "cell_type": "code",
   "execution_count": 1,
   "id": "64608be8-a8d5-4727-8c12-e5166215a5b3",
   "metadata": {},
   "outputs": [],
   "source": [
    "import pandas as pd\n",
    "import numpy as np\n",
    "import matplotlib.pyplot as plt\n",
    "import seaborn as sns\n",
    "import scipy.stats as stats\n",
    "import statsmodels.api as sm"
   ]
  },
  {
   "cell_type": "code",
   "execution_count": 2,
   "id": "fa18bb85-024b-4e1c-ba21-0938f39055d4",
   "metadata": {},
   "outputs": [],
   "source": [
    "products = pd.read_csv(\"data/product.csv\", sep='\\t')\n",
    "sessions = pd.read_csv(\"data/session.csv\", sep='\\t')\n",
    "users = pd.read_csv(\"data/user.csv\", sep='\\t')"
   ]
  },
  {
   "cell_type": "code",
   "execution_count": 3,
   "id": "847f7b5c-6759-4782-b3ec-197413b0ea33",
   "metadata": {},
   "outputs": [
    {
     "data": {
      "text/html": [
       "<div>\n",
       "<style scoped>\n",
       "    .dataframe tbody tr th:only-of-type {\n",
       "        vertical-align: middle;\n",
       "    }\n",
       "\n",
       "    .dataframe tbody tr th {\n",
       "        vertical-align: top;\n",
       "    }\n",
       "\n",
       "    .dataframe thead th {\n",
       "        text-align: right;\n",
       "    }\n",
       "</style>\n",
       "<table border=\"1\" class=\"dataframe\">\n",
       "  <thead>\n",
       "    <tr style=\"text-align: right;\">\n",
       "      <th></th>\n",
       "      <th>username</th>\n",
       "      <th>residence</th>\n",
       "      <th>current_location</th>\n",
       "      <th>name</th>\n",
       "      <th>mail</th>\n",
       "      <th>job</th>\n",
       "      <th>sex</th>\n",
       "      <th>race</th>\n",
       "      <th>address</th>\n",
       "      <th>birthdate</th>\n",
       "      <th>user_id</th>\n",
       "    </tr>\n",
       "  </thead>\n",
       "  <tbody>\n",
       "    <tr>\n",
       "      <th>0</th>\n",
       "      <td>gabrieladas-neves</td>\n",
       "      <td>NaN</td>\n",
       "      <td>(Decimal('-37.802134'), Decimal('79.453092'))</td>\n",
       "      <td>Sabrina da Luz</td>\n",
       "      <td>xda-cunha@yahoo.com.br</td>\n",
       "      <td>Engenheiro aeronáutico</td>\n",
       "      <td>NaN</td>\n",
       "      <td>NaN</td>\n",
       "      <td>Condomínio de Silva, 16\\r\\nNovo Ouro Preto\\r\\n...</td>\n",
       "      <td>NaN</td>\n",
       "      <td>640</td>\n",
       "    </tr>\n",
       "    <tr>\n",
       "      <th>1</th>\n",
       "      <td>ferreirajulia</td>\n",
       "      <td>NaN</td>\n",
       "      <td>(Decimal('4.633756'), Decimal('102.063245'))</td>\n",
       "      <td>Maria Vitória Mendes</td>\n",
       "      <td>catarinada-conceicao@gmail.com</td>\n",
       "      <td>Mãe social</td>\n",
       "      <td>F</td>\n",
       "      <td>black</td>\n",
       "      <td>Campo Eloah Ribeiro, 66\\r\\nEstrela Do Oriente\\...</td>\n",
       "      <td>1946-06-27</td>\n",
       "      <td>1222</td>\n",
       "    </tr>\n",
       "    <tr>\n",
       "      <th>2</th>\n",
       "      <td>isadora80</td>\n",
       "      <td>NaN</td>\n",
       "      <td>(Decimal('80.9854585'), Decimal('135.043616'))</td>\n",
       "      <td>Isabella Nascimento</td>\n",
       "      <td>maria-sophiasouza@ig.com.br</td>\n",
       "      <td>NaN</td>\n",
       "      <td>NaN</td>\n",
       "      <td>NaN</td>\n",
       "      <td>Viela da Luz\\r\\nConjunto Santa Maria\\r\\n923541...</td>\n",
       "      <td>1940-12-01</td>\n",
       "      <td>298</td>\n",
       "    </tr>\n",
       "    <tr>\n",
       "      <th>3</th>\n",
       "      <td>adriana04</td>\n",
       "      <td>NaN</td>\n",
       "      <td>(Decimal('67.6271835'), Decimal('-41.336778'))</td>\n",
       "      <td>Daria Boldù</td>\n",
       "      <td>ngaleati@alice.it</td>\n",
       "      <td>NaN</td>\n",
       "      <td>NaN</td>\n",
       "      <td>NaN</td>\n",
       "      <td>Vicolo Sophia, 452 Piano 7\\r\\n26843, Meleti (LO)</td>\n",
       "      <td>1958-02-01</td>\n",
       "      <td>316</td>\n",
       "    </tr>\n",
       "    <tr>\n",
       "      <th>4</th>\n",
       "      <td>kellygreg</td>\n",
       "      <td>NaN</td>\n",
       "      <td>(Decimal('39.336945'), Decimal('120.879401'))</td>\n",
       "      <td>Sandra Jenkins</td>\n",
       "      <td>danieljordan@yahoo.com</td>\n",
       "      <td>Fine artist</td>\n",
       "      <td>NaN</td>\n",
       "      <td>NaN</td>\n",
       "      <td>31740 Maria Stravenue Apt. 240\\r\\nLake Rodneyf...</td>\n",
       "      <td>1997-05-26</td>\n",
       "      <td>1992</td>\n",
       "    </tr>\n",
       "  </tbody>\n",
       "</table>\n",
       "</div>"
      ],
      "text/plain": [
       "            username residence  \\\n",
       "0  gabrieladas-neves       NaN   \n",
       "1      ferreirajulia       NaN   \n",
       "2          isadora80       NaN   \n",
       "3          adriana04       NaN   \n",
       "4          kellygreg       NaN   \n",
       "\n",
       "                                 current_location                  name  \\\n",
       "0   (Decimal('-37.802134'), Decimal('79.453092'))        Sabrina da Luz   \n",
       "1    (Decimal('4.633756'), Decimal('102.063245'))  Maria Vitória Mendes   \n",
       "2  (Decimal('80.9854585'), Decimal('135.043616'))   Isabella Nascimento   \n",
       "3  (Decimal('67.6271835'), Decimal('-41.336778'))           Daria Boldù   \n",
       "4   (Decimal('39.336945'), Decimal('120.879401'))        Sandra Jenkins   \n",
       "\n",
       "                             mail                     job  sex   race  \\\n",
       "0          xda-cunha@yahoo.com.br  Engenheiro aeronáutico  NaN    NaN   \n",
       "1  catarinada-conceicao@gmail.com              Mãe social    F  black   \n",
       "2     maria-sophiasouza@ig.com.br                     NaN  NaN    NaN   \n",
       "3               ngaleati@alice.it                     NaN  NaN    NaN   \n",
       "4          danieljordan@yahoo.com             Fine artist  NaN    NaN   \n",
       "\n",
       "                                             address   birthdate  user_id  \n",
       "0  Condomínio de Silva, 16\\r\\nNovo Ouro Preto\\r\\n...         NaN      640  \n",
       "1  Campo Eloah Ribeiro, 66\\r\\nEstrela Do Oriente\\...  1946-06-27     1222  \n",
       "2  Viela da Luz\\r\\nConjunto Santa Maria\\r\\n923541...  1940-12-01      298  \n",
       "3   Vicolo Sophia, 452 Piano 7\\r\\n26843, Meleti (LO)  1958-02-01      316  \n",
       "4  31740 Maria Stravenue Apt. 240\\r\\nLake Rodneyf...  1997-05-26     1992  "
      ]
     },
     "execution_count": 3,
     "metadata": {},
     "output_type": "execute_result"
    }
   ],
   "source": [
    "users.head()"
   ]
  },
  {
   "cell_type": "code",
   "execution_count": 4,
   "id": "546e64a9-f555-4eb8-bc08-b30a0309a2da",
   "metadata": {},
   "outputs": [
    {
     "name": "stdout",
     "output_type": "stream",
     "text": [
      "<class 'pandas.core.frame.DataFrame'>\n",
      "RangeIndex: 2538 entries, 0 to 2537\n",
      "Data columns (total 11 columns):\n",
      " #   Column            Non-Null Count  Dtype \n",
      "---  ------            --------------  ----- \n",
      " 0   username          2538 non-null   object\n",
      " 1   residence         888 non-null    object\n",
      " 2   current_location  2411 non-null   object\n",
      " 3   name              2538 non-null   object\n",
      " 4   mail              2538 non-null   object\n",
      " 5   job               1015 non-null   object\n",
      " 6   sex               1269 non-null   object\n",
      " 7   race              761 non-null    object\n",
      " 8   address           2157 non-null   object\n",
      " 9   birthdate         1396 non-null   object\n",
      " 10  user_id           2538 non-null   int64 \n",
      "dtypes: int64(1), object(10)\n",
      "memory usage: 218.2+ KB\n"
     ]
    }
   ],
   "source": [
    "users.info()"
   ]
  },
  {
   "cell_type": "code",
   "execution_count": 5,
   "id": "3c3fc37a-48dc-4633-8e43-98d2a70151e7",
   "metadata": {},
   "outputs": [
    {
     "data": {
      "text/html": [
       "<div>\n",
       "<style scoped>\n",
       "    .dataframe tbody tr th:only-of-type {\n",
       "        vertical-align: middle;\n",
       "    }\n",
       "\n",
       "    .dataframe tbody tr th {\n",
       "        vertical-align: top;\n",
       "    }\n",
       "\n",
       "    .dataframe thead th {\n",
       "        text-align: right;\n",
       "    }\n",
       "</style>\n",
       "<table border=\"1\" class=\"dataframe\">\n",
       "  <thead>\n",
       "    <tr style=\"text-align: right;\">\n",
       "      <th></th>\n",
       "      <th>pct_wild_mouse</th>\n",
       "      <th>screen_height</th>\n",
       "      <th>pct_input</th>\n",
       "      <th>pct_scrandom</th>\n",
       "      <th>pct_scroll_move</th>\n",
       "      <th>pct_click_product_info</th>\n",
       "      <th>wild_mouse_duration</th>\n",
       "      <th>session_start</th>\n",
       "      <th>total_load_time</th>\n",
       "      <th>pct_click</th>\n",
       "      <th>...</th>\n",
       "      <th>session_id</th>\n",
       "      <th>pct_scroll_move_duration</th>\n",
       "      <th>ack</th>\n",
       "      <th>scroll_move_total_rel_distance</th>\n",
       "      <th>page_activity_duration</th>\n",
       "      <th>mouse_move_total_rel_distance</th>\n",
       "      <th>browser_name</th>\n",
       "      <th>pct_rage_click</th>\n",
       "      <th>session_duration</th>\n",
       "      <th>pct_mouse_click</th>\n",
       "    </tr>\n",
       "  </thead>\n",
       "  <tbody>\n",
       "    <tr>\n",
       "      <th>0</th>\n",
       "      <td>33.93175</td>\n",
       "      <td>600</td>\n",
       "      <td>2.02433</td>\n",
       "      <td>47.57172</td>\n",
       "      <td>77.67966</td>\n",
       "      <td>50.06169</td>\n",
       "      <td>16.15405</td>\n",
       "      <td>2022-04-16 18:13:19</td>\n",
       "      <td>3.66109</td>\n",
       "      <td>15.21849</td>\n",
       "      <td>...</td>\n",
       "      <td>341891</td>\n",
       "      <td>17.64845</td>\n",
       "      <td>0.0</td>\n",
       "      <td>13.31028</td>\n",
       "      <td>15.50704</td>\n",
       "      <td>16.78128</td>\n",
       "      <td>safari</td>\n",
       "      <td>73.88232</td>\n",
       "      <td>93.50794</td>\n",
       "      <td>NaN</td>\n",
       "    </tr>\n",
       "    <tr>\n",
       "      <th>1</th>\n",
       "      <td>35.01962</td>\n",
       "      <td>768</td>\n",
       "      <td>2.73613</td>\n",
       "      <td>44.98978</td>\n",
       "      <td>40.38256</td>\n",
       "      <td>53.78582</td>\n",
       "      <td>16.44725</td>\n",
       "      <td>2022-09-07 09:34:07</td>\n",
       "      <td>3.06183</td>\n",
       "      <td>17.79744</td>\n",
       "      <td>...</td>\n",
       "      <td>1302699</td>\n",
       "      <td>16.90542</td>\n",
       "      <td>1.0</td>\n",
       "      <td>18.33657</td>\n",
       "      <td>15.76245</td>\n",
       "      <td>16.67535</td>\n",
       "      <td>firefox</td>\n",
       "      <td>36.27018</td>\n",
       "      <td>83.05534</td>\n",
       "      <td>15.63971</td>\n",
       "    </tr>\n",
       "    <tr>\n",
       "      <th>2</th>\n",
       "      <td>61.41151</td>\n",
       "      <td>800</td>\n",
       "      <td>2.30551</td>\n",
       "      <td>56.16179</td>\n",
       "      <td>29.32719</td>\n",
       "      <td>61.74431</td>\n",
       "      <td>16.28032</td>\n",
       "      <td>2022-08-01 19:22:50</td>\n",
       "      <td>4.30491</td>\n",
       "      <td>16.56530</td>\n",
       "      <td>...</td>\n",
       "      <td>1346090</td>\n",
       "      <td>20.42301</td>\n",
       "      <td>1.0</td>\n",
       "      <td>7.24767</td>\n",
       "      <td>15.94806</td>\n",
       "      <td>17.84916</td>\n",
       "      <td>opera</td>\n",
       "      <td>44.07316</td>\n",
       "      <td>212.16973</td>\n",
       "      <td>13.54653</td>\n",
       "    </tr>\n",
       "    <tr>\n",
       "      <th>3</th>\n",
       "      <td>44.86510</td>\n",
       "      <td>600</td>\n",
       "      <td>4.67376</td>\n",
       "      <td>51.02882</td>\n",
       "      <td>57.35852</td>\n",
       "      <td>44.10727</td>\n",
       "      <td>16.97307</td>\n",
       "      <td>2020-03-28 06:00:21</td>\n",
       "      <td>2.66177</td>\n",
       "      <td>14.10738</td>\n",
       "      <td>...</td>\n",
       "      <td>320000</td>\n",
       "      <td>19.13251</td>\n",
       "      <td>0.0</td>\n",
       "      <td>9.27093</td>\n",
       "      <td>17.21545</td>\n",
       "      <td>15.85436</td>\n",
       "      <td>edge</td>\n",
       "      <td>61.91555</td>\n",
       "      <td>62.13615</td>\n",
       "      <td>14.83673</td>\n",
       "    </tr>\n",
       "    <tr>\n",
       "      <th>4</th>\n",
       "      <td>61.66559</td>\n",
       "      <td>800</td>\n",
       "      <td>6.29241</td>\n",
       "      <td>33.35663</td>\n",
       "      <td>50.05876</td>\n",
       "      <td>36.03935</td>\n",
       "      <td>17.26692</td>\n",
       "      <td>2023-02-12 18:25:13</td>\n",
       "      <td>3.67287</td>\n",
       "      <td>19.04736</td>\n",
       "      <td>...</td>\n",
       "      <td>291366</td>\n",
       "      <td>13.65667</td>\n",
       "      <td>0.0</td>\n",
       "      <td>19.71573</td>\n",
       "      <td>17.01892</td>\n",
       "      <td>16.65385</td>\n",
       "      <td>chrome</td>\n",
       "      <td>21.36066</td>\n",
       "      <td>157.60814</td>\n",
       "      <td>15.17088</td>\n",
       "    </tr>\n",
       "  </tbody>\n",
       "</table>\n",
       "<p>5 rows × 25 columns</p>\n",
       "</div>"
      ],
      "text/plain": [
       "   pct_wild_mouse screen_height  pct_input  pct_scrandom  pct_scroll_move  \\\n",
       "0        33.93175           600    2.02433      47.57172         77.67966   \n",
       "1        35.01962           768    2.73613      44.98978         40.38256   \n",
       "2        61.41151           800    2.30551      56.16179         29.32719   \n",
       "3        44.86510           600    4.67376      51.02882         57.35852   \n",
       "4        61.66559           800    6.29241      33.35663         50.05876   \n",
       "\n",
       "   pct_click_product_info  wild_mouse_duration        session_start  \\\n",
       "0                50.06169             16.15405  2022-04-16 18:13:19   \n",
       "1                53.78582             16.44725  2022-09-07 09:34:07   \n",
       "2                61.74431             16.28032  2022-08-01 19:22:50   \n",
       "3                44.10727             16.97307  2020-03-28 06:00:21   \n",
       "4                36.03935             17.26692  2023-02-12 18:25:13   \n",
       "\n",
       "   total_load_time  pct_click  ... session_id  pct_scroll_move_duration  ack  \\\n",
       "0          3.66109   15.21849  ...     341891                  17.64845  0.0   \n",
       "1          3.06183   17.79744  ...    1302699                  16.90542  1.0   \n",
       "2          4.30491   16.56530  ...    1346090                  20.42301  1.0   \n",
       "3          2.66177   14.10738  ...     320000                  19.13251  0.0   \n",
       "4          3.67287   19.04736  ...     291366                  13.65667  0.0   \n",
       "\n",
       "   scroll_move_total_rel_distance  page_activity_duration  \\\n",
       "0                        13.31028                15.50704   \n",
       "1                        18.33657                15.76245   \n",
       "2                         7.24767                15.94806   \n",
       "3                         9.27093                17.21545   \n",
       "4                        19.71573                17.01892   \n",
       "\n",
       "   mouse_move_total_rel_distance  browser_name  pct_rage_click  \\\n",
       "0                       16.78128        safari        73.88232   \n",
       "1                       16.67535       firefox        36.27018   \n",
       "2                       17.84916         opera        44.07316   \n",
       "3                       15.85436          edge        61.91555   \n",
       "4                       16.65385        chrome        21.36066   \n",
       "\n",
       "   session_duration  pct_mouse_click  \n",
       "0          93.50794              NaN  \n",
       "1          83.05534         15.63971  \n",
       "2         212.16973         13.54653  \n",
       "3          62.13615         14.83673  \n",
       "4         157.60814         15.17088  \n",
       "\n",
       "[5 rows x 25 columns]"
      ]
     },
     "execution_count": 5,
     "metadata": {},
     "output_type": "execute_result"
    }
   ],
   "source": [
    "sessions.head()"
   ]
  },
  {
   "cell_type": "code",
   "execution_count": 6,
   "id": "77a557e6-80ef-41b6-95fb-57ccfd644c21",
   "metadata": {},
   "outputs": [
    {
     "name": "stdout",
     "output_type": "stream",
     "text": [
      "<class 'pandas.core.frame.DataFrame'>\n",
      "RangeIndex: 11094 entries, 0 to 11093\n",
      "Data columns (total 25 columns):\n",
      " #   Column                          Non-Null Count  Dtype  \n",
      "---  ------                          --------------  -----  \n",
      " 0   pct_wild_mouse                  11083 non-null  float64\n",
      " 1   screen_height                   11094 non-null  object \n",
      " 2   pct_input                       11083 non-null  float64\n",
      " 3   pct_scrandom                    11083 non-null  float64\n",
      " 4   pct_scroll_move                 11083 non-null  float64\n",
      " 5   pct_click_product_info          11083 non-null  float64\n",
      " 6   wild_mouse_duration             11083 non-null  float64\n",
      " 7   session_start                   11094 non-null  object \n",
      " 8   total_load_time                 11094 non-null  float64\n",
      " 9   pct_click                       11083 non-null  float64\n",
      " 10  screen_width                    11094 non-null  object \n",
      " 11  pct_doubleclick                 11081 non-null  float64\n",
      " 12  product_ean                     11094 non-null  int64  \n",
      " 13  pct_mouse_move                  11083 non-null  float64\n",
      " 14  user_id                         11094 non-null  int64  \n",
      " 15  session_id                      11094 non-null  int64  \n",
      " 16  pct_scroll_move_duration        11082 non-null  float64\n",
      " 17  ack                             11094 non-null  float64\n",
      " 18  scroll_move_total_rel_distance  11083 non-null  float64\n",
      " 19  page_activity_duration          11082 non-null  float64\n",
      " 20  mouse_move_total_rel_distance   11083 non-null  float64\n",
      " 21  browser_name                    11094 non-null  object \n",
      " 22  pct_rage_click                  11083 non-null  float64\n",
      " 23  session_duration                11094 non-null  float64\n",
      " 24  pct_mouse_click                 11083 non-null  float64\n",
      "dtypes: float64(18), int64(3), object(4)\n",
      "memory usage: 2.1+ MB\n"
     ]
    }
   ],
   "source": [
    "sessions.info()"
   ]
  },
  {
   "cell_type": "code",
   "execution_count": 7,
   "id": "547dd12d-d6ab-4e99-8066-ea9c40c4ebf3",
   "metadata": {},
   "outputs": [
    {
     "data": {
      "text/html": [
       "<div>\n",
       "<style scoped>\n",
       "    .dataframe tbody tr th:only-of-type {\n",
       "        vertical-align: middle;\n",
       "    }\n",
       "\n",
       "    .dataframe tbody tr th {\n",
       "        vertical-align: top;\n",
       "    }\n",
       "\n",
       "    .dataframe thead th {\n",
       "        text-align: right;\n",
       "    }\n",
       "</style>\n",
       "<table border=\"1\" class=\"dataframe\">\n",
       "  <thead>\n",
       "    <tr style=\"text-align: right;\">\n",
       "      <th></th>\n",
       "      <th>code</th>\n",
       "      <th>location</th>\n",
       "      <th>store_name</th>\n",
       "      <th>product_ean</th>\n",
       "    </tr>\n",
       "  </thead>\n",
       "  <tbody>\n",
       "    <tr>\n",
       "      <th>0</th>\n",
       "      <td>HR</td>\n",
       "      <td>Europe/Zagreb</td>\n",
       "      <td>Split</td>\n",
       "      <td>3618641987900</td>\n",
       "    </tr>\n",
       "    <tr>\n",
       "      <th>1</th>\n",
       "      <td>CN</td>\n",
       "      <td>Asia/Shanghai</td>\n",
       "      <td>Heyuan</td>\n",
       "      <td>890698872559</td>\n",
       "    </tr>\n",
       "    <tr>\n",
       "      <th>2</th>\n",
       "      <td>NL</td>\n",
       "      <td>Europe/Amsterdam</td>\n",
       "      <td>Barneveld</td>\n",
       "      <td>2447491624236</td>\n",
       "    </tr>\n",
       "    <tr>\n",
       "      <th>3</th>\n",
       "      <td>MX</td>\n",
       "      <td>America/Mexico_City</td>\n",
       "      <td>Tuxtla</td>\n",
       "      <td>2920947188549</td>\n",
       "    </tr>\n",
       "    <tr>\n",
       "      <th>4</th>\n",
       "      <td>US</td>\n",
       "      <td>America/New_York</td>\n",
       "      <td>Sun City Center</td>\n",
       "      <td>4869841703558</td>\n",
       "    </tr>\n",
       "  </tbody>\n",
       "</table>\n",
       "</div>"
      ],
      "text/plain": [
       "  code             location       store_name    product_ean\n",
       "0   HR        Europe/Zagreb            Split  3618641987900\n",
       "1   CN        Asia/Shanghai           Heyuan   890698872559\n",
       "2   NL     Europe/Amsterdam        Barneveld  2447491624236\n",
       "3   MX  America/Mexico_City           Tuxtla  2920947188549\n",
       "4   US     America/New_York  Sun City Center  4869841703558"
      ]
     },
     "execution_count": 7,
     "metadata": {},
     "output_type": "execute_result"
    }
   ],
   "source": [
    "products.head()"
   ]
  },
  {
   "cell_type": "code",
   "execution_count": 8,
   "id": "9cfeedf4-f219-4f0f-9026-9d92e14ee8cb",
   "metadata": {},
   "outputs": [
    {
     "name": "stdout",
     "output_type": "stream",
     "text": [
      "<class 'pandas.core.frame.DataFrame'>\n",
      "RangeIndex: 14962 entries, 0 to 14961\n",
      "Data columns (total 4 columns):\n",
      " #   Column       Non-Null Count  Dtype \n",
      "---  ------       --------------  ----- \n",
      " 0   code         14948 non-null  object\n",
      " 1   location     14962 non-null  object\n",
      " 2   store_name   14962 non-null  object\n",
      " 3   product_ean  14962 non-null  int64 \n",
      "dtypes: int64(1), object(3)\n",
      "memory usage: 467.7+ KB\n"
     ]
    }
   ],
   "source": [
    "products.info()"
   ]
  },
  {
   "cell_type": "markdown",
   "id": "abf1b5b0-4a0f-47f1-a8fd-8647e79d4ee7",
   "metadata": {},
   "source": [
    "**Identifikácia problémov v dátach s prvotným riešením**"
   ]
  },
  {
   "cell_type": "markdown",
   "id": "9c703995-82e9-4787-afb5-fe805018a52f",
   "metadata": {},
   "source": [
    "**Nájdené chyby v datasete**<br />\n",
    "*V datasete users:*<br />\n",
    "1. V stlpci race sa nachádza hodnota \"unspecified\" a aj NaN, čo v tomto kontexte je to isté<br />\n",
    "2. Dátum je vo formáte object, nie v dátumovom, aj ked sa to nepovažuje za chybu, plánujem to zmeniť kvôli jednoduchšej práci v budúcnosti s týmto atribútom<br />"
   ]
  },
  {
   "cell_type": "markdown",
   "id": "5ca2b269-09da-42fd-a90e-760a8723e71a",
   "metadata": {},
   "source": [
    "*V datasete session*<br />\n",
    "1. Stlpec ack je vo formáte float a nie int, čo je zbytočné\n",
    "2. Nachádzajú sa tu duplikáty \n",
    "3. Dátum je vo formáte object, nie v dátumovom, aj ked sa to nepovažuje za chybu, plánujem to zmeniť kvôli jednoduchšej práci v budúcnosti s týmto atribútom "
   ]
  },
  {
   "cell_type": "markdown",
   "id": "14b84bc9-01ba-41e6-b1ba-7073881f6502",
   "metadata": {},
   "source": [
    "*V datasete products som nenašla žiadne*"
   ]
  },
  {
   "cell_type": "markdown",
   "id": "eb6c59b6-87fa-4dce-a89f-114531b7669b",
   "metadata": {},
   "source": [
    "**Nájdené chyby, ale zatiaľ to nepotrebujeme meniť alebo je ich zbytočné meniť**"
   ]
  },
  {
   "cell_type": "markdown",
   "id": "3ecf97a5-bdd0-4c9f-a217-80b31895ef8f",
   "metadata": {},
   "source": [
    "1. Adresa v datasete users je v rôzdnych formátoch, pretože že užívatelia sú z rôzdnych krajín = nepoužiteľný atribút, rovnako atribút residence\n",
    "2. V datasete products v určitých záznamoch je atribút code NaN, preto bude ťažšie a nepresnejšie určiť, či niektoré krajiny nenakupovali viac ako iné, nie sme si istí, či sa budú dať NaN v tomto prípade korektne nahradiť\n",
    "3. Veľa záznamov z datasetu users má atribúty \"race\" a \"sex\" NaN, to je veľmi zlé, pretože nám dané atribúty prídu ako dobrý atribút k naučeniu modelu ohľadom ack\n",
    "4. Príde nám, že v datasetoch sa nachádza veľa atribútov, ktoré sú nám zbytočné k predikcií, či ack bude 0 alebo 1, pretože ich hodnota je pre každý záznam iná a nič nám nehovorí ako napríklad v datasete users: username, residence, address, email, name\n",
    "5. Viacero rôzdnych userov ma rovnake user_id, čo by sa nemalo stávať, kedže id je unikátke identifikačné číslo, kedže pomocou user_id je atribút, pomocou ktorého spájame aj datasety, tak nevidím žiadne logické riešenie ako by sa to dalo napraviť, takže dáta sú nepoužiteľné\n",
    "6. V stlpcoch screen_height a screen_width su okrem číselných hodnôt aj hodnoty \"lower\" a \"higher\", čo nie je správne. Zatiaľ to nejdem meniť, kedže neviem, či tento atribúť bude dôležitý v neskorších fázach a zatiaľ sa mi to zdá zvytočné"
   ]
  },
  {
   "cell_type": "markdown",
   "id": "7a7ec3b0-adb1-4d1f-b8d4-15555cc598cd",
   "metadata": {},
   "source": [
    "**Niekoré ukážky chýb, ktoré nejdem meniť**"
   ]
  },
  {
   "cell_type": "markdown",
   "id": "5f21cac3-9fc8-4c13-820e-5c1460d31c62",
   "metadata": {},
   "source": [
    "*dataset users:*"
   ]
  },
  {
   "cell_type": "markdown",
   "id": "02f277ca-b30a-4ce1-9347-f7552bb5face",
   "metadata": {},
   "source": [
    "Viacero rôzdnych userov ma rovnake id:"
   ]
  },
  {
   "cell_type": "code",
   "execution_count": 9,
   "id": "44ed76e2-3367-430a-93a9-88f0d8c2129e",
   "metadata": {},
   "outputs": [
    {
     "data": {
      "text/html": [
       "<div>\n",
       "<style scoped>\n",
       "    .dataframe tbody tr th:only-of-type {\n",
       "        vertical-align: middle;\n",
       "    }\n",
       "\n",
       "    .dataframe tbody tr th {\n",
       "        vertical-align: top;\n",
       "    }\n",
       "\n",
       "    .dataframe thead th {\n",
       "        text-align: right;\n",
       "    }\n",
       "</style>\n",
       "<table border=\"1\" class=\"dataframe\">\n",
       "  <thead>\n",
       "    <tr style=\"text-align: right;\">\n",
       "      <th></th>\n",
       "      <th>username</th>\n",
       "      <th>residence</th>\n",
       "      <th>current_location</th>\n",
       "      <th>name</th>\n",
       "      <th>mail</th>\n",
       "      <th>job</th>\n",
       "      <th>sex</th>\n",
       "      <th>race</th>\n",
       "      <th>address</th>\n",
       "      <th>birthdate</th>\n",
       "      <th>user_id</th>\n",
       "    </tr>\n",
       "  </thead>\n",
       "  <tbody>\n",
       "    <tr>\n",
       "      <th>468</th>\n",
       "      <td>rgagliano</td>\n",
       "      <td>Borgo Enzio, 952\\r\\n38079, Zuclo (TN)</td>\n",
       "      <td>(Decimal('-5.5622835'), Decimal('74.988399'))</td>\n",
       "      <td>Lucia Bernardi</td>\n",
       "      <td>lovatoirma@alice.it</td>\n",
       "      <td>Industrial buyer</td>\n",
       "      <td>F</td>\n",
       "      <td>NaN</td>\n",
       "      <td>NaN</td>\n",
       "      <td>1960-02-14</td>\n",
       "      <td>0</td>\n",
       "    </tr>\n",
       "    <tr>\n",
       "      <th>2309</th>\n",
       "      <td>mrespighi</td>\n",
       "      <td>Borgo Mazzeo, 745\\r\\n57023, Cecina (LI)</td>\n",
       "      <td>(Decimal('-29.1689195'), Decimal('-100.115429'))</td>\n",
       "      <td>Iolanda Zaccagnini</td>\n",
       "      <td>galassocomboni@tin.it</td>\n",
       "      <td>NaN</td>\n",
       "      <td>F</td>\n",
       "      <td>NaN</td>\n",
       "      <td>NaN</td>\n",
       "      <td>NaN</td>\n",
       "      <td>0</td>\n",
       "    </tr>\n",
       "    <tr>\n",
       "      <th>1420</th>\n",
       "      <td>calebe81</td>\n",
       "      <td>NaN</td>\n",
       "      <td>(Decimal('43.9746415'), Decimal('-97.099022'))</td>\n",
       "      <td>Dra. Amanda da Cruz</td>\n",
       "      <td>daniel17@yahoo.com.br</td>\n",
       "      <td>NaN</td>\n",
       "      <td>F</td>\n",
       "      <td>NaN</td>\n",
       "      <td>Ladeira de Moraes, 86\\r\\nVila Santo Antônio\\r\\...</td>\n",
       "      <td>2009-03-07</td>\n",
       "      <td>1</td>\n",
       "    </tr>\n",
       "    <tr>\n",
       "      <th>1242</th>\n",
       "      <td>ntroisi</td>\n",
       "      <td>NaN</td>\n",
       "      <td>(Decimal('-57.011445'), Decimal('162.011851'))</td>\n",
       "      <td>Dott. Antonietta Schiavone</td>\n",
       "      <td>nicolo94@vodafone.it</td>\n",
       "      <td>NaN</td>\n",
       "      <td>NaN</td>\n",
       "      <td>NaN</td>\n",
       "      <td>Strada Pietro, 340 Appartamento 80\\r\\n52011, B...</td>\n",
       "      <td>1984-02-04</td>\n",
       "      <td>1</td>\n",
       "    </tr>\n",
       "    <tr>\n",
       "      <th>486</th>\n",
       "      <td>kyosukenakamura</td>\n",
       "      <td>NaN</td>\n",
       "      <td>(Decimal('15.5675825'), Decimal('-33.631112'))</td>\n",
       "      <td>伊藤 淳</td>\n",
       "      <td>mituru67@yahoo.com</td>\n",
       "      <td>映画監督</td>\n",
       "      <td>M</td>\n",
       "      <td>white</td>\n",
       "      <td>茨城県夷隅郡大多喜町東大和町17丁目21番11号</td>\n",
       "      <td>NaN</td>\n",
       "      <td>1</td>\n",
       "    </tr>\n",
       "    <tr>\n",
       "      <th>...</th>\n",
       "      <td>...</td>\n",
       "      <td>...</td>\n",
       "      <td>...</td>\n",
       "      <td>...</td>\n",
       "      <td>...</td>\n",
       "      <td>...</td>\n",
       "      <td>...</td>\n",
       "      <td>...</td>\n",
       "      <td>...</td>\n",
       "      <td>...</td>\n",
       "      <td>...</td>\n",
       "    </tr>\n",
       "    <tr>\n",
       "      <th>2298</th>\n",
       "      <td>mattia56</td>\n",
       "      <td>NaN</td>\n",
       "      <td>(Decimal('57.9631195'), Decimal('165.134342'))</td>\n",
       "      <td>Gioachino Baroffio</td>\n",
       "      <td>filippo96@libero.it</td>\n",
       "      <td>Tour manager</td>\n",
       "      <td>NaN</td>\n",
       "      <td>NaN</td>\n",
       "      <td>NaN</td>\n",
       "      <td>NaN</td>\n",
       "      <td>2535</td>\n",
       "    </tr>\n",
       "    <tr>\n",
       "      <th>585</th>\n",
       "      <td>larapacillo</td>\n",
       "      <td>Contrada Altera, 60\\r\\n91027, Dattilo (TP)</td>\n",
       "      <td>(Decimal('-59.595116'), Decimal('-155.946000'))</td>\n",
       "      <td>Arturo Curatoli</td>\n",
       "      <td>argenterogiuliano@virgilio.it</td>\n",
       "      <td>Copywriter, advertising</td>\n",
       "      <td>M</td>\n",
       "      <td>NaN</td>\n",
       "      <td>Vicolo Zoppetto, 8 Piano 8\\r\\n81043, Sant'Ange...</td>\n",
       "      <td>1946-10-07</td>\n",
       "      <td>2535</td>\n",
       "    </tr>\n",
       "    <tr>\n",
       "      <th>428</th>\n",
       "      <td>taichisuzuki</td>\n",
       "      <td>NaN</td>\n",
       "      <td>(Decimal('-31.3694265'), Decimal('-34.731815'))</td>\n",
       "      <td>斎藤 花子</td>\n",
       "      <td>asukasuzuki@gmail.com</td>\n",
       "      <td>作曲家</td>\n",
       "      <td>NaN</td>\n",
       "      <td>NaN</td>\n",
       "      <td>福島県山武郡芝山町西小来川2丁目3番11号 美原町コーポ427</td>\n",
       "      <td>NaN</td>\n",
       "      <td>2536</td>\n",
       "    </tr>\n",
       "    <tr>\n",
       "      <th>491</th>\n",
       "      <td>pospisilmichal</td>\n",
       "      <td>Jeruzalémská 6\\r\\n787 38 Vratimov</td>\n",
       "      <td>(Decimal('-24.4687115'), Decimal('-109.887871'))</td>\n",
       "      <td>Renáta Moravcová</td>\n",
       "      <td>ikral@seznam.cz</td>\n",
       "      <td>Art therapist</td>\n",
       "      <td>NaN</td>\n",
       "      <td>NaN</td>\n",
       "      <td>Čerpadlová 6\\r\\n678 39 Toužim</td>\n",
       "      <td>NaN</td>\n",
       "      <td>2536</td>\n",
       "    </tr>\n",
       "    <tr>\n",
       "      <th>640</th>\n",
       "      <td>mareknovak</td>\n",
       "      <td>NaN</td>\n",
       "      <td>(Decimal('-73.0397755'), Decimal('77.165485'))</td>\n",
       "      <td>Magdaléna Pokorná</td>\n",
       "      <td>josef54@post.cz</td>\n",
       "      <td>NaN</td>\n",
       "      <td>NaN</td>\n",
       "      <td>NaN</td>\n",
       "      <td>Mazancova 476\\r\\n272 34 Rychnov u Jablonce nad...</td>\n",
       "      <td>1946-07-27</td>\n",
       "      <td>2536</td>\n",
       "    </tr>\n",
       "  </tbody>\n",
       "</table>\n",
       "<p>1623 rows × 11 columns</p>\n",
       "</div>"
      ],
      "text/plain": [
       "             username                                   residence  \\\n",
       "468         rgagliano       Borgo Enzio, 952\\r\\n38079, Zuclo (TN)   \n",
       "2309        mrespighi     Borgo Mazzeo, 745\\r\\n57023, Cecina (LI)   \n",
       "1420         calebe81                                         NaN   \n",
       "1242          ntroisi                                         NaN   \n",
       "486   kyosukenakamura                                         NaN   \n",
       "...               ...                                         ...   \n",
       "2298         mattia56                                         NaN   \n",
       "585       larapacillo  Contrada Altera, 60\\r\\n91027, Dattilo (TP)   \n",
       "428      taichisuzuki                                         NaN   \n",
       "491    pospisilmichal           Jeruzalémská 6\\r\\n787 38 Vratimov   \n",
       "640        mareknovak                                         NaN   \n",
       "\n",
       "                                      current_location  \\\n",
       "468      (Decimal('-5.5622835'), Decimal('74.988399'))   \n",
       "2309  (Decimal('-29.1689195'), Decimal('-100.115429'))   \n",
       "1420    (Decimal('43.9746415'), Decimal('-97.099022'))   \n",
       "1242    (Decimal('-57.011445'), Decimal('162.011851'))   \n",
       "486     (Decimal('15.5675825'), Decimal('-33.631112'))   \n",
       "...                                                ...   \n",
       "2298    (Decimal('57.9631195'), Decimal('165.134342'))   \n",
       "585    (Decimal('-59.595116'), Decimal('-155.946000'))   \n",
       "428    (Decimal('-31.3694265'), Decimal('-34.731815'))   \n",
       "491   (Decimal('-24.4687115'), Decimal('-109.887871'))   \n",
       "640     (Decimal('-73.0397755'), Decimal('77.165485'))   \n",
       "\n",
       "                            name                           mail  \\\n",
       "468               Lucia Bernardi            lovatoirma@alice.it   \n",
       "2309          Iolanda Zaccagnini          galassocomboni@tin.it   \n",
       "1420         Dra. Amanda da Cruz          daniel17@yahoo.com.br   \n",
       "1242  Dott. Antonietta Schiavone           nicolo94@vodafone.it   \n",
       "486                         伊藤 淳             mituru67@yahoo.com   \n",
       "...                          ...                            ...   \n",
       "2298          Gioachino Baroffio            filippo96@libero.it   \n",
       "585              Arturo Curatoli  argenterogiuliano@virgilio.it   \n",
       "428                        斎藤 花子          asukasuzuki@gmail.com   \n",
       "491             Renáta Moravcová                ikral@seznam.cz   \n",
       "640            Magdaléna Pokorná                josef54@post.cz   \n",
       "\n",
       "                          job  sex   race  \\\n",
       "468          Industrial buyer    F    NaN   \n",
       "2309                      NaN    F    NaN   \n",
       "1420                      NaN    F    NaN   \n",
       "1242                      NaN  NaN    NaN   \n",
       "486                      映画監督    M  white   \n",
       "...                       ...  ...    ...   \n",
       "2298             Tour manager  NaN    NaN   \n",
       "585   Copywriter, advertising    M    NaN   \n",
       "428                       作曲家  NaN    NaN   \n",
       "491             Art therapist  NaN    NaN   \n",
       "640                       NaN  NaN    NaN   \n",
       "\n",
       "                                                address   birthdate  user_id  \n",
       "468                                                 NaN  1960-02-14        0  \n",
       "2309                                                NaN         NaN        0  \n",
       "1420  Ladeira de Moraes, 86\\r\\nVila Santo Antônio\\r\\...  2009-03-07        1  \n",
       "1242  Strada Pietro, 340 Appartamento 80\\r\\n52011, B...  1984-02-04        1  \n",
       "486                            茨城県夷隅郡大多喜町東大和町17丁目21番11号         NaN        1  \n",
       "...                                                 ...         ...      ...  \n",
       "2298                                                NaN         NaN     2535  \n",
       "585   Vicolo Zoppetto, 8 Piano 8\\r\\n81043, Sant'Ange...  1946-10-07     2535  \n",
       "428                     福島県山武郡芝山町西小来川2丁目3番11号 美原町コーポ427         NaN     2536  \n",
       "491                       Čerpadlová 6\\r\\n678 39 Toužim         NaN     2536  \n",
       "640   Mazancova 476\\r\\n272 34 Rychnov u Jablonce nad...  1946-07-27     2536  \n",
       "\n",
       "[1623 rows x 11 columns]"
      ]
     },
     "execution_count": 9,
     "metadata": {},
     "output_type": "execute_result"
    }
   ],
   "source": [
    "users[users.duplicated(['user_id'], keep=False)].sort_values(by=['user_id'])"
   ]
  },
  {
   "cell_type": "markdown",
   "id": "d5e9399e-1a5d-405d-8e91-56fe741daf36",
   "metadata": {},
   "source": [
    "Možeme vidieť, že viacero rôzdnych userov má rovnaké user id. Taktiež vidíme, že formát adries je v niektorých prípadov rôzdny"
   ]
  },
  {
   "cell_type": "code",
   "execution_count": 10,
   "id": "a7562226-210a-491a-81bb-9597641b3bb9",
   "metadata": {},
   "outputs": [
    {
     "data": {
      "text/plain": [
       "array(['600', '768', '800', '1024', '1080', 'lower', 'higher'],\n",
       "      dtype=object)"
      ]
     },
     "execution_count": 10,
     "metadata": {},
     "output_type": "execute_result"
    }
   ],
   "source": [
    "sessions['screen_height'].unique()"
   ]
  },
  {
   "cell_type": "code",
   "execution_count": 11,
   "id": "0cd0d3a9-83e9-4a8e-9064-d3685b8e2fa7",
   "metadata": {},
   "outputs": [
    {
     "data": {
      "text/plain": [
       "screen_height\n",
       "1080      2234\n",
       "768       2175\n",
       "600       1690\n",
       "800       1690\n",
       "1024      1651\n",
       "lower     1107\n",
       "higher     547\n",
       "Name: count, dtype: int64"
      ]
     },
     "execution_count": 11,
     "metadata": {},
     "output_type": "execute_result"
    }
   ],
   "source": [
    "sessions.screen_height.value_counts()"
   ]
  },
  {
   "cell_type": "code",
   "execution_count": 12,
   "id": "34c0f71f-1c02-4738-8335-1987444b102f",
   "metadata": {},
   "outputs": [
    {
     "data": {
      "text/plain": [
       "array(['1366', '1280', '1920', '1024', '800', 'lower', 'higher'],\n",
       "      dtype=object)"
      ]
     },
     "execution_count": 12,
     "metadata": {},
     "output_type": "execute_result"
    }
   ],
   "source": [
    "sessions['screen_width'].unique()"
   ]
  },
  {
   "cell_type": "code",
   "execution_count": 13,
   "id": "fdd5d760-3d80-4ff5-89bb-ad34d97d8ef7",
   "metadata": {},
   "outputs": [
    {
     "data": {
      "text/plain": [
       "screen_width\n",
       "1920      2327\n",
       "1280      2297\n",
       "1366      1684\n",
       "800       1633\n",
       "1024      1570\n",
       "lower     1081\n",
       "higher     502\n",
       "Name: count, dtype: int64"
      ]
     },
     "execution_count": 13,
     "metadata": {},
     "output_type": "execute_result"
    }
   ],
   "source": [
    "sessions.screen_width.value_counts()"
   ]
  },
  {
   "cell_type": "markdown",
   "id": "441d7a30-30fa-41e8-aab9-e1745394febc",
   "metadata": {},
   "source": [
    "Môžeme vidieť, že v atribútoch screen_width a screen_height sú číselné aj slovné hodnoty"
   ]
  },
  {
   "cell_type": "markdown",
   "id": "6b9a5558-4151-4d8a-8a21-a99d1a132a72",
   "metadata": {},
   "source": [
    "**Oprava chýb**"
   ]
  },
  {
   "cell_type": "markdown",
   "id": "b6fcb09b-e4c8-4f21-b239-35f4ba856e90",
   "metadata": {},
   "source": [
    "*dataset users:*"
   ]
  },
  {
   "cell_type": "markdown",
   "id": "cb6650ab-b3eb-4cba-8fc5-3f6b7a50ee50",
   "metadata": {},
   "source": [
    "Stlpec race má hodnoty NaN a \"unspecified\", čo môže byť v kontexte to isté"
   ]
  },
  {
   "cell_type": "code",
   "execution_count": 14,
   "id": "8c3fa627-30bd-4972-9b2a-0aee33aeac3a",
   "metadata": {},
   "outputs": [
    {
     "data": {
      "text/plain": [
       "array([nan, 'black', 'asian', 'white', 'indian', 'unspecified'],\n",
       "      dtype=object)"
      ]
     },
     "execution_count": 14,
     "metadata": {},
     "output_type": "execute_result"
    }
   ],
   "source": [
    "users['race'].unique()"
   ]
  },
  {
   "cell_type": "code",
   "execution_count": 15,
   "id": "eb348dd8-02d2-4f0d-8ff2-fe9f0e127808",
   "metadata": {},
   "outputs": [],
   "source": [
    "users['race'] = users['race'].fillna('unspecified')"
   ]
  },
  {
   "cell_type": "code",
   "execution_count": 16,
   "id": "b4a2bd2f-a040-4fca-9cc8-8f7f0701f2a6",
   "metadata": {},
   "outputs": [
    {
     "data": {
      "text/plain": [
       "array(['unspecified', 'black', 'asian', 'white', 'indian'], dtype=object)"
      ]
     },
     "execution_count": 16,
     "metadata": {},
     "output_type": "execute_result"
    }
   ],
   "source": [
    "users['race'].unique()"
   ]
  },
  {
   "cell_type": "markdown",
   "id": "aaf90115-a3de-460b-a103-a25b98f3618c",
   "metadata": {},
   "source": [
    "Dátum (stlpec birthdate) je vo formáte object, idem zmeniť na dátumový typ"
   ]
  },
  {
   "cell_type": "code",
   "execution_count": 17,
   "id": "c79bd59a-205f-4d65-8a43-c0870bbb71a5",
   "metadata": {},
   "outputs": [
    {
     "name": "stdout",
     "output_type": "stream",
     "text": [
      "<class 'pandas.core.frame.DataFrame'>\n",
      "RangeIndex: 2538 entries, 0 to 2537\n",
      "Data columns (total 11 columns):\n",
      " #   Column            Non-Null Count  Dtype \n",
      "---  ------            --------------  ----- \n",
      " 0   username          2538 non-null   object\n",
      " 1   residence         888 non-null    object\n",
      " 2   current_location  2411 non-null   object\n",
      " 3   name              2538 non-null   object\n",
      " 4   mail              2538 non-null   object\n",
      " 5   job               1015 non-null   object\n",
      " 6   sex               1269 non-null   object\n",
      " 7   race              2538 non-null   object\n",
      " 8   address           2157 non-null   object\n",
      " 9   birthdate         1396 non-null   object\n",
      " 10  user_id           2538 non-null   int64 \n",
      "dtypes: int64(1), object(10)\n",
      "memory usage: 218.2+ KB\n"
     ]
    }
   ],
   "source": [
    "users.info()"
   ]
  },
  {
   "cell_type": "code",
   "execution_count": 18,
   "id": "e611a629-b24e-4460-a7df-18650851c882",
   "metadata": {},
   "outputs": [],
   "source": [
    "users['birthdate'] = pd.to_datetime(users['birthdate'], errors='coerce')"
   ]
  },
  {
   "cell_type": "code",
   "execution_count": 19,
   "id": "ecb85704-72d3-499b-9206-415b993efe6d",
   "metadata": {},
   "outputs": [
    {
     "name": "stdout",
     "output_type": "stream",
     "text": [
      "<class 'pandas.core.frame.DataFrame'>\n",
      "RangeIndex: 2538 entries, 0 to 2537\n",
      "Data columns (total 11 columns):\n",
      " #   Column            Non-Null Count  Dtype         \n",
      "---  ------            --------------  -----         \n",
      " 0   username          2538 non-null   object        \n",
      " 1   residence         888 non-null    object        \n",
      " 2   current_location  2411 non-null   object        \n",
      " 3   name              2538 non-null   object        \n",
      " 4   mail              2538 non-null   object        \n",
      " 5   job               1015 non-null   object        \n",
      " 6   sex               1269 non-null   object        \n",
      " 7   race              2538 non-null   object        \n",
      " 8   address           2157 non-null   object        \n",
      " 9   birthdate         1396 non-null   datetime64[ns]\n",
      " 10  user_id           2538 non-null   int64         \n",
      "dtypes: datetime64[ns](1), int64(1), object(9)\n",
      "memory usage: 218.2+ KB\n"
     ]
    }
   ],
   "source": [
    "users.info()"
   ]
  },
  {
   "cell_type": "markdown",
   "id": "9cd25487-e25a-40ef-8755-ec1f5a9de71c",
   "metadata": {},
   "source": [
    "*dataset sessions*"
   ]
  },
  {
   "cell_type": "markdown",
   "id": "d7e01b96-3349-4138-9da0-845166558bed",
   "metadata": {},
   "source": [
    "Stlpec ack z formátu float na int"
   ]
  },
  {
   "cell_type": "code",
   "execution_count": 20,
   "id": "03e865f0-37ba-438d-999d-144d914e8be7",
   "metadata": {},
   "outputs": [
    {
     "name": "stdout",
     "output_type": "stream",
     "text": [
      "<class 'pandas.core.frame.DataFrame'>\n",
      "RangeIndex: 11094 entries, 0 to 11093\n",
      "Data columns (total 25 columns):\n",
      " #   Column                          Non-Null Count  Dtype  \n",
      "---  ------                          --------------  -----  \n",
      " 0   pct_wild_mouse                  11083 non-null  float64\n",
      " 1   screen_height                   11094 non-null  object \n",
      " 2   pct_input                       11083 non-null  float64\n",
      " 3   pct_scrandom                    11083 non-null  float64\n",
      " 4   pct_scroll_move                 11083 non-null  float64\n",
      " 5   pct_click_product_info          11083 non-null  float64\n",
      " 6   wild_mouse_duration             11083 non-null  float64\n",
      " 7   session_start                   11094 non-null  object \n",
      " 8   total_load_time                 11094 non-null  float64\n",
      " 9   pct_click                       11083 non-null  float64\n",
      " 10  screen_width                    11094 non-null  object \n",
      " 11  pct_doubleclick                 11081 non-null  float64\n",
      " 12  product_ean                     11094 non-null  int64  \n",
      " 13  pct_mouse_move                  11083 non-null  float64\n",
      " 14  user_id                         11094 non-null  int64  \n",
      " 15  session_id                      11094 non-null  int64  \n",
      " 16  pct_scroll_move_duration        11082 non-null  float64\n",
      " 17  ack                             11094 non-null  float64\n",
      " 18  scroll_move_total_rel_distance  11083 non-null  float64\n",
      " 19  page_activity_duration          11082 non-null  float64\n",
      " 20  mouse_move_total_rel_distance   11083 non-null  float64\n",
      " 21  browser_name                    11094 non-null  object \n",
      " 22  pct_rage_click                  11083 non-null  float64\n",
      " 23  session_duration                11094 non-null  float64\n",
      " 24  pct_mouse_click                 11083 non-null  float64\n",
      "dtypes: float64(18), int64(3), object(4)\n",
      "memory usage: 2.1+ MB\n"
     ]
    }
   ],
   "source": [
    "sessions.info()"
   ]
  },
  {
   "cell_type": "code",
   "execution_count": 21,
   "id": "ec4187ac-ac54-44b8-ba3f-1c508f247497",
   "metadata": {},
   "outputs": [],
   "source": [
    "sessions['ack']=sessions['ack'].astype(int)"
   ]
  },
  {
   "cell_type": "code",
   "execution_count": 22,
   "id": "8c2167dc-be11-47c0-b531-bd191ea07f4f",
   "metadata": {},
   "outputs": [
    {
     "name": "stdout",
     "output_type": "stream",
     "text": [
      "<class 'pandas.core.frame.DataFrame'>\n",
      "RangeIndex: 11094 entries, 0 to 11093\n",
      "Data columns (total 25 columns):\n",
      " #   Column                          Non-Null Count  Dtype  \n",
      "---  ------                          --------------  -----  \n",
      " 0   pct_wild_mouse                  11083 non-null  float64\n",
      " 1   screen_height                   11094 non-null  object \n",
      " 2   pct_input                       11083 non-null  float64\n",
      " 3   pct_scrandom                    11083 non-null  float64\n",
      " 4   pct_scroll_move                 11083 non-null  float64\n",
      " 5   pct_click_product_info          11083 non-null  float64\n",
      " 6   wild_mouse_duration             11083 non-null  float64\n",
      " 7   session_start                   11094 non-null  object \n",
      " 8   total_load_time                 11094 non-null  float64\n",
      " 9   pct_click                       11083 non-null  float64\n",
      " 10  screen_width                    11094 non-null  object \n",
      " 11  pct_doubleclick                 11081 non-null  float64\n",
      " 12  product_ean                     11094 non-null  int64  \n",
      " 13  pct_mouse_move                  11083 non-null  float64\n",
      " 14  user_id                         11094 non-null  int64  \n",
      " 15  session_id                      11094 non-null  int64  \n",
      " 16  pct_scroll_move_duration        11082 non-null  float64\n",
      " 17  ack                             11094 non-null  int32  \n",
      " 18  scroll_move_total_rel_distance  11083 non-null  float64\n",
      " 19  page_activity_duration          11082 non-null  float64\n",
      " 20  mouse_move_total_rel_distance   11083 non-null  float64\n",
      " 21  browser_name                    11094 non-null  object \n",
      " 22  pct_rage_click                  11083 non-null  float64\n",
      " 23  session_duration                11094 non-null  float64\n",
      " 24  pct_mouse_click                 11083 non-null  float64\n",
      "dtypes: float64(17), int32(1), int64(3), object(4)\n",
      "memory usage: 2.1+ MB\n"
     ]
    }
   ],
   "source": [
    "sessions.info()"
   ]
  },
  {
   "cell_type": "markdown",
   "id": "abb29b4d-93ac-4597-8d6e-6ca5758f52d3",
   "metadata": {},
   "source": [
    "Duplikátne riadky, odstranili sme z datasetu sessions 102 duplikátov"
   ]
  },
  {
   "cell_type": "code",
   "execution_count": 23,
   "id": "1e77975b-fb67-4f99-b7b9-34581210384b",
   "metadata": {},
   "outputs": [],
   "source": [
    "duplikatne_riadky = sessions[sessions.duplicated()]"
   ]
  },
  {
   "cell_type": "code",
   "execution_count": 24,
   "id": "d34acf80-0463-4ebb-977a-3da8ee7e2d17",
   "metadata": {},
   "outputs": [
    {
     "data": {
      "text/plain": [
       "(11094, 25)"
      ]
     },
     "execution_count": 24,
     "metadata": {},
     "output_type": "execute_result"
    }
   ],
   "source": [
    "sessions.shape"
   ]
  },
  {
   "cell_type": "code",
   "execution_count": 25,
   "id": "9c9ea2f0-8ab5-4775-a8c9-3f2f97cada0c",
   "metadata": {},
   "outputs": [],
   "source": [
    "sessions.drop_duplicates(inplace=True)"
   ]
  },
  {
   "cell_type": "code",
   "execution_count": 26,
   "id": "1340cce5-9497-4f54-a5f5-7acd00fec110",
   "metadata": {},
   "outputs": [
    {
     "data": {
      "text/plain": [
       "(10962, 25)"
      ]
     },
     "execution_count": 26,
     "metadata": {},
     "output_type": "execute_result"
    }
   ],
   "source": [
    "sessions.shape"
   ]
  },
  {
   "cell_type": "markdown",
   "id": "ed23a4e3-8634-4f01-91ac-17f17386aa8f",
   "metadata": {},
   "source": [
    "Dátum (stlpec session_start) je vo formáte object, idem zmeniť na dátumový typ"
   ]
  },
  {
   "cell_type": "code",
   "execution_count": 27,
   "id": "9924f502-f9b0-4452-90b6-064ad4ee086c",
   "metadata": {},
   "outputs": [
    {
     "name": "stdout",
     "output_type": "stream",
     "text": [
      "<class 'pandas.core.frame.DataFrame'>\n",
      "Index: 10962 entries, 0 to 11093\n",
      "Data columns (total 25 columns):\n",
      " #   Column                          Non-Null Count  Dtype  \n",
      "---  ------                          --------------  -----  \n",
      " 0   pct_wild_mouse                  10951 non-null  float64\n",
      " 1   screen_height                   10962 non-null  object \n",
      " 2   pct_input                       10951 non-null  float64\n",
      " 3   pct_scrandom                    10951 non-null  float64\n",
      " 4   pct_scroll_move                 10951 non-null  float64\n",
      " 5   pct_click_product_info          10951 non-null  float64\n",
      " 6   wild_mouse_duration             10951 non-null  float64\n",
      " 7   session_start                   10962 non-null  object \n",
      " 8   total_load_time                 10962 non-null  float64\n",
      " 9   pct_click                       10951 non-null  float64\n",
      " 10  screen_width                    10962 non-null  object \n",
      " 11  pct_doubleclick                 10951 non-null  float64\n",
      " 12  product_ean                     10962 non-null  int64  \n",
      " 13  pct_mouse_move                  10951 non-null  float64\n",
      " 14  user_id                         10962 non-null  int64  \n",
      " 15  session_id                      10962 non-null  int64  \n",
      " 16  pct_scroll_move_duration        10951 non-null  float64\n",
      " 17  ack                             10962 non-null  int32  \n",
      " 18  scroll_move_total_rel_distance  10951 non-null  float64\n",
      " 19  page_activity_duration          10951 non-null  float64\n",
      " 20  mouse_move_total_rel_distance   10951 non-null  float64\n",
      " 21  browser_name                    10962 non-null  object \n",
      " 22  pct_rage_click                  10951 non-null  float64\n",
      " 23  session_duration                10962 non-null  float64\n",
      " 24  pct_mouse_click                 10951 non-null  float64\n",
      "dtypes: float64(17), int32(1), int64(3), object(4)\n",
      "memory usage: 2.1+ MB\n"
     ]
    }
   ],
   "source": [
    "sessions.info()"
   ]
  },
  {
   "cell_type": "code",
   "execution_count": 28,
   "id": "e35ba359-0a69-4e7f-87cd-b9d43c7d0349",
   "metadata": {},
   "outputs": [],
   "source": [
    "sessions['session_start'] = pd.to_datetime(sessions['session_start'], errors='coerce')"
   ]
  },
  {
   "cell_type": "code",
   "execution_count": 29,
   "id": "74ce336b-3c3b-4894-bb69-2eff60e332e7",
   "metadata": {},
   "outputs": [
    {
     "name": "stdout",
     "output_type": "stream",
     "text": [
      "<class 'pandas.core.frame.DataFrame'>\n",
      "Index: 10962 entries, 0 to 11093\n",
      "Data columns (total 25 columns):\n",
      " #   Column                          Non-Null Count  Dtype         \n",
      "---  ------                          --------------  -----         \n",
      " 0   pct_wild_mouse                  10951 non-null  float64       \n",
      " 1   screen_height                   10962 non-null  object        \n",
      " 2   pct_input                       10951 non-null  float64       \n",
      " 3   pct_scrandom                    10951 non-null  float64       \n",
      " 4   pct_scroll_move                 10951 non-null  float64       \n",
      " 5   pct_click_product_info          10951 non-null  float64       \n",
      " 6   wild_mouse_duration             10951 non-null  float64       \n",
      " 7   session_start                   10962 non-null  datetime64[ns]\n",
      " 8   total_load_time                 10962 non-null  float64       \n",
      " 9   pct_click                       10951 non-null  float64       \n",
      " 10  screen_width                    10962 non-null  object        \n",
      " 11  pct_doubleclick                 10951 non-null  float64       \n",
      " 12  product_ean                     10962 non-null  int64         \n",
      " 13  pct_mouse_move                  10951 non-null  float64       \n",
      " 14  user_id                         10962 non-null  int64         \n",
      " 15  session_id                      10962 non-null  int64         \n",
      " 16  pct_scroll_move_duration        10951 non-null  float64       \n",
      " 17  ack                             10962 non-null  int32         \n",
      " 18  scroll_move_total_rel_distance  10951 non-null  float64       \n",
      " 19  page_activity_duration          10951 non-null  float64       \n",
      " 20  mouse_move_total_rel_distance   10951 non-null  float64       \n",
      " 21  browser_name                    10962 non-null  object        \n",
      " 22  pct_rage_click                  10951 non-null  float64       \n",
      " 23  session_duration                10962 non-null  float64       \n",
      " 24  pct_mouse_click                 10951 non-null  float64       \n",
      "dtypes: datetime64[ns](1), float64(17), int32(1), int64(3), object(3)\n",
      "memory usage: 2.1+ MB\n"
     ]
    }
   ],
   "source": [
    "sessions.info()"
   ]
  },
  {
   "cell_type": "markdown",
   "id": "4bc84ba8-7ea1-43f5-89dd-1d0841fecfdf",
   "metadata": {},
   "source": [
    "**Hypotéza**"
   ]
  },
  {
   "cell_type": "markdown",
   "id": "e2b9c286-4511-49d9-b211-9baf563cb2e2",
   "metadata": {},
   "source": [
    "$H_0$: Priemerná hodnota záznamov o zúrivom kliknutí (pct_rage_click) je rovnaká pre používateľov, ktorí nakúpili (ack=1) a pre tých, ktorí nenakúpili (ack=0) počas sedenia.počas sedenia."
   ]
  },
  {
   "cell_type": "markdown",
   "id": "c8891603-c327-429f-92e3-03de0c08b56c",
   "metadata": {},
   "source": [
    "$H_0A$: Priemerná hodnota záznamov o zúrivom kliknutí (pct_rage_click) je nižšia pre používateľov, ktorí nakúpili (ack=1) v porovnaní s tými, ktorí nenakúpili (ack=0) počas sedenia."
   ]
  },
  {
   "cell_type": "markdown",
   "id": "c981daab-f14d-4dd6-a1b1-62fe6982a423",
   "metadata": {},
   "source": [
    "Ako prvé sme si z datasetu zobrazili iba atribúty, ktoré potrebujeme"
   ]
  },
  {
   "cell_type": "code",
   "execution_count": 30,
   "id": "9aac55fb-6e5c-4b06-9c89-60260e1e55fb",
   "metadata": {},
   "outputs": [
    {
     "data": {
      "text/html": [
       "<div>\n",
       "<style scoped>\n",
       "    .dataframe tbody tr th:only-of-type {\n",
       "        vertical-align: middle;\n",
       "    }\n",
       "\n",
       "    .dataframe tbody tr th {\n",
       "        vertical-align: top;\n",
       "    }\n",
       "\n",
       "    .dataframe thead th {\n",
       "        text-align: right;\n",
       "    }\n",
       "</style>\n",
       "<table border=\"1\" class=\"dataframe\">\n",
       "  <thead>\n",
       "    <tr style=\"text-align: right;\">\n",
       "      <th></th>\n",
       "      <th>pct_rage_click</th>\n",
       "      <th>ack</th>\n",
       "    </tr>\n",
       "  </thead>\n",
       "  <tbody>\n",
       "    <tr>\n",
       "      <th>0</th>\n",
       "      <td>73.88232</td>\n",
       "      <td>0</td>\n",
       "    </tr>\n",
       "    <tr>\n",
       "      <th>1</th>\n",
       "      <td>36.27018</td>\n",
       "      <td>1</td>\n",
       "    </tr>\n",
       "    <tr>\n",
       "      <th>2</th>\n",
       "      <td>44.07316</td>\n",
       "      <td>1</td>\n",
       "    </tr>\n",
       "    <tr>\n",
       "      <th>3</th>\n",
       "      <td>61.91555</td>\n",
       "      <td>0</td>\n",
       "    </tr>\n",
       "    <tr>\n",
       "      <th>4</th>\n",
       "      <td>21.36066</td>\n",
       "      <td>0</td>\n",
       "    </tr>\n",
       "  </tbody>\n",
       "</table>\n",
       "</div>"
      ],
      "text/plain": [
       "   pct_rage_click  ack\n",
       "0        73.88232    0\n",
       "1        36.27018    1\n",
       "2        44.07316    1\n",
       "3        61.91555    0\n",
       "4        21.36066    0"
      ]
     },
     "execution_count": 30,
     "metadata": {},
     "output_type": "execute_result"
    }
   ],
   "source": [
    "hypoteza1=sessions[['pct_rage_click', 'ack']]\n",
    "hypoteza1.head()"
   ]
  },
  {
   "cell_type": "code",
   "execution_count": 31,
   "id": "9596b2a9-02fb-4dd2-a32b-154c93107b8a",
   "metadata": {},
   "outputs": [
    {
     "name": "stdout",
     "output_type": "stream",
     "text": [
      "<class 'pandas.core.frame.DataFrame'>\n",
      "Index: 10962 entries, 0 to 11093\n",
      "Data columns (total 2 columns):\n",
      " #   Column          Non-Null Count  Dtype  \n",
      "---  ------          --------------  -----  \n",
      " 0   pct_rage_click  10951 non-null  float64\n",
      " 1   ack             10962 non-null  int32  \n",
      "dtypes: float64(1), int32(1)\n",
      "memory usage: 214.1 KB\n"
     ]
    }
   ],
   "source": [
    "hypoteza1.info()"
   ]
  },
  {
   "cell_type": "markdown",
   "id": "ef31001f-513e-42af-abe9-4f6df02f3c0c",
   "metadata": {},
   "source": [
    "Ako môžeme vidieť vyššie, tak sa nachádzajú nejaké NaN hodnoty v pct_rage_click, tak si ich odstránime"
   ]
  },
  {
   "cell_type": "code",
   "execution_count": 32,
   "id": "991504d4-76db-482b-ae56-b4267fded72f",
   "metadata": {},
   "outputs": [
    {
     "name": "stdout",
     "output_type": "stream",
     "text": [
      "0\n"
     ]
    }
   ],
   "source": [
    "\n",
    "cleaned_data = hypoteza1.dropna()\n",
    "cleaned_data.head()\n",
    "print(cleaned_data['pct_rage_click'].isna().sum())"
   ]
  },
  {
   "cell_type": "code",
   "execution_count": 33,
   "id": "6cff5cce-23e3-4eb0-8360-b35f6cf2c83b",
   "metadata": {},
   "outputs": [
    {
     "name": "stderr",
     "output_type": "stream",
     "text": [
      "C:\\Users\\danie\\AppData\\Local\\Programs\\Python\\Python310\\lib\\site-packages\\seaborn\\_oldcore.py:1498: FutureWarning: is_categorical_dtype is deprecated and will be removed in a future version. Use isinstance(dtype, CategoricalDtype) instead\n",
      "  if pd.api.types.is_categorical_dtype(vector):\n",
      "C:\\Users\\danie\\AppData\\Local\\Programs\\Python\\Python310\\lib\\site-packages\\seaborn\\_oldcore.py:1498: FutureWarning: is_categorical_dtype is deprecated and will be removed in a future version. Use isinstance(dtype, CategoricalDtype) instead\n",
      "  if pd.api.types.is_categorical_dtype(vector):\n",
      "C:\\Users\\danie\\AppData\\Local\\Programs\\Python\\Python310\\lib\\site-packages\\seaborn\\_oldcore.py:1498: FutureWarning: is_categorical_dtype is deprecated and will be removed in a future version. Use isinstance(dtype, CategoricalDtype) instead\n",
      "  if pd.api.types.is_categorical_dtype(vector):\n"
     ]
    },
    {
     "data": {
      "image/png": "[encoded data removed]",
      "text/plain": [
       "<Figure size 640x480 with 1 Axes>"
      ]
     },
     "metadata": {},
     "output_type": "display_data"
    }
   ],
   "source": [
    "sns.boxplot(x='ack', y='pct_rage_click', data=cleaned_data)\n",
    "plt.show()"
   ]
  },
  {
   "cell_type": "markdown",
   "id": "d521a783-854c-4e19-84af-20c2f98911c6",
   "metadata": {},
   "source": [
    "V grafoch môžeme vidieť, že sa v dátach nachádzajú outliery, ktorých pre túto hypotézu odstránime"
   ]
  },
  {
   "cell_type": "code",
   "execution_count": 34,
   "id": "874db80d-19a5-4864-b183-4e4dac45a12e",
   "metadata": {},
   "outputs": [],
   "source": [
    "### prevzatá z vzorových notebookov\n",
    "def identify_outliers(a):\n",
    "    low = a.quantile(0.25) - 1.5 * stats.iqr(a)\n",
    "    big = a.quantile(0.75) + 1.5 * stats.iqr(a)\n",
    "    \n",
    "    return a[(a > big) | (a < low)]"
   ]
  },
  {
   "cell_type": "code",
   "execution_count": 35,
   "id": "d16aa6f7-996a-4cc3-8f32-980e54e90f0d",
   "metadata": {},
   "outputs": [
    {
     "name": "stdout",
     "output_type": "stream",
     "text": [
      "<class 'pandas.core.frame.DataFrame'>\n",
      "Index: 10951 entries, 0 to 11093\n",
      "Data columns (total 2 columns):\n",
      " #   Column          Non-Null Count  Dtype  \n",
      "---  ------          --------------  -----  \n",
      " 0   pct_rage_click  10951 non-null  float64\n",
      " 1   ack             10951 non-null  int32  \n",
      "dtypes: float64(1), int32(1)\n",
      "memory usage: 213.9 KB\n",
      "29        88.00818\n",
      "155       18.44934\n",
      "1086      87.87584\n",
      "1164      92.12047\n",
      "1389      16.83826\n",
      "1964      91.48973\n",
      "1996      87.80481\n",
      "2219      18.26300\n",
      "2602      87.54707\n",
      "3048      14.87432\n",
      "3169      91.99498\n",
      "3566      18.75617\n",
      "4010      17.70559\n",
      "4544     100.00000\n",
      "4660      18.80095\n",
      "4843      97.50333\n",
      "4923      19.33781\n",
      "5219      19.10793\n",
      "5427      88.98112\n",
      "5459      15.77933\n",
      "5767      19.07820\n",
      "5922      15.76753\n",
      "6117      17.89617\n",
      "7312      16.99477\n",
      "7323      87.30342\n",
      "7510      16.64065\n",
      "7589      88.26643\n",
      "8281      16.97821\n",
      "8849      17.71352\n",
      "9044      17.47092\n",
      "9195      89.28968\n",
      "9456      19.57920\n",
      "9851      97.02976\n",
      "9890      89.67727\n",
      "10628      9.38975\n",
      "Name: pct_rage_click, dtype: float64\n",
      "1026     18.18293\n",
      "1951     90.76496\n",
      "2292     93.47204\n",
      "2412     15.35239\n",
      "3747     91.35384\n",
      "3749     15.02482\n",
      "4548     14.20737\n",
      "4830     17.31812\n",
      "6013     15.74359\n",
      "6890     15.78061\n",
      "7041      0.00000\n",
      "7132     17.80635\n",
      "7167     90.05189\n",
      "7430     16.69635\n",
      "7480     90.22293\n",
      "7845     13.83819\n",
      "9053     92.79859\n",
      "10374    14.28157\n",
      "10948    17.98256\n",
      "Name: pct_rage_click, dtype: float64\n"
     ]
    }
   ],
   "source": [
    "data1 = cleaned_data\n",
    "\n",
    "\n",
    "ack1 = data1[data1['ack'] == 1]['pct_rage_click']\n",
    "out = identify_outliers(ack1)\n",
    "print(out)\n",
    "ack1 = ack1.drop(out.index)\n",
    "\n",
    "\n",
    "ack0 = data1[data1['ack'] == 0]['pct_rage_click']\n",
    "out = identify_outliers(ack0)\n",
    "print(out)\n",
    "ack0 = ack0.drop(out.index)\n"
   ]
  },
  {
   "cell_type": "code",
   "execution_count": 36,
   "id": "2d2e0907-0a22-406b-9661-f9886385f2b4",
   "metadata": {},
   "outputs": [
    {
     "name": "stderr",
     "output_type": "stream",
     "text": [
      "C:\\Users\\danie\\AppData\\Local\\Programs\\Python\\Python310\\lib\\site-packages\\seaborn\\_oldcore.py:1498: FutureWarning: is_categorical_dtype is deprecated and will be removed in a future version. Use isinstance(dtype, CategoricalDtype) instead\n",
      "  if pd.api.types.is_categorical_dtype(vector):\n",
      "C:\\Users\\danie\\AppData\\Local\\Programs\\Python\\Python310\\lib\\site-packages\\seaborn\\_oldcore.py:1119: FutureWarning: use_inf_as_na option is deprecated and will be removed in a future version. Convert inf values to NaN before operating instead.\n",
      "  with pd.option_context('mode.use_inf_as_na', True):\n"
     ]
    },
    {
     "data": {
      "text/plain": [
       "<AxesSubplot: xlabel='pct_rage_click', ylabel='Count'>"
      ]
     },
     "execution_count": 36,
     "metadata": {},
     "output_type": "execute_result"
    },
    {
     "data": {
      "image/png": "[encoded data removed]",
      "text/plain": [
       "<Figure size 640x480 with 1 Axes>"
      ]
     },
     "metadata": {},
     "output_type": "display_data"
    }
   ],
   "source": [
    "sns.histplot(ack1, bins=100, color='red')\n"
   ]
  },
  {
   "cell_type": "code",
   "execution_count": 37,
   "id": "a431f62d-3dc3-4cf3-a038-a85b47e056b8",
   "metadata": {},
   "outputs": [
    {
     "name": "stderr",
     "output_type": "stream",
     "text": [
      "C:\\Users\\danie\\AppData\\Local\\Programs\\Python\\Python310\\lib\\site-packages\\seaborn\\_oldcore.py:1498: FutureWarning: is_categorical_dtype is deprecated and will be removed in a future version. Use isinstance(dtype, CategoricalDtype) instead\n",
      "  if pd.api.types.is_categorical_dtype(vector):\n",
      "C:\\Users\\danie\\AppData\\Local\\Programs\\Python\\Python310\\lib\\site-packages\\seaborn\\_oldcore.py:1119: FutureWarning: use_inf_as_na option is deprecated and will be removed in a future version. Convert inf values to NaN before operating instead.\n",
      "  with pd.option_context('mode.use_inf_as_na', True):\n"
     ]
    },
    {
     "data": {
      "text/plain": [
       "<AxesSubplot: xlabel='pct_rage_click', ylabel='Count'>"
      ]
     },
     "execution_count": 37,
     "metadata": {},
     "output_type": "execute_result"
    },
    {
     "data": {
      "image/png": "[encoded data removed]",
      "text/plain": [
       "<Figure size 640x480 with 1 Axes>"
      ]
     },
     "metadata": {},
     "output_type": "display_data"
    }
   ],
   "source": [
    "sns.histplot(ack0, bins=100, color='blue')"
   ]
  },
  {
   "cell_type": "code",
   "execution_count": 38,
   "id": "e1685253-963b-4cd4-81c7-6edc3cb63ea8",
   "metadata": {},
   "outputs": [
    {
     "data": {
      "image/png": "[encoded data removed]",
      "text/plain": [
       "<Figure size 640x480 with 1 Axes>"
      ]
     },
     "metadata": {},
     "output_type": "display_data"
    }
   ],
   "source": [
    "_ = sm.ProbPlot(ack1, fit=True).qqplot(line='45')"
   ]
  },
  {
   "cell_type": "code",
   "execution_count": 39,
   "id": "ce97918c-0c81-44a9-9635-fe926b0a422e",
   "metadata": {},
   "outputs": [
    {
     "data": {
      "image/png": "[encoded data removed]",
      "text/plain": [
       "<Figure size 640x480 with 1 Axes>"
      ]
     },
     "metadata": {},
     "output_type": "display_data"
    }
   ],
   "source": [
    "_ = sm.ProbPlot(ack0, fit=True).qqplot(line='45')"
   ]
  },
  {
   "cell_type": "markdown",
   "id": "3e14a8f2-b173-4cb7-9b1b-9a37749ac477",
   "metadata": {},
   "source": [
    "Podľa grafov môžeme vidieť, že dáta nie sú perfektne normálne distribuované, aj ked v strede sú, však konce nie sú.\n",
    "\n"
   ]
  },
  {
   "cell_type": "markdown",
   "id": "b57fa39c-568f-4599-94d7-78c010c514c5",
   "metadata": {},
   "source": [
    "**Text z cvičeni**<br />\n",
    "Shapiro-Wilkov test testuje nulovú hypotézu, že dáta pochádzajú z normálneho rozdelenia.<br />\r\n",
    "Ak j p<0,05\r\n",
    ", nulovú hypotézu zamietame a dáta pravdepodobne pochádzajú z iného ako normálneho rozdeleni<br />\n",
    ". Ak  p>0,05 \r\n",
    ", nulovú hypotézu nezamietame, teda na základe dát nemôžeme prehlásiť, že by dáta pochádzali z iného, ako normálneho rozdelen<br />ia."
   ]
  },
  {
   "cell_type": "code",
   "execution_count": 41,
   "id": "e3ed32e8-84cc-497b-8bb0-fd5b8010f3f7",
   "metadata": {},
   "outputs": [
    {
     "name": "stderr",
     "output_type": "stream",
     "text": [
      "C:\\Users\\danie\\AppData\\Local\\Programs\\Python\\Python310\\lib\\site-packages\\scipy\\stats\\_morestats.py:1882: UserWarning: p-value may not be accurate for N > 5000.\n",
      "  warnings.warn(\"p-value may not be accurate for N > 5000.\")\n"
     ]
    },
    {
     "data": {
      "text/plain": [
       "ShapiroResult(statistic=0.9979531764984131, pvalue=4.0280428947880864e-07)"
      ]
     },
     "execution_count": 41,
     "metadata": {},
     "output_type": "execute_result"
    }
   ],
   "source": [
    "stats.shapiro(ack1)"
   ]
  },
  {
   "cell_type": "code",
   "execution_count": 42,
   "id": "b8b27630-108e-444b-a4b2-2a2b4fd421b8",
   "metadata": {},
   "outputs": [
    {
     "data": {
      "text/plain": [
       "ShapiroResult(statistic=0.9977959394454956, pvalue=1.6351535805370077e-06)"
      ]
     },
     "execution_count": 42,
     "metadata": {},
     "output_type": "execute_result"
    }
   ],
   "source": [
    "stats.shapiro(ack0)"
   ]
  },
  {
   "cell_type": "markdown",
   "id": "a6a63151-d0bd-4168-a1ae-5133a47940f9",
   "metadata": {},
   "source": [
    "p je menšie ako 0,05 v oboch prípadoch, čo znamená, že $H_0$ zamietame. Oba datasety pochádzajú pravdepodobne z iného ako normálového rozdelenia. Nespĺňame už prvú podmienku na parametrický test, takže nie je potrebné zisťovať varianciu. Musíme urobiť neparametrický test."
   ]
  },
  {
   "cell_type": "code",
   "execution_count": 43,
   "id": "449fb0f3-e0d9-45fb-9b74-13bc41d0e974",
   "metadata": {},
   "outputs": [
    {
     "data": {
      "text/plain": [
       "MannwhitneyuResult(statistic=14928683.5, pvalue=0.1761977713556142)"
      ]
     },
     "execution_count": 43,
     "metadata": {},
     "output_type": "execute_result"
    }
   ],
   "source": [
    "stats.mannwhitneyu(ack1, ack0)"
   ]
  },
  {
   "cell_type": "markdown",
   "id": "24da5c20-e954-4826-8257-78033ff258e9",
   "metadata": {},
   "source": [
    "p je väčšie ako 0,05, čo znamená, že nemôžeme zamietnuť $H_0$ a teda nemáme dôkaz o tom, že by existoval štatisticky významný rozdiel v pravdepodobnosti nákupu podľa rozdielu v priemernom počte atribútu pct_rage_click."
   ]
  },
  {
   "cell_type": "code",
   "execution_count": null,
   "id": "854e7e1d-58e2-4ac3-97f3-2fdd1f7b2980",
   "metadata": {},
   "outputs": [],
   "source": []
  }
 ],
 "metadata": {
  "kernelspec": {
   "display_name": "Python 3 (ipykernel)",
   "language": "python",
   "name": "python3"
  },
  "language_info": {
   "codemirror_mode": {
    "name": "ipython",
    "version": 3
   },
   "file_extension": ".py",
   "mimetype": "text/x-python",
   "name": "python",
   "nbconvert_exporter": "python",
   "pygments_lexer": "ipython3",
   "version": "3.10.7"
  }
 },
 "nbformat": 4,
 "nbformat_minor": 5
}

{
 "cells": [
  {
   "cell_type": "markdown",
   "metadata": {},
   "source": [
    "# Fáza 3 IAU - Daniela Paľuchová 50%, Mark Bartalos 50% "
   ]
  },
  {
   "cell_type": "markdown",
   "metadata": {},
   "source": [
    "Vyriešené veci z predchádzajúcej fázy"
   ]
  },
  {
   "cell_type": "code",
   "execution_count": 157,
   "metadata": {},
   "outputs": [],
   "source": [
    "import pandas as pd\n",
    "from sklearn.model_selection import train_test_split\n",
    "from sklearn.metrics import accuracy_score, precision_score, recall_score\n",
    "from sklearn.tree import DecisionTreeClassifier\n",
    "from sklearn.metrics import classification_report, confusion_matrix\n",
    "from sklearn import metrics \n",
    "from sklearn.metrics import ConfusionMatrixDisplay\n",
    "from sklearn.metrics import accuracy_score, precision_score, recall_score\n",
    "from sklearn.tree import export_graphviz\n",
    "from sklearn import tree\n",
    "import random\n",
    "import numpy as np\n",
    "from graphviz import Source\n",
    "from IPython.display import SVG\n",
    "from IPython.display import HTML\n",
    "import matplotlib.pyplot as plt\n",
    "from sklearn.ensemble import RandomForestClassifier\n",
    "from sklearn.model_selection import GridSearchCV\n",
    "from sklearn.model_selection import RandomizedSearchCV"
   ]
  },
  {
   "cell_type": "code",
   "execution_count": 158,
   "metadata": {},
   "outputs": [
    {
     "data": {
      "text/html": [
       "<div>\n",
       "<style scoped>\n",
       "    .dataframe tbody tr th:only-of-type {\n",
       "        vertical-align: middle;\n",
       "    }\n",
       "\n",
       "    .dataframe tbody tr th {\n",
       "        vertical-align: top;\n",
       "    }\n",
       "\n",
       "    .dataframe thead th {\n",
       "        text-align: right;\n",
       "    }\n",
       "</style>\n",
       "<table border=\"1\" class=\"dataframe\">\n",
       "  <thead>\n",
       "    <tr style=\"text-align: right;\">\n",
       "      <th></th>\n",
       "      <th>pct_wild_mouse</th>\n",
       "      <th>screen_height</th>\n",
       "      <th>pct_input</th>\n",
       "      <th>pct_scrandom</th>\n",
       "      <th>pct_scroll_move</th>\n",
       "      <th>pct_click_product_info</th>\n",
       "      <th>wild_mouse_duration</th>\n",
       "      <th>total_load_time</th>\n",
       "      <th>pct_click</th>\n",
       "      <th>screen_width</th>\n",
       "      <th>...</th>\n",
       "      <th>scroll_move_total_rel_distance</th>\n",
       "      <th>page_activity_duration</th>\n",
       "      <th>mouse_move_total_rel_distance</th>\n",
       "      <th>browser_name</th>\n",
       "      <th>pct_rage_click</th>\n",
       "      <th>session_duration</th>\n",
       "      <th>pct_mouse_click</th>\n",
       "      <th>job</th>\n",
       "      <th>race</th>\n",
       "      <th>age</th>\n",
       "    </tr>\n",
       "  </thead>\n",
       "  <tbody>\n",
       "    <tr>\n",
       "      <th>0</th>\n",
       "      <td>59.56562</td>\n",
       "      <td>2</td>\n",
       "      <td>0.05917</td>\n",
       "      <td>48.05874</td>\n",
       "      <td>39.37553</td>\n",
       "      <td>66.21904</td>\n",
       "      <td>13.32802</td>\n",
       "      <td>5.93412</td>\n",
       "      <td>19.29164</td>\n",
       "      <td>2</td>\n",
       "      <td>...</td>\n",
       "      <td>21.28298</td>\n",
       "      <td>18.00126</td>\n",
       "      <td>15.52013</td>\n",
       "      <td>6</td>\n",
       "      <td>41.19641</td>\n",
       "      <td>106.97645</td>\n",
       "      <td>16.06948</td>\n",
       "      <td>3</td>\n",
       "      <td>1</td>\n",
       "      <td>60</td>\n",
       "    </tr>\n",
       "    <tr>\n",
       "      <th>1</th>\n",
       "      <td>57.12588</td>\n",
       "      <td>5</td>\n",
       "      <td>0.62610</td>\n",
       "      <td>27.98295</td>\n",
       "      <td>41.97408</td>\n",
       "      <td>58.58313</td>\n",
       "      <td>15.04745</td>\n",
       "      <td>4.19728</td>\n",
       "      <td>12.80114</td>\n",
       "      <td>1</td>\n",
       "      <td>...</td>\n",
       "      <td>18.49826</td>\n",
       "      <td>17.48769</td>\n",
       "      <td>13.88568</td>\n",
       "      <td>4</td>\n",
       "      <td>40.01657</td>\n",
       "      <td>135.12413</td>\n",
       "      <td>18.11505</td>\n",
       "      <td>3</td>\n",
       "      <td>1</td>\n",
       "      <td>60</td>\n",
       "    </tr>\n",
       "    <tr>\n",
       "      <th>2</th>\n",
       "      <td>36.23258</td>\n",
       "      <td>5</td>\n",
       "      <td>0.87819</td>\n",
       "      <td>44.02044</td>\n",
       "      <td>46.59896</td>\n",
       "      <td>34.35303</td>\n",
       "      <td>15.35850</td>\n",
       "      <td>2.70523</td>\n",
       "      <td>17.26037</td>\n",
       "      <td>5</td>\n",
       "      <td>...</td>\n",
       "      <td>13.42086</td>\n",
       "      <td>14.73291</td>\n",
       "      <td>16.61463</td>\n",
       "      <td>4</td>\n",
       "      <td>53.41472</td>\n",
       "      <td>92.40541</td>\n",
       "      <td>12.91460</td>\n",
       "      <td>3</td>\n",
       "      <td>1</td>\n",
       "      <td>60</td>\n",
       "    </tr>\n",
       "    <tr>\n",
       "      <th>3</th>\n",
       "      <td>58.97383</td>\n",
       "      <td>6</td>\n",
       "      <td>0.81044</td>\n",
       "      <td>30.68743</td>\n",
       "      <td>48.43406</td>\n",
       "      <td>23.69275</td>\n",
       "      <td>15.28388</td>\n",
       "      <td>0.58036</td>\n",
       "      <td>17.37618</td>\n",
       "      <td>2</td>\n",
       "      <td>...</td>\n",
       "      <td>9.02703</td>\n",
       "      <td>16.93843</td>\n",
       "      <td>18.35554</td>\n",
       "      <td>5</td>\n",
       "      <td>33.63685</td>\n",
       "      <td>105.09470</td>\n",
       "      <td>12.93503</td>\n",
       "      <td>3</td>\n",
       "      <td>1</td>\n",
       "      <td>60</td>\n",
       "    </tr>\n",
       "    <tr>\n",
       "      <th>4</th>\n",
       "      <td>57.85999</td>\n",
       "      <td>5</td>\n",
       "      <td>2.63628</td>\n",
       "      <td>68.71277</td>\n",
       "      <td>71.42763</td>\n",
       "      <td>60.38453</td>\n",
       "      <td>16.41097</td>\n",
       "      <td>3.62692</td>\n",
       "      <td>17.62559</td>\n",
       "      <td>1</td>\n",
       "      <td>...</td>\n",
       "      <td>15.85784</td>\n",
       "      <td>16.09055</td>\n",
       "      <td>17.97986</td>\n",
       "      <td>5</td>\n",
       "      <td>60.64751</td>\n",
       "      <td>183.27447</td>\n",
       "      <td>13.37094</td>\n",
       "      <td>285</td>\n",
       "      <td>4</td>\n",
       "      <td>97</td>\n",
       "    </tr>\n",
       "    <tr>\n",
       "      <th>...</th>\n",
       "      <td>...</td>\n",
       "      <td>...</td>\n",
       "      <td>...</td>\n",
       "      <td>...</td>\n",
       "      <td>...</td>\n",
       "      <td>...</td>\n",
       "      <td>...</td>\n",
       "      <td>...</td>\n",
       "      <td>...</td>\n",
       "      <td>...</td>\n",
       "      <td>...</td>\n",
       "      <td>...</td>\n",
       "      <td>...</td>\n",
       "      <td>...</td>\n",
       "      <td>...</td>\n",
       "      <td>...</td>\n",
       "      <td>...</td>\n",
       "      <td>...</td>\n",
       "      <td>...</td>\n",
       "      <td>...</td>\n",
       "      <td>...</td>\n",
       "    </tr>\n",
       "    <tr>\n",
       "      <th>8764</th>\n",
       "      <td>37.74552</td>\n",
       "      <td>2</td>\n",
       "      <td>0.63719</td>\n",
       "      <td>61.95955</td>\n",
       "      <td>63.46325</td>\n",
       "      <td>58.79444</td>\n",
       "      <td>15.06358</td>\n",
       "      <td>2.21992</td>\n",
       "      <td>19.95583</td>\n",
       "      <td>3</td>\n",
       "      <td>...</td>\n",
       "      <td>17.53210</td>\n",
       "      <td>16.06603</td>\n",
       "      <td>18.62954</td>\n",
       "      <td>6</td>\n",
       "      <td>40.75720</td>\n",
       "      <td>165.09875</td>\n",
       "      <td>11.59283</td>\n",
       "      <td>3</td>\n",
       "      <td>1</td>\n",
       "      <td>60</td>\n",
       "    </tr>\n",
       "    <tr>\n",
       "      <th>8765</th>\n",
       "      <td>56.42685</td>\n",
       "      <td>3</td>\n",
       "      <td>1.59755</td>\n",
       "      <td>28.62159</td>\n",
       "      <td>54.13486</td>\n",
       "      <td>58.15269</td>\n",
       "      <td>15.92552</td>\n",
       "      <td>1.96973</td>\n",
       "      <td>19.25071</td>\n",
       "      <td>2</td>\n",
       "      <td>...</td>\n",
       "      <td>20.48997</td>\n",
       "      <td>14.90900</td>\n",
       "      <td>15.72821</td>\n",
       "      <td>2</td>\n",
       "      <td>47.52506</td>\n",
       "      <td>231.75373</td>\n",
       "      <td>17.37766</td>\n",
       "      <td>360</td>\n",
       "      <td>1</td>\n",
       "      <td>60</td>\n",
       "    </tr>\n",
       "    <tr>\n",
       "      <th>8766</th>\n",
       "      <td>44.90033</td>\n",
       "      <td>6</td>\n",
       "      <td>9.91172</td>\n",
       "      <td>33.11470</td>\n",
       "      <td>40.71179</td>\n",
       "      <td>57.39854</td>\n",
       "      <td>17.71756</td>\n",
       "      <td>6.58752</td>\n",
       "      <td>14.44883</td>\n",
       "      <td>2</td>\n",
       "      <td>...</td>\n",
       "      <td>10.07043</td>\n",
       "      <td>16.74973</td>\n",
       "      <td>13.77309</td>\n",
       "      <td>5</td>\n",
       "      <td>43.87094</td>\n",
       "      <td>117.20051</td>\n",
       "      <td>13.22402</td>\n",
       "      <td>3</td>\n",
       "      <td>1</td>\n",
       "      <td>60</td>\n",
       "    </tr>\n",
       "    <tr>\n",
       "      <th>8767</th>\n",
       "      <td>54.28177</td>\n",
       "      <td>1</td>\n",
       "      <td>2.28241</td>\n",
       "      <td>43.51204</td>\n",
       "      <td>49.60014</td>\n",
       "      <td>75.44521</td>\n",
       "      <td>16.27053</td>\n",
       "      <td>1.13558</td>\n",
       "      <td>17.38237</td>\n",
       "      <td>2</td>\n",
       "      <td>...</td>\n",
       "      <td>18.51279</td>\n",
       "      <td>16.13312</td>\n",
       "      <td>20.78427</td>\n",
       "      <td>5</td>\n",
       "      <td>67.75252</td>\n",
       "      <td>160.45967</td>\n",
       "      <td>15.12488</td>\n",
       "      <td>3</td>\n",
       "      <td>1</td>\n",
       "      <td>60</td>\n",
       "    </tr>\n",
       "    <tr>\n",
       "      <th>8768</th>\n",
       "      <td>44.81478</td>\n",
       "      <td>6</td>\n",
       "      <td>0.90201</td>\n",
       "      <td>49.06220</td>\n",
       "      <td>38.83738</td>\n",
       "      <td>25.06022</td>\n",
       "      <td>15.38381</td>\n",
       "      <td>4.97142</td>\n",
       "      <td>17.93405</td>\n",
       "      <td>1</td>\n",
       "      <td>...</td>\n",
       "      <td>12.97583</td>\n",
       "      <td>15.51014</td>\n",
       "      <td>16.21372</td>\n",
       "      <td>1</td>\n",
       "      <td>58.77852</td>\n",
       "      <td>114.40662</td>\n",
       "      <td>15.41130</td>\n",
       "      <td>3</td>\n",
       "      <td>3</td>\n",
       "      <td>81</td>\n",
       "    </tr>\n",
       "  </tbody>\n",
       "</table>\n",
       "<p>8769 rows × 26 columns</p>\n",
       "</div>"
      ],
      "text/plain": [
       "      pct_wild_mouse  screen_height  pct_input  pct_scrandom  pct_scroll_move  \\\n",
       "0           59.56562              2    0.05917      48.05874         39.37553   \n",
       "1           57.12588              5    0.62610      27.98295         41.97408   \n",
       "2           36.23258              5    0.87819      44.02044         46.59896   \n",
       "3           58.97383              6    0.81044      30.68743         48.43406   \n",
       "4           57.85999              5    2.63628      68.71277         71.42763   \n",
       "...              ...            ...        ...           ...              ...   \n",
       "8764        37.74552              2    0.63719      61.95955         63.46325   \n",
       "8765        56.42685              3    1.59755      28.62159         54.13486   \n",
       "8766        44.90033              6    9.91172      33.11470         40.71179   \n",
       "8767        54.28177              1    2.28241      43.51204         49.60014   \n",
       "8768        44.81478              6    0.90201      49.06220         38.83738   \n",
       "\n",
       "      pct_click_product_info  wild_mouse_duration  total_load_time  pct_click  \\\n",
       "0                   66.21904             13.32802          5.93412   19.29164   \n",
       "1                   58.58313             15.04745          4.19728   12.80114   \n",
       "2                   34.35303             15.35850          2.70523   17.26037   \n",
       "3                   23.69275             15.28388          0.58036   17.37618   \n",
       "4                   60.38453             16.41097          3.62692   17.62559   \n",
       "...                      ...                  ...              ...        ...   \n",
       "8764                58.79444             15.06358          2.21992   19.95583   \n",
       "8765                58.15269             15.92552          1.96973   19.25071   \n",
       "8766                57.39854             17.71756          6.58752   14.44883   \n",
       "8767                75.44521             16.27053          1.13558   17.38237   \n",
       "8768                25.06022             15.38381          4.97142   17.93405   \n",
       "\n",
       "      screen_width  ...  scroll_move_total_rel_distance  \\\n",
       "0                2  ...                        21.28298   \n",
       "1                1  ...                        18.49826   \n",
       "2                5  ...                        13.42086   \n",
       "3                2  ...                         9.02703   \n",
       "4                1  ...                        15.85784   \n",
       "...            ...  ...                             ...   \n",
       "8764             3  ...                        17.53210   \n",
       "8765             2  ...                        20.48997   \n",
       "8766             2  ...                        10.07043   \n",
       "8767             2  ...                        18.51279   \n",
       "8768             1  ...                        12.97583   \n",
       "\n",
       "      page_activity_duration  mouse_move_total_rel_distance  browser_name  \\\n",
       "0                   18.00126                       15.52013             6   \n",
       "1                   17.48769                       13.88568             4   \n",
       "2                   14.73291                       16.61463             4   \n",
       "3                   16.93843                       18.35554             5   \n",
       "4                   16.09055                       17.97986             5   \n",
       "...                      ...                            ...           ...   \n",
       "8764                16.06603                       18.62954             6   \n",
       "8765                14.90900                       15.72821             2   \n",
       "8766                16.74973                       13.77309             5   \n",
       "8767                16.13312                       20.78427             5   \n",
       "8768                15.51014                       16.21372             1   \n",
       "\n",
       "      pct_rage_click  session_duration  pct_mouse_click  job  race  age  \n",
       "0           41.19641         106.97645         16.06948    3     1   60  \n",
       "1           40.01657         135.12413         18.11505    3     1   60  \n",
       "2           53.41472          92.40541         12.91460    3     1   60  \n",
       "3           33.63685         105.09470         12.93503    3     1   60  \n",
       "4           60.64751         183.27447         13.37094  285     4   97  \n",
       "...              ...               ...              ...  ...   ...  ...  \n",
       "8764        40.75720         165.09875         11.59283    3     1   60  \n",
       "8765        47.52506         231.75373         17.37766  360     1   60  \n",
       "8766        43.87094         117.20051         13.22402    3     1   60  \n",
       "8767        67.75252         160.45967         15.12488    3     1   60  \n",
       "8768        58.77852         114.40662         15.41130    3     3   81  \n",
       "\n",
       "[8769 rows x 26 columns]"
      ]
     },
     "execution_count": 158,
     "metadata": {},
     "output_type": "execute_result"
    }
   ],
   "source": [
    "training = pd.read_csv(\"trenovaci.csv\", sep=',')\n",
    "target = pd.read_csv(\"trenovaci_target.csv\", sep=',')\n",
    "training"
   ]
  },
  {
   "cell_type": "markdown",
   "metadata": {},
   "source": [
    "## OneR "
   ]
  },
  {
   "cell_type": "code",
   "execution_count": 159,
   "metadata": {},
   "outputs": [],
   "source": [
    "X_train, X_test, y_train, y_test = train_test_split(training, target, test_size=0.2, random_state=42)\n",
    "\n",
    "y_test = pd.DataFrame(y_test)"
   ]
  },
  {
   "cell_type": "code",
   "execution_count": 160,
   "metadata": {},
   "outputs": [
    {
     "name": "stdout",
     "output_type": "stream",
     "text": [
      "Accuracy single: 0.5330672748004561\n",
      "Precision signle: 0.26653363740022806\n",
      "Recall single: 0.5\n",
      "---------------------------------------------\n",
      "Accuracy multiple: 0.5330672748004561\n",
      "Precision multiple: 0.26653363740022806\n",
      "Recall multiple: 0.5\n"
     ]
    },
    {
     "name": "stderr",
     "output_type": "stream",
     "text": [
      "/var/folders/g0/hx6lq77547x54x2r4mb51vx80000gn/T/ipykernel_3040/1850212620.py:41: FutureWarning: The behavior of array concatenation with empty entries is deprecated. In a future version, this will no longer exclude empty items when determining the result dtype. To retain the old behavior, exclude the empty entries before the concat operation.\n",
      "  predictions = predictions.combine_first(column_predictions)\n",
      "/var/folders/g0/hx6lq77547x54x2r4mb51vx80000gn/T/ipykernel_3040/1850212620.py:41: FutureWarning: The behavior of array concatenation with empty entries is deprecated. In a future version, this will no longer exclude empty items when determining the result dtype. To retain the old behavior, exclude the empty entries before the concat operation.\n",
      "  predictions = predictions.combine_first(column_predictions)\n",
      "/Users/markbartalos/.virtualenvs/iau/lib/python3.11/site-packages/sklearn/metrics/_classification.py:1469: UndefinedMetricWarning: Precision is ill-defined and being set to 0.0 in labels with no predicted samples. Use `zero_division` parameter to control this behavior.\n",
      "  _warn_prf(average, modifier, msg_start, len(result))\n",
      "/Users/markbartalos/.virtualenvs/iau/lib/python3.11/site-packages/sklearn/metrics/_classification.py:1469: UndefinedMetricWarning: Precision is ill-defined and being set to 0.0 in labels with no predicted samples. Use `zero_division` parameter to control this behavior.\n",
      "  _warn_prf(average, modifier, msg_start, len(result))\n"
     ]
    }
   ],
   "source": [
    "def one_r_classifier(X_train, y_train, use_multiple_features=False):\n",
    "    best_feature = None\n",
    "    best_accuracy = 0\n",
    "    best_rules = {}\n",
    "    median_values = {}\n",
    "\n",
    "    for column in X_train.columns:\n",
    "        # if X_train[column].dtype in [np.float64, np.float32]:\n",
    "        median_value = X_train[column].median()\n",
    "        X_train_binned = X_train[column].apply(lambda x: 0 if x < median_value else 1)\n",
    "        median_values[column] = median_value\n",
    "        # else:\n",
    "            # X_train_binned = X_train[column]\n",
    "        # Create rules: for each feature value, choose the most common target value\n",
    "        rules = X_train_binned.groupby(y_train).apply(lambda x: x.value_counts().idxmax())\n",
    "        # // nasjst deliacu\n",
    "        # Calculate accuracy\n",
    "        predictions = X_train[column].map(rules)\n",
    "        accuracy = (predictions == y_train).mean()\n",
    "\n",
    "        if not use_multiple_features and accuracy > best_accuracy:\n",
    "            best_accuracy = accuracy\n",
    "            best_feature = column\n",
    "            best_rules = {column: rules}\n",
    "\n",
    "        if use_multiple_features:\n",
    "            best_rules[column] = rules\n",
    "\n",
    "    return (best_feature, median_values) if not use_multiple_features else None, best_rules, median_values\n",
    "\n",
    "def predict(X_test, rules, median_values):\n",
    "    predictions = pd.Series(index=X_test.index, dtype='object')\n",
    "\n",
    "    for column, rule in rules.items():\n",
    "        if column in median_values:\n",
    "            X_test_binned = X_test[column].apply(lambda x: 0 if x < median_values[column] else 1)\n",
    "        else:\n",
    "            X_test_binned = X_test[column]\n",
    "            \n",
    "        column_predictions = X_test_binned.map(rule)\n",
    "        predictions = predictions.combine_first(column_predictions)\n",
    "    return predictions\n",
    "\n",
    "X_train, X_test, y_train, y_test = train_test_split(training, target, test_size=0.2, random_state=42)\n",
    "\n",
    "# Single feature\n",
    "best_feature, rules, medians = one_r_classifier(X_train, y_train['ack'])\n",
    "predictions = predict(X_test, rules, medians)\n",
    "\n",
    "# Multiple feature\n",
    "_, rules_multiple, medians = one_r_classifier(X_train, y_train['ack'], use_multiple_features=True)\n",
    "predictions_multiple = predict(X_test, rules_multiple, medians)\n",
    "\n",
    "print(\"Accuracy single:\", metrics.accuracy_score(y_test, predictions))\n",
    "print(\"Precision signle:\", precision_score(y_test, predictions, average='macro'))\n",
    "print(\"Recall single:\", recall_score(y_test, predictions, average='macro'))\n",
    "\n",
    "print(\"---------------------------------------------\")\n",
    "\n",
    "print(\"Accuracy multiple:\", metrics.accuracy_score(y_test, predictions_multiple))\n",
    "print(\"Precision multiple:\", precision_score(y_test, predictions_multiple, average='macro'))\n",
    "print(\"Recall multiple:\", recall_score(y_test, predictions_multiple, average='macro'))\n"
   ]
  },
  {
   "cell_type": "markdown",
   "metadata": {},
   "source": [
    "The one_r_classifier function takes in a training Dataframe with the our data columns and a dataframe with the 'ack' value for each row in the previous dataset. If multiple features are disabled the function calculates for each column gets the most common target value for each row in the that column. After we evaluate the the precision we can know which feature produced (single column) the most precise results.\n",
    "\n",
    "If we use multiple features (columns) the columns will be recursively chained, so one column will influence the other attribute's value. This will produce a tree like rule structure.\n",
    "\n",
    "When we predict new values if a single attribute rule was used only the first (and only) rule is selected and based on that rule the results are mapped to the input.\n",
    "When we are using multple features we iterate through the whole collection and for each column we map the target values and at the end we combine them."
   ]
  },
  {
   "cell_type": "code",
   "execution_count": 161,
   "metadata": {},
   "outputs": [
    {
     "name": "stdout",
     "output_type": "stream",
     "text": [
      "{'pct_wild_mouse': ('pct_wild_mouse', 0), 'screen_height': ('screen_height', 0), 'pct_input': ('pct_input', 1), 'pct_scrandom': ('pct_scrandom', 0), 'pct_scroll_move': ('pct_scroll_move', 0), 'pct_click_product_info': ('pct_click_product_info', 0), 'wild_mouse_duration': ('wild_mouse_duration', 1), 'total_load_time': ('total_load_time', 1), 'pct_click': ('pct_click', 2), 'screen_width': ('screen_width', 0), 'pct_doubleclick': ('pct_doubleclick', 1), 'product_ean': ('product_ean', 2), 'pct_mouse_move': ('pct_mouse_move', 0), 'user_id': ('user_id', 2), 'session_id': ('session_id', 3), 'pct_scroll_move_duration': ('pct_scroll_move_duration', 3), 'scroll_move_total_rel_distance': ('scroll_move_total_rel_distance', 2), 'page_activity_duration': ('page_activity_duration', 2), 'mouse_move_total_rel_distance': ('mouse_move_total_rel_distance', 2), 'browser_name': ('browser_name', 1), 'pct_rage_click': ('pct_rage_click', 1), 'session_duration': ('session_duration', 3), 'pct_mouse_click': ('pct_mouse_click', 3), 'job': ('job', 0), 'race': ('race', 0), 'age': ('age', 0)}\n",
      "Accuracy single: 0.49942987457240595\n",
      "Precision signle: 0.5212434066362368\n",
      "Recall single: 0.5160147042499984\n",
      "---------------------------------------------\n",
      "Accuracy multiple: 0.49144811858608894\n",
      "Precision multiple: 0.5484685643344861\n",
      "Recall multiple: 0.517844247256012\n"
     ]
    }
   ],
   "source": [
    "def create_rule(data, y_train):\n",
    "    rules = {}\n",
    "    for feature in data.columns:\n",
    "        best_accuracy = 0\n",
    "        best_rule = None\n",
    "        unique_values = data[feature].unique()\n",
    "        for value in unique_values:\n",
    "            rule = (feature, value)\n",
    "\n",
    "            predictions = data[feature] == value\n",
    "            # Here we see how our unique value influences the accuracy of the prediction, we use this as basis of mesuring\n",
    "            # in what % matches the unique values's position in the data with the target value\n",
    "            accuracy = accuracy_score(y_train['ack'], predictions)\n",
    "\n",
    "            if accuracy > best_accuracy:\n",
    "                best_accuracy = accuracy\n",
    "                best_rule = rule\n",
    "            \n",
    "        rules[feature] = best_rule\n",
    "    \n",
    "    return rules\n",
    "\n",
    "\n",
    "def predict(X_test, rules, best_feature):\n",
    "    feature, value = rules[best_feature]\n",
    "    return (X_test[feature] == value).astype(int)\n",
    "\n",
    "def select_best_feature(rules):\n",
    "    best_feature = max(rules, key=lambda x: rules[x][1])\n",
    "    return best_feature\n",
    "\n",
    "def bin_data(data):\n",
    "    data = data.copy()\n",
    "    for feature in data.columns:\n",
    "        #Divide number values into bins\n",
    "        if data[feature].dtype in [np.float64, np.float32, np.int64, np.int32]:\n",
    "            data[feature] = pd.qcut(data[feature], q=4, duplicates='drop', labels=False)\n",
    "    return data\n",
    "\n",
    "def one_r_classifier(X_train, y_train):\n",
    "    X_train = X_train.copy()\n",
    "    X_train_binned = bin_data(X_train)\n",
    "    rules = create_rule(X_train_binned, y_train)\n",
    "    best_feature = select_best_feature(rules)\n",
    "    print(rules)\n",
    "    return rules, best_feature\n",
    "\n",
    "\n",
    "def one_r_classifier_recursive(X_train, y_train, selected_features=None, best_rules=None, max_features=None):\n",
    "    if selected_features is None:\n",
    "        selected_features = []\n",
    "    if best_rules is None:\n",
    "        best_rules = {}\n",
    "\n",
    "    if max_features is not None and len(selected_features) >= max_features:\n",
    "        return best_rules, selected_features\n",
    "\n",
    "    # Probably dont have to do this every iteration\n",
    "    X_train_binned = bin_data(X_train)\n",
    "    rules = create_rule(X_train_binned.drop(columns=selected_features), y_train)\n",
    "    best_feature = select_best_feature(rules)\n",
    "\n",
    "    if best_feature is None or best_feature in selected_features:\n",
    "        return best_rules, selected_features\n",
    "\n",
    "    best_rules[best_feature] = rules[best_feature]\n",
    "    selected_features.append(best_feature)\n",
    "\n",
    "    return one_r_classifier_recursive(X_train, y_train, selected_features, best_rules, max_features)\n",
    "\n",
    "\n",
    "def multiple_predict(X_test, selected_features, rules):\n",
    "    X_test = pd.DataFrame(X_test, columns=selected_features)\n",
    "    # Apply the rules for each feature and store the predictions\n",
    "    predictions = pd.DataFrame(index=X_test.index)\n",
    "    for feature in selected_features:\n",
    "        _, rule_value = rules[feature]\n",
    "        predictions[feature] = (X_test[feature] == rule_value).astype(int)\n",
    "\n",
    "    # Combine the predictions (majority voting)\n",
    "    final_prediction = predictions.mode(axis=1)[0]  # 0 if tied\n",
    "    return final_prediction\n",
    "\n",
    "X_train, X_test, y_train, y_test = train_test_split(training, target, test_size=0.2, random_state=42)\n",
    "\n",
    "y_test = pd.DataFrame(y_test)\n",
    "\n",
    "rules, best_feature = one_r_classifier(X_train, y_train)\n",
    "X_test_binned = bin_data(X_test)\n",
    "\n",
    "predictions = predict(X_test_binned, rules, best_feature)\n",
    "print(\"Accuracy single:\", metrics.accuracy_score(y_test, predictions))\n",
    "print(\"Precision signle:\", precision_score(y_test, predictions, average='macro'))\n",
    "print(\"Recall single:\", recall_score(y_test, predictions, average='macro'))\n",
    "\n",
    "print(\"---------------------------------------------\")\n",
    "multiple_rules, selected_features = one_r_classifier_recursive(X_train, y_train, max_features=5)\n",
    "multiple_predictions = multiple_predict(X_test_binned, selected_features, multiple_rules)\n",
    "print(\"Accuracy multiple:\", metrics.accuracy_score(y_test, multiple_predictions))\n",
    "print(\"Precision multiple:\", precision_score(y_test, multiple_predictions, average='macro'))\n",
    "print(\"Recall multiple:\", recall_score(y_test, multiple_predictions, average='macro'))\n",
    "\n",
    "\n"
   ]
  },
  {
   "cell_type": "markdown",
   "metadata": {},
   "source": [
    "## Trénovanie a vyhodnotenie klasifikátorov strojového učenia"
   ]
  },
  {
   "cell_type": "code",
   "execution_count": 162,
   "metadata": {},
   "outputs": [],
   "source": [
    "X_train, X_test, y_train, y_test = train_test_split(training, target, test_size=0.2, random_state=42)\n",
    "X_train = pd.DataFrame(X_train)\n",
    "X_test = pd.DataFrame(X_test)\n"
   ]
  },
  {
   "cell_type": "code",
   "execution_count": 163,
   "metadata": {},
   "outputs": [],
   "source": [
    "tree_c=DecisionTreeClassifier()\n",
    "tree_c=tree_c.fit(X_train,y_train)\n",
    "prediction=tree_c.predict(X_test)"
   ]
  },
  {
   "cell_type": "code",
   "execution_count": 164,
   "metadata": {},
   "outputs": [
    {
     "name": "stdout",
     "output_type": "stream",
     "text": [
      "              precision    recall  f1-score   support\n",
      "\n",
      "           0      0.846     0.861     0.854       819\n",
      "           1      0.876     0.863     0.870       935\n",
      "\n",
      "    accuracy                          0.862      1754\n",
      "   macro avg      0.861     0.862     0.862      1754\n",
      "weighted avg      0.862     0.862     0.862      1754\n",
      "\n"
     ]
    }
   ],
   "source": [
    "print(classification_report(y_test, prediction, digits=3, target_names=[\"0\", \"1\"]))"
   ]
  },
  {
   "cell_type": "code",
   "execution_count": 165,
   "metadata": {},
   "outputs": [
    {
     "name": "stdout",
     "output_type": "stream",
     "text": [
      "accuracy is  0.8620296465222349\n"
     ]
    }
   ],
   "source": [
    "print(\"accuracy is \",metrics.accuracy_score(y_test, prediction))"
   ]
  },
  {
   "cell_type": "code",
   "execution_count": 166,
   "metadata": {},
   "outputs": [
    {
     "name": "stdout",
     "output_type": "stream",
     "text": [
      "precision is  0.8762214983713354\n"
     ]
    }
   ],
   "source": [
    "print(\"precision is \",metrics.precision_score(y_test, prediction))"
   ]
  },
  {
   "cell_type": "code",
   "execution_count": 167,
   "metadata": {},
   "outputs": [
    {
     "name": "stdout",
     "output_type": "stream",
     "text": [
      "recall is  0.8631016042780749\n"
     ]
    }
   ],
   "source": [
    "print(\"recall is \",metrics.recall_score(y_test, prediction))"
   ]
  },
  {
   "cell_type": "markdown",
   "metadata": {},
   "source": [
    "Natrénovali sme si model pomocou decision tree classifier, ukazali sme si classification report a vyhodnotili sme natrénované modeli pomocou accuraci, precision a recall. Podľa výsledkov môžeme vidieť, že výsledky sú celkom dobré. "
   ]
  },
  {
   "cell_type": "code",
   "execution_count": 168,
   "metadata": {},
   "outputs": [
    {
     "data": {
      "text/plain": [
       "<sklearn.metrics._plot.confusion_matrix.ConfusionMatrixDisplay at 0x2bb65e690>"
      ]
     },
     "execution_count": 168,
     "metadata": {},
     "output_type": "execute_result"
    },
    {
     "data": {
      "image/png": "[encoded data removed]",
      "text/plain": [
       "<Figure size 640x480 with 2 Axes>"
      ]
     },
     "metadata": {},
     "output_type": "display_data"
    }
   ],
   "source": [
    "matrix1=confusion_matrix(y_test, prediction)\n",
    "ConfusionMatrixDisplay(matrix1).plot()"
   ]
  },
  {
   "cell_type": "markdown",
   "metadata": {},
   "source": [
    "Na grafe môžeme vidieť predikované hodnoty (predicted label) a spravne hodnoty (true label) ack. Vidíme na ňom, že vo veľa prípadoch priradil správnu hodnotu. Nespávne vyhodnotených nie je až tak veľa, však viac je takých, že správna hodnota bola 1 a vyhodnotil ju ako 0."
   ]
  },
  {
   "cell_type": "code",
   "execution_count": 172,
   "metadata": {},
   "outputs": [
    {
     "ename": "InvalidParameterError",
     "evalue": "The 'feature_names' parameter of plot_tree must be an instance of 'list' or None. Got Index(['pct_wild_mouse', 'screen_height', 'pct_input', 'pct_scrandom',\n       'pct_scroll_move', 'pct_click_product_info', 'wild_mouse_duration',\n       'total_load_time', 'pct_click', 'screen_width', 'pct_doubleclick',\n       'product_ean', 'pct_mouse_move', 'user_id', 'session_id',\n       'pct_scroll_move_duration', 'scroll_move_total_rel_distance',\n       'page_activity_duration', 'mouse_move_total_rel_distance',\n       'browser_name', 'pct_rage_click', 'session_duration', 'pct_mouse_click',\n       'job', 'race', 'age'],\n      dtype='object') instead.",
     "output_type": "error",
     "traceback": [
      "\u001b[0;31m---------------------------------------------------------------------------\u001b[0m",
      "\u001b[0;31mInvalidParameterError\u001b[0m                     Traceback (most recent call last)",
      "\u001b[1;32m/Users/markbartalos/Documents/School/WS 2023:24/IAU/Notebooks/Project/faza3.ipynb Cell 20\u001b[0m line \u001b[0;36m2\n\u001b[1;32m      <a href='vscode-notebook-cell:/Users/markbartalos/Documents/School/WS%202023%3A24/IAU/Notebooks/Project/faza3.ipynb#X23sZmlsZQ%3D%3D?line=0'>1</a>\u001b[0m plt\u001b[39m.\u001b[39mfigure(figsize\u001b[39m=\u001b[39m(\u001b[39m50\u001b[39m, \u001b[39m10\u001b[39m))\n\u001b[0;32m----> <a href='vscode-notebook-cell:/Users/markbartalos/Documents/School/WS%202023%3A24/IAU/Notebooks/Project/faza3.ipynb#X23sZmlsZQ%3D%3D?line=1'>2</a>\u001b[0m tree\u001b[39m.\u001b[39;49mplot_tree(tree_c,\n\u001b[1;32m      <a href='vscode-notebook-cell:/Users/markbartalos/Documents/School/WS%202023%3A24/IAU/Notebooks/Project/faza3.ipynb#X23sZmlsZQ%3D%3D?line=2'>3</a>\u001b[0m                filled\u001b[39m=\u001b[39;49m\u001b[39mTrue\u001b[39;49;00m,\n\u001b[1;32m      <a href='vscode-notebook-cell:/Users/markbartalos/Documents/School/WS%202023%3A24/IAU/Notebooks/Project/faza3.ipynb#X23sZmlsZQ%3D%3D?line=3'>4</a>\u001b[0m                feature_names\u001b[39m=\u001b[39;49mX_test\u001b[39m.\u001b[39;49mcolumns,\n\u001b[1;32m      <a href='vscode-notebook-cell:/Users/markbartalos/Documents/School/WS%202023%3A24/IAU/Notebooks/Project/faza3.ipynb#X23sZmlsZQ%3D%3D?line=4'>5</a>\u001b[0m                class_names\u001b[39m=\u001b[39;49m[\u001b[39m'\u001b[39;49m\u001b[39m0\u001b[39;49m\u001b[39m'\u001b[39;49m, \u001b[39m'\u001b[39;49m\u001b[39m1\u001b[39;49m\u001b[39m'\u001b[39;49m]) \n\u001b[1;32m      <a href='vscode-notebook-cell:/Users/markbartalos/Documents/School/WS%202023%3A24/IAU/Notebooks/Project/faza3.ipynb#X23sZmlsZQ%3D%3D?line=5'>6</a>\u001b[0m plt\u001b[39m.\u001b[39mshow()\n",
      "File \u001b[0;32m~/.virtualenvs/iau/lib/python3.11/site-packages/sklearn/utils/_param_validation.py:201\u001b[0m, in \u001b[0;36mvalidate_params.<locals>.decorator.<locals>.wrapper\u001b[0;34m(*args, **kwargs)\u001b[0m\n\u001b[1;32m    198\u001b[0m to_ignore \u001b[39m+\u001b[39m\u001b[39m=\u001b[39m [\u001b[39m\"\u001b[39m\u001b[39mself\u001b[39m\u001b[39m\"\u001b[39m, \u001b[39m\"\u001b[39m\u001b[39mcls\u001b[39m\u001b[39m\"\u001b[39m]\n\u001b[1;32m    199\u001b[0m params \u001b[39m=\u001b[39m {k: v \u001b[39mfor\u001b[39;00m k, v \u001b[39min\u001b[39;00m params\u001b[39m.\u001b[39marguments\u001b[39m.\u001b[39mitems() \u001b[39mif\u001b[39;00m k \u001b[39mnot\u001b[39;00m \u001b[39min\u001b[39;00m to_ignore}\n\u001b[0;32m--> 201\u001b[0m validate_parameter_constraints(\n\u001b[1;32m    202\u001b[0m     parameter_constraints, params, caller_name\u001b[39m=\u001b[39;49mfunc\u001b[39m.\u001b[39;49m\u001b[39m__qualname__\u001b[39;49m\n\u001b[1;32m    203\u001b[0m )\n\u001b[1;32m    205\u001b[0m \u001b[39mtry\u001b[39;00m:\n\u001b[1;32m    206\u001b[0m     \u001b[39mwith\u001b[39;00m config_context(\n\u001b[1;32m    207\u001b[0m         skip_parameter_validation\u001b[39m=\u001b[39m(\n\u001b[1;32m    208\u001b[0m             prefer_skip_nested_validation \u001b[39mor\u001b[39;00m global_skip_validation\n\u001b[1;32m    209\u001b[0m         )\n\u001b[1;32m    210\u001b[0m     ):\n",
      "File \u001b[0;32m~/.virtualenvs/iau/lib/python3.11/site-packages/sklearn/utils/_param_validation.py:95\u001b[0m, in \u001b[0;36mvalidate_parameter_constraints\u001b[0;34m(parameter_constraints, params, caller_name)\u001b[0m\n\u001b[1;32m     89\u001b[0m \u001b[39melse\u001b[39;00m:\n\u001b[1;32m     90\u001b[0m     constraints_str \u001b[39m=\u001b[39m (\n\u001b[1;32m     91\u001b[0m         \u001b[39mf\u001b[39m\u001b[39m\"\u001b[39m\u001b[39m{\u001b[39;00m\u001b[39m'\u001b[39m\u001b[39m, \u001b[39m\u001b[39m'\u001b[39m\u001b[39m.\u001b[39mjoin([\u001b[39mstr\u001b[39m(c)\u001b[39m \u001b[39m\u001b[39mfor\u001b[39;00m\u001b[39m \u001b[39mc\u001b[39m \u001b[39m\u001b[39min\u001b[39;00m\u001b[39m \u001b[39mconstraints[:\u001b[39m-\u001b[39m\u001b[39m1\u001b[39m]])\u001b[39m}\u001b[39;00m\u001b[39m or\u001b[39m\u001b[39m\"\u001b[39m\n\u001b[1;32m     92\u001b[0m         \u001b[39mf\u001b[39m\u001b[39m\"\u001b[39m\u001b[39m \u001b[39m\u001b[39m{\u001b[39;00mconstraints[\u001b[39m-\u001b[39m\u001b[39m1\u001b[39m]\u001b[39m}\u001b[39;00m\u001b[39m\"\u001b[39m\n\u001b[1;32m     93\u001b[0m     )\n\u001b[0;32m---> 95\u001b[0m \u001b[39mraise\u001b[39;00m InvalidParameterError(\n\u001b[1;32m     96\u001b[0m     \u001b[39mf\u001b[39m\u001b[39m\"\u001b[39m\u001b[39mThe \u001b[39m\u001b[39m{\u001b[39;00mparam_name\u001b[39m!r}\u001b[39;00m\u001b[39m parameter of \u001b[39m\u001b[39m{\u001b[39;00mcaller_name\u001b[39m}\u001b[39;00m\u001b[39m must be\u001b[39m\u001b[39m\"\u001b[39m\n\u001b[1;32m     97\u001b[0m     \u001b[39mf\u001b[39m\u001b[39m\"\u001b[39m\u001b[39m \u001b[39m\u001b[39m{\u001b[39;00mconstraints_str\u001b[39m}\u001b[39;00m\u001b[39m. Got \u001b[39m\u001b[39m{\u001b[39;00mparam_val\u001b[39m!r}\u001b[39;00m\u001b[39m instead.\u001b[39m\u001b[39m\"\u001b[39m\n\u001b[1;32m     98\u001b[0m )\n",
      "\u001b[0;31mInvalidParameterError\u001b[0m: The 'feature_names' parameter of plot_tree must be an instance of 'list' or None. Got Index(['pct_wild_mouse', 'screen_height', 'pct_input', 'pct_scrandom',\n       'pct_scroll_move', 'pct_click_product_info', 'wild_mouse_duration',\n       'total_load_time', 'pct_click', 'screen_width', 'pct_doubleclick',\n       'product_ean', 'pct_mouse_move', 'user_id', 'session_id',\n       'pct_scroll_move_duration', 'scroll_move_total_rel_distance',\n       'page_activity_duration', 'mouse_move_total_rel_distance',\n       'browser_name', 'pct_rage_click', 'session_duration', 'pct_mouse_click',\n       'job', 'race', 'age'],\n      dtype='object') instead."
     ]
    },
    {
     "data": {
      "text/plain": [
       "<Figure size 5000x1000 with 0 Axes>"
      ]
     },
     "metadata": {},
     "output_type": "display_data"
    }
   ],
   "source": [
    "plt.figure(figsize=(50, 10))\n",
    "tree.plot_tree(tree_c,\n",
    "               filled=True,\n",
    "               feature_names=X_test.columns,\n",
    "               class_names=['0', '1']) \n",
    "plt.show()\n",
    "\n"
   ]
  },
  {
   "cell_type": "markdown",
   "metadata": {},
   "source": [
    "Vyššie môžeme vidieť farebnú vizualizáciu decision tree."
   ]
  },
  {
   "cell_type": "code",
   "execution_count": null,
   "metadata": {},
   "outputs": [
    {
     "name": "stderr",
     "output_type": "stream",
     "text": [
      "C:\\Users\\danie\\AppData\\Local\\Programs\\Python\\Python310\\lib\\site-packages\\sklearn\\base.py:1152: DataConversionWarning: A column-vector y was passed when a 1d array was expected. Please change the shape of y to (n_samples,), for example using ravel().\n",
      "  return fit_method(estimator, *args, **kwargs)\n"
     ]
    }
   ],
   "source": [
    "forest_c=RandomForestClassifier()\n",
    "forest_c=forest_c.fit(X_train,y_train)\n",
    "prediction2=forest_c.predict(X_test)"
   ]
  },
  {
   "cell_type": "code",
   "execution_count": null,
   "metadata": {},
   "outputs": [
    {
     "name": "stdout",
     "output_type": "stream",
     "text": [
      "              precision    recall  f1-score   support\n",
      "\n",
      "           0      0.941     0.918     0.930       819\n",
      "           1      0.930     0.950     0.940       935\n",
      "\n",
      "    accuracy                          0.935      1754\n",
      "   macro avg      0.936     0.934     0.935      1754\n",
      "weighted avg      0.935     0.935     0.935      1754\n",
      "\n"
     ]
    }
   ],
   "source": [
    "print(classification_report(y_test, prediction2, digits=3, target_names=[\"0\", \"1\"]))"
   ]
  },
  {
   "cell_type": "code",
   "execution_count": null,
   "metadata": {},
   "outputs": [
    {
     "name": "stdout",
     "output_type": "stream",
     "text": [
      "accuracy is  0.935005701254276\n"
     ]
    }
   ],
   "source": [
    "print(\"accuracy is \",metrics.accuracy_score(y_test, prediction2))"
   ]
  },
  {
   "cell_type": "code",
   "execution_count": null,
   "metadata": {},
   "outputs": [
    {
     "name": "stdout",
     "output_type": "stream",
     "text": [
      "precision is  0.9298429319371728\n"
     ]
    }
   ],
   "source": [
    "print(\"precision is \",metrics.precision_score(y_test, prediction2))"
   ]
  },
  {
   "cell_type": "code",
   "execution_count": null,
   "metadata": {},
   "outputs": [
    {
     "name": "stdout",
     "output_type": "stream",
     "text": [
      "recall is  0.9497326203208556\n"
     ]
    }
   ],
   "source": [
    "print(\"recall is \",metrics.recall_score(y_test, prediction2))"
   ]
  },
  {
   "cell_type": "markdown",
   "metadata": {},
   "source": [
    "Nasledne sme si natrénovali model pomocou random forest classifier, ukazali sme si classification report a vyhodnotili sme natrénované modeli pomocou accuraci, precision a recall. Podľa výsledkov môžeme vidieť, že výsledky sú velmi dobré. "
   ]
  },
  {
   "cell_type": "code",
   "execution_count": null,
   "metadata": {},
   "outputs": [
    {
     "data": {
      "text/plain": [
       "<sklearn.metrics._plot.confusion_matrix.ConfusionMatrixDisplay at 0x22a64c708e0>"
      ]
     },
     "execution_count": 18,
     "metadata": {},
     "output_type": "execute_result"
    },
    {
     "data": {
      "image/png": "[encoded data removed]",
      "text/plain": [
       "<Figure size 640x480 with 2 Axes>"
      ]
     },
     "metadata": {},
     "output_type": "display_data"
    }
   ],
   "source": [
    "matrix1=confusion_matrix(y_test, prediction2)\n",
    "ConfusionMatrixDisplay(matrix1).plot()"
   ]
  },
  {
   "cell_type": "markdown",
   "metadata": {},
   "source": [
    "Na grafe môžeme vidieť predikované hodnoty (predicted label) a spravne hodnoty (true label) ack. Vidíme na ňom, že vo veľa prípadoch priradil správnu hodnotu. Nespávne vyhodnotených nie je až tak veľa, však viac je takých, že správna hodnota bola 0 a vyhodnotil ju ako 1."
   ]
  },
  {
   "cell_type": "markdown",
   "metadata": {},
   "source": [
    "Porovnanie DecisionTree a Random Forest:"
   ]
  },
  {
   "cell_type": "markdown",
   "metadata": {},
   "source": [
    "Random Forest mal vo všetkých metrikách (accuracy, precision, recall) lepšie hodnotenie ako Decision Tree, takže je pre nás výhodnejší. Výhodnejší je v každej metrike cca od 5% do 8%"
   ]
  },
  {
   "cell_type": "markdown",
   "metadata": {},
   "source": [
    "Porovnanie s vytvoreným OneR"
   ]
  },
  {
   "cell_type": "markdown",
   "metadata": {},
   "source": [
    "Náš OneR mal horšie hodnotenie vo všetkých metrikách ako RandomForest a aj DecisionTree. Náš vysledok je, že OneR je nevýdodnejší ako klasifikátori, ktoré sme skúšali."
   ]
  },
  {
   "cell_type": "markdown",
   "metadata": {},
   "source": [
    "## Optimalizácia alias hyperparameter tuning"
   ]
  },
  {
   "cell_type": "markdown",
   "metadata": {},
   "source": [
    "Budeme preskúmavať hyperparametre clasifikátora RandomForest, pretože nám v predchádzajúcej úlohe priniesol najlepšie výsledky. Vybrali sme si tieto parametre:\n",
    "1. n_estimators - počet stromov v lese, predvolena hodnota je 100\n",
    "2. min_samples_split - minimálny počet vzoriek potrebný na rozdelenie vnútorného uzla, predvolená hodnota je 2\n",
    "3. min_samples_leaf - minimálny počet vzoriek požadovaný na to, aby bol v uzle listu, predvolená hodnota je 1"
   ]
  },
  {
   "cell_type": "markdown",
   "metadata": {},
   "source": [
    "Skúšali sme aj s dalšími parametrami ako napríklad max_depth, max_leaf_nodes, však tie skôr zmenšovali úspešnosť."
   ]
  },
  {
   "cell_type": "markdown",
   "metadata": {},
   "source": [
    "Random forest s predvolenými hodnotami:"
   ]
  },
  {
   "cell_type": "code",
   "execution_count": null,
   "metadata": {},
   "outputs": [
    {
     "name": "stderr",
     "output_type": "stream",
     "text": [
      "C:\\Users\\danie\\AppData\\Local\\Programs\\Python\\Python310\\lib\\site-packages\\sklearn\\base.py:1152: DataConversionWarning: A column-vector y was passed when a 1d array was expected. Please change the shape of y to (n_samples,), for example using ravel().\n",
      "  return fit_method(estimator, *args, **kwargs)\n"
     ]
    },
    {
     "name": "stdout",
     "output_type": "stream",
     "text": [
      "accuracy is  0.9310148232611174\n"
     ]
    }
   ],
   "source": [
    "forest_class = RandomForestClassifier(n_estimators = 100,\n",
    "                                      min_samples_split = 2,  \n",
    "                                      min_samples_leaf = 1\n",
    "                               ) \n",
    "forest_class = forest_class.fit(X_train,y_train) \n",
    "pridiction_default = forest_class.predict(X_test)\n",
    "\n",
    "print(\"accuracy is \",metrics.accuracy_score(y_test, pridiction_default))"
   ]
  },
  {
   "cell_type": "markdown",
   "metadata": {},
   "source": [
    "Následne ideme nájsť najlepší výsledok s menením hyperparametrov"
   ]
  },
  {
   "cell_type": "code",
   "execution_count": null,
   "metadata": {},
   "outputs": [],
   "source": [
    "n_estimators = [10, 25, 50, 100, 250]\n",
    "min_samples_leaf = [1, 2, 5, 10, 20] \n",
    "min_samples_split = [2, 5, 10, 20] \n",
    "\n",
    "parametersF=dict(n_estimators = n_estimators,  \n",
    "             min_samples_leaf = min_samples_leaf,\n",
    "             min_samples_split = min_samples_split \n",
    "            )"
   ]
  },
  {
   "cell_type": "code",
   "execution_count": null,
   "metadata": {},
   "outputs": [
    {
     "name": "stderr",
     "output_type": "stream",
     "text": [
      "C:\\Users\\danie\\AppData\\Local\\Programs\\Python\\Python310\\lib\\site-packages\\sklearn\\base.py:1152: DataConversionWarning: A column-vector y was passed when a 1d array was expected. Please change the shape of y to (n_samples,), for example using ravel().\n",
      "  return fit_method(estimator, *args, **kwargs)\n"
     ]
    },
    {
     "name": "stdout",
     "output_type": "stream",
     "text": [
      "best estimator is  RandomForestClassifier(min_samples_split=5)\n",
      "score is  0.9265857218562324\n"
     ]
    }
   ],
   "source": [
    "grit_s = GridSearchCV(forest_class, parametersF, cv=3, n_jobs=-1, scoring=\"accuracy\")\n",
    "grit_s.fit(X_train, y_train)\n",
    "print(\"best estimator is \", grit_s.best_estimator_)\n",
    "print(\"score is \", grit_s.best_score_)"
   ]
  },
  {
   "cell_type": "code",
   "execution_count": null,
   "metadata": {},
   "outputs": [
    {
     "name": "stderr",
     "output_type": "stream",
     "text": [
      "C:\\Users\\danie\\AppData\\Local\\Programs\\Python\\Python310\\lib\\site-packages\\sklearn\\base.py:1152: DataConversionWarning: A column-vector y was passed when a 1d array was expected. Please change the shape of y to (n_samples,), for example using ravel().\n",
      "  return fit_method(estimator, *args, **kwargs)\n",
      "C:\\Users\\danie\\AppData\\Local\\Programs\\Python\\Python310\\lib\\site-packages\\sklearn\\base.py:1152: DataConversionWarning: A column-vector y was passed when a 1d array was expected. Please change the shape of y to (n_samples,), for example using ravel().\n",
      "  return fit_method(estimator, *args, **kwargs)\n",
      "C:\\Users\\danie\\AppData\\Local\\Programs\\Python\\Python310\\lib\\site-packages\\sklearn\\base.py:1152: DataConversionWarning: A column-vector y was passed when a 1d array was expected. Please change the shape of y to (n_samples,), for example using ravel().\n",
      "  return fit_method(estimator, *args, **kwargs)\n",
      "C:\\Users\\danie\\AppData\\Local\\Programs\\Python\\Python310\\lib\\site-packages\\sklearn\\base.py:1152: DataConversionWarning: A column-vector y was passed when a 1d array was expected. Please change the shape of y to (n_samples,), for example using ravel().\n",
      "  return fit_method(estimator, *args, **kwargs)\n",
      "C:\\Users\\danie\\AppData\\Local\\Programs\\Python\\Python310\\lib\\site-packages\\sklearn\\base.py:1152: DataConversionWarning: A column-vector y was passed when a 1d array was expected. Please change the shape of y to (n_samples,), for example using ravel().\n",
      "  return fit_method(estimator, *args, **kwargs)\n",
      "C:\\Users\\danie\\AppData\\Local\\Programs\\Python\\Python310\\lib\\site-packages\\sklearn\\base.py:1152: DataConversionWarning: A column-vector y was passed when a 1d array was expected. Please change the shape of y to (n_samples,), for example using ravel().\n",
      "  return fit_method(estimator, *args, **kwargs)\n",
      "C:\\Users\\danie\\AppData\\Local\\Programs\\Python\\Python310\\lib\\site-packages\\sklearn\\base.py:1152: DataConversionWarning: A column-vector y was passed when a 1d array was expected. Please change the shape of y to (n_samples,), for example using ravel().\n",
      "  return fit_method(estimator, *args, **kwargs)\n",
      "C:\\Users\\danie\\AppData\\Local\\Programs\\Python\\Python310\\lib\\site-packages\\sklearn\\base.py:1152: DataConversionWarning: A column-vector y was passed when a 1d array was expected. Please change the shape of y to (n_samples,), for example using ravel().\n",
      "  return fit_method(estimator, *args, **kwargs)\n",
      "C:\\Users\\danie\\AppData\\Local\\Programs\\Python\\Python310\\lib\\site-packages\\sklearn\\base.py:1152: DataConversionWarning: A column-vector y was passed when a 1d array was expected. Please change the shape of y to (n_samples,), for example using ravel().\n",
      "  return fit_method(estimator, *args, **kwargs)\n",
      "C:\\Users\\danie\\AppData\\Local\\Programs\\Python\\Python310\\lib\\site-packages\\sklearn\\base.py:1152: DataConversionWarning: A column-vector y was passed when a 1d array was expected. Please change the shape of y to (n_samples,), for example using ravel().\n",
      "  return fit_method(estimator, *args, **kwargs)\n",
      "C:\\Users\\danie\\AppData\\Local\\Programs\\Python\\Python310\\lib\\site-packages\\sklearn\\base.py:1152: DataConversionWarning: A column-vector y was passed when a 1d array was expected. Please change the shape of y to (n_samples,), for example using ravel().\n",
      "  return fit_method(estimator, *args, **kwargs)\n",
      "C:\\Users\\danie\\AppData\\Local\\Programs\\Python\\Python310\\lib\\site-packages\\sklearn\\base.py:1152: DataConversionWarning: A column-vector y was passed when a 1d array was expected. Please change the shape of y to (n_samples,), for example using ravel().\n",
      "  return fit_method(estimator, *args, **kwargs)\n",
      "C:\\Users\\danie\\AppData\\Local\\Programs\\Python\\Python310\\lib\\site-packages\\sklearn\\base.py:1152: DataConversionWarning: A column-vector y was passed when a 1d array was expected. Please change the shape of y to (n_samples,), for example using ravel().\n",
      "  return fit_method(estimator, *args, **kwargs)\n",
      "C:\\Users\\danie\\AppData\\Local\\Programs\\Python\\Python310\\lib\\site-packages\\sklearn\\base.py:1152: DataConversionWarning: A column-vector y was passed when a 1d array was expected. Please change the shape of y to (n_samples,), for example using ravel().\n",
      "  return fit_method(estimator, *args, **kwargs)\n",
      "C:\\Users\\danie\\AppData\\Local\\Programs\\Python\\Python310\\lib\\site-packages\\sklearn\\base.py:1152: DataConversionWarning: A column-vector y was passed when a 1d array was expected. Please change the shape of y to (n_samples,), for example using ravel().\n",
      "  return fit_method(estimator, *args, **kwargs)\n",
      "C:\\Users\\danie\\AppData\\Local\\Programs\\Python\\Python310\\lib\\site-packages\\sklearn\\base.py:1152: DataConversionWarning: A column-vector y was passed when a 1d array was expected. Please change the shape of y to (n_samples,), for example using ravel().\n",
      "  return fit_method(estimator, *args, **kwargs)\n",
      "C:\\Users\\danie\\AppData\\Local\\Programs\\Python\\Python310\\lib\\site-packages\\sklearn\\base.py:1152: DataConversionWarning: A column-vector y was passed when a 1d array was expected. Please change the shape of y to (n_samples,), for example using ravel().\n",
      "  return fit_method(estimator, *args, **kwargs)\n",
      "C:\\Users\\danie\\AppData\\Local\\Programs\\Python\\Python310\\lib\\site-packages\\sklearn\\base.py:1152: DataConversionWarning: A column-vector y was passed when a 1d array was expected. Please change the shape of y to (n_samples,), for example using ravel().\n",
      "  return fit_method(estimator, *args, **kwargs)\n",
      "C:\\Users\\danie\\AppData\\Local\\Programs\\Python\\Python310\\lib\\site-packages\\sklearn\\base.py:1152: DataConversionWarning: A column-vector y was passed when a 1d array was expected. Please change the shape of y to (n_samples,), for example using ravel().\n",
      "  return fit_method(estimator, *args, **kwargs)\n",
      "C:\\Users\\danie\\AppData\\Local\\Programs\\Python\\Python310\\lib\\site-packages\\sklearn\\base.py:1152: DataConversionWarning: A column-vector y was passed when a 1d array was expected. Please change the shape of y to (n_samples,), for example using ravel().\n",
      "  return fit_method(estimator, *args, **kwargs)\n",
      "C:\\Users\\danie\\AppData\\Local\\Programs\\Python\\Python310\\lib\\site-packages\\sklearn\\base.py:1152: DataConversionWarning: A column-vector y was passed when a 1d array was expected. Please change the shape of y to (n_samples,), for example using ravel().\n",
      "  return fit_method(estimator, *args, **kwargs)\n",
      "C:\\Users\\danie\\AppData\\Local\\Programs\\Python\\Python310\\lib\\site-packages\\sklearn\\base.py:1152: DataConversionWarning: A column-vector y was passed when a 1d array was expected. Please change the shape of y to (n_samples,), for example using ravel().\n",
      "  return fit_method(estimator, *args, **kwargs)\n",
      "C:\\Users\\danie\\AppData\\Local\\Programs\\Python\\Python310\\lib\\site-packages\\sklearn\\base.py:1152: DataConversionWarning: A column-vector y was passed when a 1d array was expected. Please change the shape of y to (n_samples,), for example using ravel().\n",
      "  return fit_method(estimator, *args, **kwargs)\n",
      "C:\\Users\\danie\\AppData\\Local\\Programs\\Python\\Python310\\lib\\site-packages\\sklearn\\base.py:1152: DataConversionWarning: A column-vector y was passed when a 1d array was expected. Please change the shape of y to (n_samples,), for example using ravel().\n",
      "  return fit_method(estimator, *args, **kwargs)\n",
      "C:\\Users\\danie\\AppData\\Local\\Programs\\Python\\Python310\\lib\\site-packages\\sklearn\\base.py:1152: DataConversionWarning: A column-vector y was passed when a 1d array was expected. Please change the shape of y to (n_samples,), for example using ravel().\n",
      "  return fit_method(estimator, *args, **kwargs)\n",
      "C:\\Users\\danie\\AppData\\Local\\Programs\\Python\\Python310\\lib\\site-packages\\sklearn\\base.py:1152: DataConversionWarning: A column-vector y was passed when a 1d array was expected. Please change the shape of y to (n_samples,), for example using ravel().\n",
      "  return fit_method(estimator, *args, **kwargs)\n",
      "C:\\Users\\danie\\AppData\\Local\\Programs\\Python\\Python310\\lib\\site-packages\\sklearn\\base.py:1152: DataConversionWarning: A column-vector y was passed when a 1d array was expected. Please change the shape of y to (n_samples,), for example using ravel().\n",
      "  return fit_method(estimator, *args, **kwargs)\n",
      "C:\\Users\\danie\\AppData\\Local\\Programs\\Python\\Python310\\lib\\site-packages\\sklearn\\base.py:1152: DataConversionWarning: A column-vector y was passed when a 1d array was expected. Please change the shape of y to (n_samples,), for example using ravel().\n",
      "  return fit_method(estimator, *args, **kwargs)\n",
      "C:\\Users\\danie\\AppData\\Local\\Programs\\Python\\Python310\\lib\\site-packages\\sklearn\\base.py:1152: DataConversionWarning: A column-vector y was passed when a 1d array was expected. Please change the shape of y to (n_samples,), for example using ravel().\n",
      "  return fit_method(estimator, *args, **kwargs)\n",
      "C:\\Users\\danie\\AppData\\Local\\Programs\\Python\\Python310\\lib\\site-packages\\sklearn\\base.py:1152: DataConversionWarning: A column-vector y was passed when a 1d array was expected. Please change the shape of y to (n_samples,), for example using ravel().\n",
      "  return fit_method(estimator, *args, **kwargs)\n",
      "C:\\Users\\danie\\AppData\\Local\\Programs\\Python\\Python310\\lib\\site-packages\\sklearn\\base.py:1152: DataConversionWarning: A column-vector y was passed when a 1d array was expected. Please change the shape of y to (n_samples,), for example using ravel().\n",
      "  return fit_method(estimator, *args, **kwargs)\n"
     ]
    },
    {
     "name": "stdout",
     "output_type": "stream",
     "text": [
      "best estimator is  RandomForestClassifier(min_samples_leaf=2, min_samples_split=5,\n",
      "                       n_estimators=250)\n",
      "score is  0.9268703782199236\n"
     ]
    }
   ],
   "source": [
    "random_s = RandomizedSearchCV(forest_class, parametersF, random_state=71, scoring=\"accuracy\", cv=3)\n",
    "random_s.fit(X_train, y_train)\n",
    "print(\"best estimator is \", random_s.best_estimator_)\n",
    "print(\"score is \", random_s.best_score_)"
   ]
  },
  {
   "cell_type": "markdown",
   "metadata": {},
   "source": [
    "Vyskúšali sme hľadanie najlepších hodnôt hyperparametrov dvoma technikami a to pomocou gridsearch a randomsearch. V oboch prípadoch nám vyšlo, že n_estimators=250. V random search min_samples_split=20. Ostatné parametre dávali najlepšie výsledky s predvolenými parametrami. V oboch prípadoch je úspešnosť nad 92%."
   ]
  },
  {
   "cell_type": "code",
   "execution_count": null,
   "metadata": {},
   "outputs": [],
   "source": []
  },
  {
   "cell_type": "markdown",
   "metadata": {},
   "source": [
    "# Vyhodnotenie vplyvu zvolenej stratégie riešenia na klasifikáciu"
   ]
  },
  {
   "cell_type": "code",
   "execution_count": 175,
   "metadata": {},
   "outputs": [],
   "source": [
    "X_train, X_test, y_train, y_test = train_test_split(training, target, test_size=0.2, random_state=42)\n",
    "X_train = pd.DataFrame(X_train)\n",
    "X_test = pd.DataFrame(X_test)"
   ]
  },
  {
   "cell_type": "code",
   "execution_count": 177,
   "metadata": {},
   "outputs": [
    {
     "name": "stderr",
     "output_type": "stream",
     "text": [
      "/Users/markbartalos/.virtualenvs/iau/lib/python3.11/site-packages/sklearn/base.py:1151: DataConversionWarning: A column-vector y was passed when a 1d array was expected. Please change the shape of y to (n_samples,), for example using ravel().\n",
      "  return fit_method(estimator, *args, **kwargs)\n"
     ]
    },
    {
     "name": "stdout",
     "output_type": "stream",
     "text": [
      "              precision    recall  f1-score   support\n",
      "\n",
      "           0      0.933     0.912     0.922       819\n",
      "           1      0.924     0.942     0.933       935\n",
      "\n",
      "    accuracy                          0.928      1754\n",
      "   macro avg      0.929     0.927     0.928      1754\n",
      "weighted avg      0.928     0.928     0.928      1754\n",
      "\n"
     ]
    }
   ],
   "source": [
    "forest_c=RandomForestClassifier()\n",
    "forest_c=forest_c.fit(X_train,y_train)\n",
    "prediction2=forest_c.predict(X_test)\n",
    "print(classification_report(y_test, prediction2, digits=3, target_names=[\"0\", \"1\"]))"
   ]
  },
  {
   "cell_type": "code",
   "execution_count": null,
   "metadata": {},
   "outputs": [],
   "source": [
    "SimpueSimpleImputer(strategy=imputer_type)"
   ]
  }
 ],
 "metadata": {
  "kernelspec": {
   "display_name": "Python 3 (ipykernel)",
   "language": "python",
   "name": "python3"
  },
  "language_info": {
   "codemirror_mode": {
    "name": "ipython",
    "version": 3
   },
   "file_extension": ".py",
   "mimetype": "text/x-python",
   "name": "python",
   "nbconvert_exporter": "python",
   "pygments_lexer": "ipython3",
   "version": "3.11.6"
  }
 },
 "nbformat": 4,
 "nbformat_minor": 4
}

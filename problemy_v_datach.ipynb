{
 "cells": [
  {
   "cell_type": "code",
   "execution_count": 9,
   "id": "64608be8-a8d5-4727-8c12-e5166215a5b3",
   "metadata": {},
   "outputs": [],
   "source": [
    "import pandas as pd\n",
    "import numpy as np\n",
    "import matplotlib.pyplot as plt\n",
    "import seaborn as sns\n",
    "import scipy.stats as stats"
   ]
  },
  {
   "cell_type": "code",
   "execution_count": 10,
   "id": "fa18bb85-024b-4e1c-ba21-0938f39055d4",
   "metadata": {},
   "outputs": [],
   "source": [
    "products = pd.read_csv(\"data/product.csv\", sep='\\t')\n",
    "sessions = pd.read_csv(\"data/session.csv\", sep='\\t')\n",
    "users = pd.read_csv(\"data/user.csv\", sep='\\t')"
   ]
  },
  {
   "cell_type": "code",
   "execution_count": 11,
   "id": "847f7b5c-6759-4782-b3ec-197413b0ea33",
   "metadata": {},
   "outputs": [
    {
     "data": {
      "text/html": [
       "<div>\n",
       "<style scoped>\n",
       "    .dataframe tbody tr th:only-of-type {\n",
       "        vertical-align: middle;\n",
       "    }\n",
       "\n",
       "    .dataframe tbody tr th {\n",
       "        vertical-align: top;\n",
       "    }\n",
       "\n",
       "    .dataframe thead th {\n",
       "        text-align: right;\n",
       "    }\n",
       "</style>\n",
       "<table border=\"1\" class=\"dataframe\">\n",
       "  <thead>\n",
       "    <tr style=\"text-align: right;\">\n",
       "      <th></th>\n",
       "      <th>username</th>\n",
       "      <th>residence</th>\n",
       "      <th>current_location</th>\n",
       "      <th>name</th>\n",
       "      <th>mail</th>\n",
       "      <th>job</th>\n",
       "      <th>sex</th>\n",
       "      <th>race</th>\n",
       "      <th>address</th>\n",
       "      <th>birthdate</th>\n",
       "      <th>user_id</th>\n",
       "    </tr>\n",
       "  </thead>\n",
       "  <tbody>\n",
       "    <tr>\n",
       "      <th>0</th>\n",
       "      <td>gabrieladas-neves</td>\n",
       "      <td>NaN</td>\n",
       "      <td>(Decimal('-37.802134'), Decimal('79.453092'))</td>\n",
       "      <td>Sabrina da Luz</td>\n",
       "      <td>xda-cunha@yahoo.com.br</td>\n",
       "      <td>Engenheiro aeronáutico</td>\n",
       "      <td>NaN</td>\n",
       "      <td>NaN</td>\n",
       "      <td>Condomínio de Silva, 16\\nNovo Ouro Preto\\n6891...</td>\n",
       "      <td>NaN</td>\n",
       "      <td>640</td>\n",
       "    </tr>\n",
       "    <tr>\n",
       "      <th>1</th>\n",
       "      <td>ferreirajulia</td>\n",
       "      <td>NaN</td>\n",
       "      <td>(Decimal('4.633756'), Decimal('102.063245'))</td>\n",
       "      <td>Maria Vitória Mendes</td>\n",
       "      <td>catarinada-conceicao@gmail.com</td>\n",
       "      <td>Mãe social</td>\n",
       "      <td>F</td>\n",
       "      <td>black</td>\n",
       "      <td>Campo Eloah Ribeiro, 66\\nEstrela Do Oriente\\n2...</td>\n",
       "      <td>1946-06-27</td>\n",
       "      <td>1222</td>\n",
       "    </tr>\n",
       "    <tr>\n",
       "      <th>2</th>\n",
       "      <td>isadora80</td>\n",
       "      <td>NaN</td>\n",
       "      <td>(Decimal('80.9854585'), Decimal('135.043616'))</td>\n",
       "      <td>Isabella Nascimento</td>\n",
       "      <td>maria-sophiasouza@ig.com.br</td>\n",
       "      <td>NaN</td>\n",
       "      <td>NaN</td>\n",
       "      <td>NaN</td>\n",
       "      <td>Viela da Luz\\nConjunto Santa Maria\\n92354128 A...</td>\n",
       "      <td>1940-12-01</td>\n",
       "      <td>298</td>\n",
       "    </tr>\n",
       "    <tr>\n",
       "      <th>3</th>\n",
       "      <td>adriana04</td>\n",
       "      <td>NaN</td>\n",
       "      <td>(Decimal('67.6271835'), Decimal('-41.336778'))</td>\n",
       "      <td>Daria Boldù</td>\n",
       "      <td>ngaleati@alice.it</td>\n",
       "      <td>NaN</td>\n",
       "      <td>NaN</td>\n",
       "      <td>NaN</td>\n",
       "      <td>Vicolo Sophia, 452 Piano 7\\n26843, Meleti (LO)</td>\n",
       "      <td>1958-02-01</td>\n",
       "      <td>316</td>\n",
       "    </tr>\n",
       "    <tr>\n",
       "      <th>4</th>\n",
       "      <td>kellygreg</td>\n",
       "      <td>NaN</td>\n",
       "      <td>(Decimal('39.336945'), Decimal('120.879401'))</td>\n",
       "      <td>Sandra Jenkins</td>\n",
       "      <td>danieljordan@yahoo.com</td>\n",
       "      <td>Fine artist</td>\n",
       "      <td>NaN</td>\n",
       "      <td>NaN</td>\n",
       "      <td>31740 Maria Stravenue Apt. 240\\nLake Rodneyfur...</td>\n",
       "      <td>1997-05-26</td>\n",
       "      <td>1992</td>\n",
       "    </tr>\n",
       "  </tbody>\n",
       "</table>\n",
       "</div>"
      ],
      "text/plain": [
       "            username residence  \\\n",
       "0  gabrieladas-neves       NaN   \n",
       "1      ferreirajulia       NaN   \n",
       "2          isadora80       NaN   \n",
       "3          adriana04       NaN   \n",
       "4          kellygreg       NaN   \n",
       "\n",
       "                                 current_location                  name  \\\n",
       "0   (Decimal('-37.802134'), Decimal('79.453092'))        Sabrina da Luz   \n",
       "1    (Decimal('4.633756'), Decimal('102.063245'))  Maria Vitória Mendes   \n",
       "2  (Decimal('80.9854585'), Decimal('135.043616'))   Isabella Nascimento   \n",
       "3  (Decimal('67.6271835'), Decimal('-41.336778'))           Daria Boldù   \n",
       "4   (Decimal('39.336945'), Decimal('120.879401'))        Sandra Jenkins   \n",
       "\n",
       "                             mail                     job  sex   race  \\\n",
       "0          xda-cunha@yahoo.com.br  Engenheiro aeronáutico  NaN    NaN   \n",
       "1  catarinada-conceicao@gmail.com              Mãe social    F  black   \n",
       "2     maria-sophiasouza@ig.com.br                     NaN  NaN    NaN   \n",
       "3               ngaleati@alice.it                     NaN  NaN    NaN   \n",
       "4          danieljordan@yahoo.com             Fine artist  NaN    NaN   \n",
       "\n",
       "                                             address   birthdate  user_id  \n",
       "0  Condomínio de Silva, 16\\nNovo Ouro Preto\\n6891...         NaN      640  \n",
       "1  Campo Eloah Ribeiro, 66\\nEstrela Do Oriente\\n2...  1946-06-27     1222  \n",
       "2  Viela da Luz\\nConjunto Santa Maria\\n92354128 A...  1940-12-01      298  \n",
       "3     Vicolo Sophia, 452 Piano 7\\n26843, Meleti (LO)  1958-02-01      316  \n",
       "4  31740 Maria Stravenue Apt. 240\\nLake Rodneyfur...  1997-05-26     1992  "
      ]
     },
     "execution_count": 11,
     "metadata": {},
     "output_type": "execute_result"
    }
   ],
   "source": [
    "users.head()"
   ]
  },
  {
   "cell_type": "code",
   "execution_count": 12,
   "id": "3c3fc37a-48dc-4633-8e43-98d2a70151e7",
   "metadata": {},
   "outputs": [
    {
     "data": {
      "text/html": [
       "<div>\n",
       "<style scoped>\n",
       "    .dataframe tbody tr th:only-of-type {\n",
       "        vertical-align: middle;\n",
       "    }\n",
       "\n",
       "    .dataframe tbody tr th {\n",
       "        vertical-align: top;\n",
       "    }\n",
       "\n",
       "    .dataframe thead th {\n",
       "        text-align: right;\n",
       "    }\n",
       "</style>\n",
       "<table border=\"1\" class=\"dataframe\">\n",
       "  <thead>\n",
       "    <tr style=\"text-align: right;\">\n",
       "      <th></th>\n",
       "      <th>pct_wild_mouse</th>\n",
       "      <th>screen_height</th>\n",
       "      <th>pct_input</th>\n",
       "      <th>pct_scrandom</th>\n",
       "      <th>pct_scroll_move</th>\n",
       "      <th>pct_click_product_info</th>\n",
       "      <th>wild_mouse_duration</th>\n",
       "      <th>session_start</th>\n",
       "      <th>total_load_time</th>\n",
       "      <th>pct_click</th>\n",
       "      <th>...</th>\n",
       "      <th>session_id</th>\n",
       "      <th>pct_scroll_move_duration</th>\n",
       "      <th>ack</th>\n",
       "      <th>scroll_move_total_rel_distance</th>\n",
       "      <th>page_activity_duration</th>\n",
       "      <th>mouse_move_total_rel_distance</th>\n",
       "      <th>browser_name</th>\n",
       "      <th>pct_rage_click</th>\n",
       "      <th>session_duration</th>\n",
       "      <th>pct_mouse_click</th>\n",
       "    </tr>\n",
       "  </thead>\n",
       "  <tbody>\n",
       "    <tr>\n",
       "      <th>0</th>\n",
       "      <td>33.93175</td>\n",
       "      <td>600</td>\n",
       "      <td>2.02433</td>\n",
       "      <td>47.57172</td>\n",
       "      <td>77.67966</td>\n",
       "      <td>50.06169</td>\n",
       "      <td>16.15405</td>\n",
       "      <td>2022-04-16 18:13:19</td>\n",
       "      <td>3.66109</td>\n",
       "      <td>15.21849</td>\n",
       "      <td>...</td>\n",
       "      <td>341891</td>\n",
       "      <td>17.64845</td>\n",
       "      <td>0.0</td>\n",
       "      <td>13.31028</td>\n",
       "      <td>15.50704</td>\n",
       "      <td>16.78128</td>\n",
       "      <td>safari</td>\n",
       "      <td>73.88232</td>\n",
       "      <td>93.50794</td>\n",
       "      <td>NaN</td>\n",
       "    </tr>\n",
       "    <tr>\n",
       "      <th>1</th>\n",
       "      <td>35.01962</td>\n",
       "      <td>768</td>\n",
       "      <td>2.73613</td>\n",
       "      <td>44.98978</td>\n",
       "      <td>40.38256</td>\n",
       "      <td>53.78582</td>\n",
       "      <td>16.44725</td>\n",
       "      <td>2022-09-07 09:34:07</td>\n",
       "      <td>3.06183</td>\n",
       "      <td>17.79744</td>\n",
       "      <td>...</td>\n",
       "      <td>1302699</td>\n",
       "      <td>16.90542</td>\n",
       "      <td>1.0</td>\n",
       "      <td>18.33657</td>\n",
       "      <td>15.76245</td>\n",
       "      <td>16.67535</td>\n",
       "      <td>firefox</td>\n",
       "      <td>36.27018</td>\n",
       "      <td>83.05534</td>\n",
       "      <td>15.63971</td>\n",
       "    </tr>\n",
       "    <tr>\n",
       "      <th>2</th>\n",
       "      <td>61.41151</td>\n",
       "      <td>800</td>\n",
       "      <td>2.30551</td>\n",
       "      <td>56.16179</td>\n",
       "      <td>29.32719</td>\n",
       "      <td>61.74431</td>\n",
       "      <td>16.28032</td>\n",
       "      <td>2022-08-01 19:22:50</td>\n",
       "      <td>4.30491</td>\n",
       "      <td>16.56530</td>\n",
       "      <td>...</td>\n",
       "      <td>1346090</td>\n",
       "      <td>20.42301</td>\n",
       "      <td>1.0</td>\n",
       "      <td>7.24767</td>\n",
       "      <td>15.94806</td>\n",
       "      <td>17.84916</td>\n",
       "      <td>opera</td>\n",
       "      <td>44.07316</td>\n",
       "      <td>212.16973</td>\n",
       "      <td>13.54653</td>\n",
       "    </tr>\n",
       "    <tr>\n",
       "      <th>3</th>\n",
       "      <td>44.86510</td>\n",
       "      <td>600</td>\n",
       "      <td>4.67376</td>\n",
       "      <td>51.02882</td>\n",
       "      <td>57.35852</td>\n",
       "      <td>44.10727</td>\n",
       "      <td>16.97307</td>\n",
       "      <td>2020-03-28 06:00:21</td>\n",
       "      <td>2.66177</td>\n",
       "      <td>14.10738</td>\n",
       "      <td>...</td>\n",
       "      <td>320000</td>\n",
       "      <td>19.13251</td>\n",
       "      <td>0.0</td>\n",
       "      <td>9.27093</td>\n",
       "      <td>17.21545</td>\n",
       "      <td>15.85436</td>\n",
       "      <td>edge</td>\n",
       "      <td>61.91555</td>\n",
       "      <td>62.13615</td>\n",
       "      <td>14.83673</td>\n",
       "    </tr>\n",
       "    <tr>\n",
       "      <th>4</th>\n",
       "      <td>61.66559</td>\n",
       "      <td>800</td>\n",
       "      <td>6.29241</td>\n",
       "      <td>33.35663</td>\n",
       "      <td>50.05876</td>\n",
       "      <td>36.03935</td>\n",
       "      <td>17.26692</td>\n",
       "      <td>2023-02-12 18:25:13</td>\n",
       "      <td>3.67287</td>\n",
       "      <td>19.04736</td>\n",
       "      <td>...</td>\n",
       "      <td>291366</td>\n",
       "      <td>13.65667</td>\n",
       "      <td>0.0</td>\n",
       "      <td>19.71573</td>\n",
       "      <td>17.01892</td>\n",
       "      <td>16.65385</td>\n",
       "      <td>chrome</td>\n",
       "      <td>21.36066</td>\n",
       "      <td>157.60814</td>\n",
       "      <td>15.17088</td>\n",
       "    </tr>\n",
       "  </tbody>\n",
       "</table>\n",
       "<p>5 rows × 25 columns</p>\n",
       "</div>"
      ],
      "text/plain": [
       "   pct_wild_mouse screen_height  pct_input  pct_scrandom  pct_scroll_move  \\\n",
       "0        33.93175           600    2.02433      47.57172         77.67966   \n",
       "1        35.01962           768    2.73613      44.98978         40.38256   \n",
       "2        61.41151           800    2.30551      56.16179         29.32719   \n",
       "3        44.86510           600    4.67376      51.02882         57.35852   \n",
       "4        61.66559           800    6.29241      33.35663         50.05876   \n",
       "\n",
       "   pct_click_product_info  wild_mouse_duration        session_start  \\\n",
       "0                50.06169             16.15405  2022-04-16 18:13:19   \n",
       "1                53.78582             16.44725  2022-09-07 09:34:07   \n",
       "2                61.74431             16.28032  2022-08-01 19:22:50   \n",
       "3                44.10727             16.97307  2020-03-28 06:00:21   \n",
       "4                36.03935             17.26692  2023-02-12 18:25:13   \n",
       "\n",
       "   total_load_time  pct_click  ... session_id  pct_scroll_move_duration  ack  \\\n",
       "0          3.66109   15.21849  ...     341891                  17.64845  0.0   \n",
       "1          3.06183   17.79744  ...    1302699                  16.90542  1.0   \n",
       "2          4.30491   16.56530  ...    1346090                  20.42301  1.0   \n",
       "3          2.66177   14.10738  ...     320000                  19.13251  0.0   \n",
       "4          3.67287   19.04736  ...     291366                  13.65667  0.0   \n",
       "\n",
       "   scroll_move_total_rel_distance  page_activity_duration  \\\n",
       "0                        13.31028                15.50704   \n",
       "1                        18.33657                15.76245   \n",
       "2                         7.24767                15.94806   \n",
       "3                         9.27093                17.21545   \n",
       "4                        19.71573                17.01892   \n",
       "\n",
       "   mouse_move_total_rel_distance  browser_name  pct_rage_click  \\\n",
       "0                       16.78128        safari        73.88232   \n",
       "1                       16.67535       firefox        36.27018   \n",
       "2                       17.84916         opera        44.07316   \n",
       "3                       15.85436          edge        61.91555   \n",
       "4                       16.65385        chrome        21.36066   \n",
       "\n",
       "   session_duration  pct_mouse_click  \n",
       "0          93.50794              NaN  \n",
       "1          83.05534         15.63971  \n",
       "2         212.16973         13.54653  \n",
       "3          62.13615         14.83673  \n",
       "4         157.60814         15.17088  \n",
       "\n",
       "[5 rows x 25 columns]"
      ]
     },
     "execution_count": 12,
     "metadata": {},
     "output_type": "execute_result"
    }
   ],
   "source": [
    "sessions.head()"
   ]
  },
  {
   "cell_type": "code",
   "execution_count": 13,
   "id": "547dd12d-d6ab-4e99-8066-ea9c40c4ebf3",
   "metadata": {},
   "outputs": [
    {
     "data": {
      "text/html": [
       "<div>\n",
       "<style scoped>\n",
       "    .dataframe tbody tr th:only-of-type {\n",
       "        vertical-align: middle;\n",
       "    }\n",
       "\n",
       "    .dataframe tbody tr th {\n",
       "        vertical-align: top;\n",
       "    }\n",
       "\n",
       "    .dataframe thead th {\n",
       "        text-align: right;\n",
       "    }\n",
       "</style>\n",
       "<table border=\"1\" class=\"dataframe\">\n",
       "  <thead>\n",
       "    <tr style=\"text-align: right;\">\n",
       "      <th></th>\n",
       "      <th>code</th>\n",
       "      <th>location</th>\n",
       "      <th>store_name</th>\n",
       "      <th>product_ean</th>\n",
       "    </tr>\n",
       "  </thead>\n",
       "  <tbody>\n",
       "    <tr>\n",
       "      <th>0</th>\n",
       "      <td>HR</td>\n",
       "      <td>Europe/Zagreb</td>\n",
       "      <td>Split</td>\n",
       "      <td>3618641987900</td>\n",
       "    </tr>\n",
       "    <tr>\n",
       "      <th>1</th>\n",
       "      <td>CN</td>\n",
       "      <td>Asia/Shanghai</td>\n",
       "      <td>Heyuan</td>\n",
       "      <td>890698872559</td>\n",
       "    </tr>\n",
       "    <tr>\n",
       "      <th>2</th>\n",
       "      <td>NL</td>\n",
       "      <td>Europe/Amsterdam</td>\n",
       "      <td>Barneveld</td>\n",
       "      <td>2447491624236</td>\n",
       "    </tr>\n",
       "    <tr>\n",
       "      <th>3</th>\n",
       "      <td>MX</td>\n",
       "      <td>America/Mexico_City</td>\n",
       "      <td>Tuxtla</td>\n",
       "      <td>2920947188549</td>\n",
       "    </tr>\n",
       "    <tr>\n",
       "      <th>4</th>\n",
       "      <td>US</td>\n",
       "      <td>America/New_York</td>\n",
       "      <td>Sun City Center</td>\n",
       "      <td>4869841703558</td>\n",
       "    </tr>\n",
       "  </tbody>\n",
       "</table>\n",
       "</div>"
      ],
      "text/plain": [
       "  code             location       store_name    product_ean\n",
       "0   HR        Europe/Zagreb            Split  3618641987900\n",
       "1   CN        Asia/Shanghai           Heyuan   890698872559\n",
       "2   NL     Europe/Amsterdam        Barneveld  2447491624236\n",
       "3   MX  America/Mexico_City           Tuxtla  2920947188549\n",
       "4   US     America/New_York  Sun City Center  4869841703558"
      ]
     },
     "execution_count": 13,
     "metadata": {},
     "output_type": "execute_result"
    }
   ],
   "source": [
    "products.head()"
   ]
  },
  {
   "cell_type": "markdown",
   "id": "abf1b5b0-4a0f-47f1-a8fd-8647e79d4ee7",
   "metadata": {},
   "source": [
    "**Identifikácia problémov v dátach s prvotným riešením**"
   ]
  },
  {
   "cell_type": "markdown",
   "id": "9c703995-82e9-4787-afb5-fe805018a52f",
   "metadata": {},
   "source": [
    "**Nájdené chyby v datasete**<br />\n",
    "*V datasete users:*<br />\n",
    "1. Viacero rôzdnych userov ma rovnake user_id, čo by sa nemalo stávať, kedže id je unikátke identifikačné číslo (neviem ako opraviť, spýtať sa na cviku)\n",
    "2. V stlpci race sa nachádza hodnota \"unspecified\" a aj NaN, čo v tomto kontexte je to isté (zatiaľ som nemenila, radšej sa spýtať)\n",
    "3. Dátum je vo formáte object, nie v dátumovom, aj ked sa to nepovažuje za chybu, plánujem to zmeniť kvôli jednoduchšej práci v budúcnosti s týmto atribútom (opravené)<br />"
   ]
  },
  {
   "cell_type": "markdown",
   "id": "5ca2b269-09da-42fd-a90e-760a8723e71a",
   "metadata": {},
   "source": [
    "*V datasete session*<br />\n",
    "1. Stlpec ack je vo formáte float a nie int, čo je zbytočné (opravené)\n",
    "2. Nachádzajú sa tu duplikáty (opravené)\n",
    "3. V stlpcoch screen_height a screen_width su okrem číselných hodnôt aj hodnoty \"lower\" a \"higher\", je to správne? (spýtať sa na cviku)\n",
    "4. Dátum je vo formáte object, nie v dátumovom, aj ked sa to nepovažuje za chybu, plánujem to zmeniť kvôli jednoduchšej práci v budúcnosti s týmto atribútom (opravené)"
   ]
  },
  {
   "cell_type": "markdown",
   "id": "14b84bc9-01ba-41e6-b1ba-7073881f6502",
   "metadata": {},
   "source": [
    "*V datasete products som nenašla žiadne*"
   ]
  },
  {
   "cell_type": "markdown",
   "id": "eb6c59b6-87fa-4dce-a89f-114531b7669b",
   "metadata": {},
   "source": [
    "**Nájdené chyby, ale zatiaľ to nepotrebujeme meniť alebo je ich zbytočné meniť**"
   ]
  },
  {
   "cell_type": "markdown",
   "id": "3ecf97a5-bdd0-4c9f-a217-80b31895ef8f",
   "metadata": {},
   "source": [
    "1. Adresa v datasete users je v rôzdnych formátoch, pretože že užívatelia sú z rôzdnych krajín = nepoužiteľný atribút, rovnako atribút residence\n",
    "2. V datasete products v určitých záznamoch je atribút code NaN, preto bude ťažšie a nepresnejšie určiť, či niektoré krajiny nenakupovali viac ako iné\n",
    "3. Veľa záznamov z datasetu users má atribúty \"race\" a \"sex\" NaN, to je veľmi zlé, pretože nám dané atribúty prídu ako dobrý atribút k naučeniu modelu ohľadom ack\n",
    "4. Príde nám, že v datasetoch sa nachádza veľa atribútov, ktoré sú nám zbytočné k predikcií, či ack bude 0 alebo 1, pretože ich hodnota je pre každý záznam iná a nič nám nehovorí ako napríklad v datasete users: username, residence, address, email, name"
   ]
  },
  {
   "cell_type": "markdown",
   "id": "7a7ec3b0-adb1-4d1f-b8d4-15555cc598cd",
   "metadata": {},
   "source": [
    "**Oprava chýb**"
   ]
  },
  {
   "cell_type": "markdown",
   "id": "5f21cac3-9fc8-4c13-820e-5c1460d31c62",
   "metadata": {},
   "source": [
    "*dataset users:*"
   ]
  },
  {
   "cell_type": "markdown",
   "id": "02f277ca-b30a-4ce1-9347-f7552bb5face",
   "metadata": {},
   "source": [
    "Viacero rôzdnych userov ma rovnake id:"
   ]
  },
  {
   "cell_type": "code",
   "execution_count": 14,
   "id": "44ed76e2-3367-430a-93a9-88f0d8c2129e",
   "metadata": {},
   "outputs": [
    {
     "data": {
      "text/html": [
       "<div>\n",
       "<style scoped>\n",
       "    .dataframe tbody tr th:only-of-type {\n",
       "        vertical-align: middle;\n",
       "    }\n",
       "\n",
       "    .dataframe tbody tr th {\n",
       "        vertical-align: top;\n",
       "    }\n",
       "\n",
       "    .dataframe thead th {\n",
       "        text-align: right;\n",
       "    }\n",
       "</style>\n",
       "<table border=\"1\" class=\"dataframe\">\n",
       "  <thead>\n",
       "    <tr style=\"text-align: right;\">\n",
       "      <th></th>\n",
       "      <th>username</th>\n",
       "      <th>residence</th>\n",
       "      <th>current_location</th>\n",
       "      <th>name</th>\n",
       "      <th>mail</th>\n",
       "      <th>job</th>\n",
       "      <th>sex</th>\n",
       "      <th>race</th>\n",
       "      <th>address</th>\n",
       "      <th>birthdate</th>\n",
       "      <th>user_id</th>\n",
       "    </tr>\n",
       "  </thead>\n",
       "  <tbody>\n",
       "    <tr>\n",
       "      <th>468</th>\n",
       "      <td>rgagliano</td>\n",
       "      <td>Borgo Enzio, 952\\n38079, Zuclo (TN)</td>\n",
       "      <td>(Decimal('-5.5622835'), Decimal('74.988399'))</td>\n",
       "      <td>Lucia Bernardi</td>\n",
       "      <td>lovatoirma@alice.it</td>\n",
       "      <td>Industrial buyer</td>\n",
       "      <td>F</td>\n",
       "      <td>NaN</td>\n",
       "      <td>NaN</td>\n",
       "      <td>1960-02-14</td>\n",
       "      <td>0</td>\n",
       "    </tr>\n",
       "    <tr>\n",
       "      <th>2309</th>\n",
       "      <td>mrespighi</td>\n",
       "      <td>Borgo Mazzeo, 745\\n57023, Cecina (LI)</td>\n",
       "      <td>(Decimal('-29.1689195'), Decimal('-100.115429'))</td>\n",
       "      <td>Iolanda Zaccagnini</td>\n",
       "      <td>galassocomboni@tin.it</td>\n",
       "      <td>NaN</td>\n",
       "      <td>F</td>\n",
       "      <td>NaN</td>\n",
       "      <td>NaN</td>\n",
       "      <td>NaN</td>\n",
       "      <td>0</td>\n",
       "    </tr>\n",
       "    <tr>\n",
       "      <th>1420</th>\n",
       "      <td>calebe81</td>\n",
       "      <td>NaN</td>\n",
       "      <td>(Decimal('43.9746415'), Decimal('-97.099022'))</td>\n",
       "      <td>Dra. Amanda da Cruz</td>\n",
       "      <td>daniel17@yahoo.com.br</td>\n",
       "      <td>NaN</td>\n",
       "      <td>F</td>\n",
       "      <td>NaN</td>\n",
       "      <td>Ladeira de Moraes, 86\\nVila Santo Antônio\\n714...</td>\n",
       "      <td>2009-03-07</td>\n",
       "      <td>1</td>\n",
       "    </tr>\n",
       "    <tr>\n",
       "      <th>1242</th>\n",
       "      <td>ntroisi</td>\n",
       "      <td>NaN</td>\n",
       "      <td>(Decimal('-57.011445'), Decimal('162.011851'))</td>\n",
       "      <td>Dott. Antonietta Schiavone</td>\n",
       "      <td>nicolo94@vodafone.it</td>\n",
       "      <td>NaN</td>\n",
       "      <td>NaN</td>\n",
       "      <td>NaN</td>\n",
       "      <td>Strada Pietro, 340 Appartamento 80\\n52011, Ban...</td>\n",
       "      <td>1984-02-04</td>\n",
       "      <td>1</td>\n",
       "    </tr>\n",
       "    <tr>\n",
       "      <th>486</th>\n",
       "      <td>kyosukenakamura</td>\n",
       "      <td>NaN</td>\n",
       "      <td>(Decimal('15.5675825'), Decimal('-33.631112'))</td>\n",
       "      <td>伊藤 淳</td>\n",
       "      <td>mituru67@yahoo.com</td>\n",
       "      <td>映画監督</td>\n",
       "      <td>M</td>\n",
       "      <td>white</td>\n",
       "      <td>茨城県夷隅郡大多喜町東大和町17丁目21番11号</td>\n",
       "      <td>NaN</td>\n",
       "      <td>1</td>\n",
       "    </tr>\n",
       "    <tr>\n",
       "      <th>...</th>\n",
       "      <td>...</td>\n",
       "      <td>...</td>\n",
       "      <td>...</td>\n",
       "      <td>...</td>\n",
       "      <td>...</td>\n",
       "      <td>...</td>\n",
       "      <td>...</td>\n",
       "      <td>...</td>\n",
       "      <td>...</td>\n",
       "      <td>...</td>\n",
       "      <td>...</td>\n",
       "    </tr>\n",
       "    <tr>\n",
       "      <th>2298</th>\n",
       "      <td>mattia56</td>\n",
       "      <td>NaN</td>\n",
       "      <td>(Decimal('57.9631195'), Decimal('165.134342'))</td>\n",
       "      <td>Gioachino Baroffio</td>\n",
       "      <td>filippo96@libero.it</td>\n",
       "      <td>Tour manager</td>\n",
       "      <td>NaN</td>\n",
       "      <td>NaN</td>\n",
       "      <td>NaN</td>\n",
       "      <td>NaN</td>\n",
       "      <td>2535</td>\n",
       "    </tr>\n",
       "    <tr>\n",
       "      <th>585</th>\n",
       "      <td>larapacillo</td>\n",
       "      <td>Contrada Altera, 60\\n91027, Dattilo (TP)</td>\n",
       "      <td>(Decimal('-59.595116'), Decimal('-155.946000'))</td>\n",
       "      <td>Arturo Curatoli</td>\n",
       "      <td>argenterogiuliano@virgilio.it</td>\n",
       "      <td>Copywriter, advertising</td>\n",
       "      <td>M</td>\n",
       "      <td>NaN</td>\n",
       "      <td>Vicolo Zoppetto, 8 Piano 8\\n81043, Sant'Angelo...</td>\n",
       "      <td>1946-10-07</td>\n",
       "      <td>2535</td>\n",
       "    </tr>\n",
       "    <tr>\n",
       "      <th>428</th>\n",
       "      <td>taichisuzuki</td>\n",
       "      <td>NaN</td>\n",
       "      <td>(Decimal('-31.3694265'), Decimal('-34.731815'))</td>\n",
       "      <td>斎藤 花子</td>\n",
       "      <td>asukasuzuki@gmail.com</td>\n",
       "      <td>作曲家</td>\n",
       "      <td>NaN</td>\n",
       "      <td>NaN</td>\n",
       "      <td>福島県山武郡芝山町西小来川2丁目3番11号 美原町コーポ427</td>\n",
       "      <td>NaN</td>\n",
       "      <td>2536</td>\n",
       "    </tr>\n",
       "    <tr>\n",
       "      <th>491</th>\n",
       "      <td>pospisilmichal</td>\n",
       "      <td>Jeruzalémská 6\\n787 38 Vratimov</td>\n",
       "      <td>(Decimal('-24.4687115'), Decimal('-109.887871'))</td>\n",
       "      <td>Renáta Moravcová</td>\n",
       "      <td>ikral@seznam.cz</td>\n",
       "      <td>Art therapist</td>\n",
       "      <td>NaN</td>\n",
       "      <td>NaN</td>\n",
       "      <td>Čerpadlová 6\\n678 39 Toužim</td>\n",
       "      <td>NaN</td>\n",
       "      <td>2536</td>\n",
       "    </tr>\n",
       "    <tr>\n",
       "      <th>640</th>\n",
       "      <td>mareknovak</td>\n",
       "      <td>NaN</td>\n",
       "      <td>(Decimal('-73.0397755'), Decimal('77.165485'))</td>\n",
       "      <td>Magdaléna Pokorná</td>\n",
       "      <td>josef54@post.cz</td>\n",
       "      <td>NaN</td>\n",
       "      <td>NaN</td>\n",
       "      <td>NaN</td>\n",
       "      <td>Mazancova 476\\n272 34 Rychnov u Jablonce nad N...</td>\n",
       "      <td>1946-07-27</td>\n",
       "      <td>2536</td>\n",
       "    </tr>\n",
       "  </tbody>\n",
       "</table>\n",
       "<p>1623 rows × 11 columns</p>\n",
       "</div>"
      ],
      "text/plain": [
       "             username                                 residence  \\\n",
       "468         rgagliano       Borgo Enzio, 952\\n38079, Zuclo (TN)   \n",
       "2309        mrespighi     Borgo Mazzeo, 745\\n57023, Cecina (LI)   \n",
       "1420         calebe81                                       NaN   \n",
       "1242          ntroisi                                       NaN   \n",
       "486   kyosukenakamura                                       NaN   \n",
       "...               ...                                       ...   \n",
       "2298         mattia56                                       NaN   \n",
       "585       larapacillo  Contrada Altera, 60\\n91027, Dattilo (TP)   \n",
       "428      taichisuzuki                                       NaN   \n",
       "491    pospisilmichal           Jeruzalémská 6\\n787 38 Vratimov   \n",
       "640        mareknovak                                       NaN   \n",
       "\n",
       "                                      current_location  \\\n",
       "468      (Decimal('-5.5622835'), Decimal('74.988399'))   \n",
       "2309  (Decimal('-29.1689195'), Decimal('-100.115429'))   \n",
       "1420    (Decimal('43.9746415'), Decimal('-97.099022'))   \n",
       "1242    (Decimal('-57.011445'), Decimal('162.011851'))   \n",
       "486     (Decimal('15.5675825'), Decimal('-33.631112'))   \n",
       "...                                                ...   \n",
       "2298    (Decimal('57.9631195'), Decimal('165.134342'))   \n",
       "585    (Decimal('-59.595116'), Decimal('-155.946000'))   \n",
       "428    (Decimal('-31.3694265'), Decimal('-34.731815'))   \n",
       "491   (Decimal('-24.4687115'), Decimal('-109.887871'))   \n",
       "640     (Decimal('-73.0397755'), Decimal('77.165485'))   \n",
       "\n",
       "                            name                           mail  \\\n",
       "468               Lucia Bernardi            lovatoirma@alice.it   \n",
       "2309          Iolanda Zaccagnini          galassocomboni@tin.it   \n",
       "1420         Dra. Amanda da Cruz          daniel17@yahoo.com.br   \n",
       "1242  Dott. Antonietta Schiavone           nicolo94@vodafone.it   \n",
       "486                         伊藤 淳             mituru67@yahoo.com   \n",
       "...                          ...                            ...   \n",
       "2298          Gioachino Baroffio            filippo96@libero.it   \n",
       "585              Arturo Curatoli  argenterogiuliano@virgilio.it   \n",
       "428                        斎藤 花子          asukasuzuki@gmail.com   \n",
       "491             Renáta Moravcová                ikral@seznam.cz   \n",
       "640            Magdaléna Pokorná                josef54@post.cz   \n",
       "\n",
       "                          job  sex   race  \\\n",
       "468          Industrial buyer    F    NaN   \n",
       "2309                      NaN    F    NaN   \n",
       "1420                      NaN    F    NaN   \n",
       "1242                      NaN  NaN    NaN   \n",
       "486                      映画監督    M  white   \n",
       "...                       ...  ...    ...   \n",
       "2298             Tour manager  NaN    NaN   \n",
       "585   Copywriter, advertising    M    NaN   \n",
       "428                       作曲家  NaN    NaN   \n",
       "491             Art therapist  NaN    NaN   \n",
       "640                       NaN  NaN    NaN   \n",
       "\n",
       "                                                address   birthdate  user_id  \n",
       "468                                                 NaN  1960-02-14        0  \n",
       "2309                                                NaN         NaN        0  \n",
       "1420  Ladeira de Moraes, 86\\nVila Santo Antônio\\n714...  2009-03-07        1  \n",
       "1242  Strada Pietro, 340 Appartamento 80\\n52011, Ban...  1984-02-04        1  \n",
       "486                            茨城県夷隅郡大多喜町東大和町17丁目21番11号         NaN        1  \n",
       "...                                                 ...         ...      ...  \n",
       "2298                                                NaN         NaN     2535  \n",
       "585   Vicolo Zoppetto, 8 Piano 8\\n81043, Sant'Angelo...  1946-10-07     2535  \n",
       "428                     福島県山武郡芝山町西小来川2丁目3番11号 美原町コーポ427         NaN     2536  \n",
       "491                         Čerpadlová 6\\n678 39 Toužim         NaN     2536  \n",
       "640   Mazancova 476\\n272 34 Rychnov u Jablonce nad N...  1946-07-27     2536  \n",
       "\n",
       "[1623 rows x 11 columns]"
      ]
     },
     "execution_count": 14,
     "metadata": {},
     "output_type": "execute_result"
    }
   ],
   "source": [
    "users[users.duplicated(['user_id'], keep=False)].sort_values(by=['user_id'])"
   ]
  },
  {
   "cell_type": "markdown",
   "id": "cb6650ab-b3eb-4cba-8fc5-3f6b7a50ee50",
   "metadata": {},
   "source": [
    "Stlpec race má hodnoty NaN a \"unspecified\", čo môže byť v kontexte to isté"
   ]
  },
  {
   "cell_type": "code",
   "execution_count": 15,
   "id": "8c3fa627-30bd-4972-9b2a-0aee33aeac3a",
   "metadata": {},
   "outputs": [
    {
     "data": {
      "text/plain": [
       "array([nan, 'black', 'asian', 'white', 'indian', 'unspecified'],\n",
       "      dtype=object)"
      ]
     },
     "execution_count": 15,
     "metadata": {},
     "output_type": "execute_result"
    }
   ],
   "source": [
    "users['race'].unique()"
   ]
  },
  {
   "cell_type": "markdown",
   "id": "aaf90115-a3de-460b-a103-a25b98f3618c",
   "metadata": {},
   "source": [
    "Dátum (stlpec birthdate) je vo formáte object, idem zmeniť na dátumový typ"
   ]
  },
  {
   "cell_type": "code",
   "execution_count": 16,
   "id": "c79bd59a-205f-4d65-8a43-c0870bbb71a5",
   "metadata": {},
   "outputs": [
    {
     "name": "stdout",
     "output_type": "stream",
     "text": [
      "<class 'pandas.core.frame.DataFrame'>\n",
      "RangeIndex: 2538 entries, 0 to 2537\n",
      "Data columns (total 11 columns):\n",
      " #   Column            Non-Null Count  Dtype \n",
      "---  ------            --------------  ----- \n",
      " 0   username          2538 non-null   object\n",
      " 1   residence         888 non-null    object\n",
      " 2   current_location  2411 non-null   object\n",
      " 3   name              2538 non-null   object\n",
      " 4   mail              2538 non-null   object\n",
      " 5   job               1015 non-null   object\n",
      " 6   sex               1269 non-null   object\n",
      " 7   race              761 non-null    object\n",
      " 8   address           2157 non-null   object\n",
      " 9   birthdate         1396 non-null   object\n",
      " 10  user_id           2538 non-null   int64 \n",
      "dtypes: int64(1), object(10)\n",
      "memory usage: 218.2+ KB\n"
     ]
    }
   ],
   "source": [
    "users.info()"
   ]
  },
  {
   "cell_type": "code",
   "execution_count": 17,
   "id": "e611a629-b24e-4460-a7df-18650851c882",
   "metadata": {},
   "outputs": [],
   "source": [
    "users['birthdate'] = pd.to_datetime(users['birthdate'], errors='coerce')"
   ]
  },
  {
   "cell_type": "code",
   "execution_count": 18,
   "id": "ecb85704-72d3-499b-9206-415b993efe6d",
   "metadata": {},
   "outputs": [
    {
     "name": "stdout",
     "output_type": "stream",
     "text": [
      "<class 'pandas.core.frame.DataFrame'>\n",
      "RangeIndex: 2538 entries, 0 to 2537\n",
      "Data columns (total 11 columns):\n",
      " #   Column            Non-Null Count  Dtype         \n",
      "---  ------            --------------  -----         \n",
      " 0   username          2538 non-null   object        \n",
      " 1   residence         888 non-null    object        \n",
      " 2   current_location  2411 non-null   object        \n",
      " 3   name              2538 non-null   object        \n",
      " 4   mail              2538 non-null   object        \n",
      " 5   job               1015 non-null   object        \n",
      " 6   sex               1269 non-null   object        \n",
      " 7   race              761 non-null    object        \n",
      " 8   address           2157 non-null   object        \n",
      " 9   birthdate         1396 non-null   datetime64[ns]\n",
      " 10  user_id           2538 non-null   int64         \n",
      "dtypes: datetime64[ns](1), int64(1), object(9)\n",
      "memory usage: 218.2+ KB\n"
     ]
    }
   ],
   "source": [
    "users.info()"
   ]
  },
  {
   "cell_type": "markdown",
   "id": "9cd25487-e25a-40ef-8755-ec1f5a9de71c",
   "metadata": {},
   "source": [
    "*dataset sessions*"
   ]
  },
  {
   "cell_type": "markdown",
   "id": "d7e01b96-3349-4138-9da0-845166558bed",
   "metadata": {},
   "source": [
    "Stlpec ack z formátu float na int"
   ]
  },
  {
   "cell_type": "code",
   "execution_count": 19,
   "id": "03e865f0-37ba-438d-999d-144d914e8be7",
   "metadata": {},
   "outputs": [
    {
     "name": "stdout",
     "output_type": "stream",
     "text": [
      "<class 'pandas.core.frame.DataFrame'>\n",
      "RangeIndex: 11094 entries, 0 to 11093\n",
      "Data columns (total 25 columns):\n",
      " #   Column                          Non-Null Count  Dtype  \n",
      "---  ------                          --------------  -----  \n",
      " 0   pct_wild_mouse                  11083 non-null  float64\n",
      " 1   screen_height                   11094 non-null  object \n",
      " 2   pct_input                       11083 non-null  float64\n",
      " 3   pct_scrandom                    11083 non-null  float64\n",
      " 4   pct_scroll_move                 11083 non-null  float64\n",
      " 5   pct_click_product_info          11083 non-null  float64\n",
      " 6   wild_mouse_duration             11083 non-null  float64\n",
      " 7   session_start                   11094 non-null  object \n",
      " 8   total_load_time                 11094 non-null  float64\n",
      " 9   pct_click                       11083 non-null  float64\n",
      " 10  screen_width                    11094 non-null  object \n",
      " 11  pct_doubleclick                 11081 non-null  float64\n",
      " 12  product_ean                     11094 non-null  int64  \n",
      " 13  pct_mouse_move                  11083 non-null  float64\n",
      " 14  user_id                         11094 non-null  int64  \n",
      " 15  session_id                      11094 non-null  int64  \n",
      " 16  pct_scroll_move_duration        11082 non-null  float64\n",
      " 17  ack                             11094 non-null  float64\n",
      " 18  scroll_move_total_rel_distance  11083 non-null  float64\n",
      " 19  page_activity_duration          11082 non-null  float64\n",
      " 20  mouse_move_total_rel_distance   11083 non-null  float64\n",
      " 21  browser_name                    11094 non-null  object \n",
      " 22  pct_rage_click                  11083 non-null  float64\n",
      " 23  session_duration                11094 non-null  float64\n",
      " 24  pct_mouse_click                 11083 non-null  float64\n",
      "dtypes: float64(18), int64(3), object(4)\n",
      "memory usage: 2.1+ MB\n"
     ]
    }
   ],
   "source": [
    "sessions.info()"
   ]
  },
  {
   "cell_type": "code",
   "execution_count": 20,
   "id": "ec4187ac-ac54-44b8-ba3f-1c508f247497",
   "metadata": {},
   "outputs": [],
   "source": [
    "sessions['ack']=sessions['ack'].astype(int)"
   ]
  },
  {
   "cell_type": "code",
   "execution_count": 21,
   "id": "8c2167dc-be11-47c0-b531-bd191ea07f4f",
   "metadata": {},
   "outputs": [
    {
     "name": "stdout",
     "output_type": "stream",
     "text": [
      "<class 'pandas.core.frame.DataFrame'>\n",
      "RangeIndex: 11094 entries, 0 to 11093\n",
      "Data columns (total 25 columns):\n",
      " #   Column                          Non-Null Count  Dtype  \n",
      "---  ------                          --------------  -----  \n",
      " 0   pct_wild_mouse                  11083 non-null  float64\n",
      " 1   screen_height                   11094 non-null  object \n",
      " 2   pct_input                       11083 non-null  float64\n",
      " 3   pct_scrandom                    11083 non-null  float64\n",
      " 4   pct_scroll_move                 11083 non-null  float64\n",
      " 5   pct_click_product_info          11083 non-null  float64\n",
      " 6   wild_mouse_duration             11083 non-null  float64\n",
      " 7   session_start                   11094 non-null  object \n",
      " 8   total_load_time                 11094 non-null  float64\n",
      " 9   pct_click                       11083 non-null  float64\n",
      " 10  screen_width                    11094 non-null  object \n",
      " 11  pct_doubleclick                 11081 non-null  float64\n",
      " 12  product_ean                     11094 non-null  int64  \n",
      " 13  pct_mouse_move                  11083 non-null  float64\n",
      " 14  user_id                         11094 non-null  int64  \n",
      " 15  session_id                      11094 non-null  int64  \n",
      " 16  pct_scroll_move_duration        11082 non-null  float64\n",
      " 17  ack                             11094 non-null  int32  \n",
      " 18  scroll_move_total_rel_distance  11083 non-null  float64\n",
      " 19  page_activity_duration          11082 non-null  float64\n",
      " 20  mouse_move_total_rel_distance   11083 non-null  float64\n",
      " 21  browser_name                    11094 non-null  object \n",
      " 22  pct_rage_click                  11083 non-null  float64\n",
      " 23  session_duration                11094 non-null  float64\n",
      " 24  pct_mouse_click                 11083 non-null  float64\n",
      "dtypes: float64(17), int32(1), int64(3), object(4)\n",
      "memory usage: 2.1+ MB\n"
     ]
    }
   ],
   "source": [
    "sessions.info()"
   ]
  },
  {
   "cell_type": "markdown",
   "id": "abb29b4d-93ac-4597-8d6e-6ca5758f52d3",
   "metadata": {},
   "source": [
    "Duplikátne riadky, odstranili sme z datasetu sessions 102 duplikátov"
   ]
  },
  {
   "cell_type": "code",
   "execution_count": 22,
   "id": "1e77975b-fb67-4f99-b7b9-34581210384b",
   "metadata": {},
   "outputs": [],
   "source": [
    "duplikatne_riadky = sessions[sessions.duplicated()]"
   ]
  },
  {
   "cell_type": "code",
   "execution_count": 23,
   "id": "d34acf80-0463-4ebb-977a-3da8ee7e2d17",
   "metadata": {},
   "outputs": [
    {
     "data": {
      "text/plain": [
       "(11094, 25)"
      ]
     },
     "execution_count": 23,
     "metadata": {},
     "output_type": "execute_result"
    }
   ],
   "source": [
    "sessions.shape"
   ]
  },
  {
   "cell_type": "code",
   "execution_count": 24,
   "id": "9c9ea2f0-8ab5-4775-a8c9-3f2f97cada0c",
   "metadata": {},
   "outputs": [],
   "source": [
    "sessions.drop_duplicates(inplace=True)"
   ]
  },
  {
   "cell_type": "code",
   "execution_count": 25,
   "id": "1340cce5-9497-4f54-a5f5-7acd00fec110",
   "metadata": {},
   "outputs": [
    {
     "data": {
      "text/plain": [
       "(10962, 25)"
      ]
     },
     "execution_count": 25,
     "metadata": {},
     "output_type": "execute_result"
    }
   ],
   "source": [
    "sessions.shape"
   ]
  },
  {
   "cell_type": "markdown",
   "id": "072e0569-c6cc-42e7-9a33-5b8549bfca74",
   "metadata": {},
   "source": [
    "Stlpce screen_width a screen_height"
   ]
  },
  {
   "cell_type": "code",
   "execution_count": 26,
   "id": "b21b5139-5c50-457e-aca3-b9d543ae2124",
   "metadata": {},
   "outputs": [
    {
     "data": {
      "text/plain": [
       "array(['600', '768', '800', '1024', '1080', 'lower', 'higher'],\n",
       "      dtype=object)"
      ]
     },
     "execution_count": 26,
     "metadata": {},
     "output_type": "execute_result"
    }
   ],
   "source": [
    "sessions['screen_height'].unique()"
   ]
  },
  {
   "cell_type": "code",
   "execution_count": 27,
   "id": "409227c2-725f-4c9a-96bf-8914915a56e9",
   "metadata": {},
   "outputs": [
    {
     "data": {
      "text/plain": [
       "screen_height\n",
       "1080      2205\n",
       "768       2148\n",
       "800       1673\n",
       "600       1672\n",
       "1024      1628\n",
       "lower     1095\n",
       "higher     541\n",
       "Name: count, dtype: int64"
      ]
     },
     "execution_count": 27,
     "metadata": {},
     "output_type": "execute_result"
    }
   ],
   "source": [
    "sessions.screen_height.value_counts()"
   ]
  },
  {
   "cell_type": "code",
   "execution_count": 28,
   "id": "c7474e56-7f47-4bb9-b208-3a9ebd5e2c7c",
   "metadata": {},
   "outputs": [
    {
     "data": {
      "text/plain": [
       "array(['1366', '1280', '1920', '1024', '800', 'lower', 'higher'],\n",
       "      dtype=object)"
      ]
     },
     "execution_count": 28,
     "metadata": {},
     "output_type": "execute_result"
    }
   ],
   "source": [
    "sessions['screen_width'].unique()"
   ]
  },
  {
   "cell_type": "code",
   "execution_count": 29,
   "id": "4ec35e82-daf1-45f9-9906-1dd0cac3d033",
   "metadata": {},
   "outputs": [
    {
     "data": {
      "text/plain": [
       "screen_width\n",
       "1920      2297\n",
       "1280      2278\n",
       "1366      1660\n",
       "800       1616\n",
       "1024      1552\n",
       "lower     1065\n",
       "higher     494\n",
       "Name: count, dtype: int64"
      ]
     },
     "execution_count": 29,
     "metadata": {},
     "output_type": "execute_result"
    }
   ],
   "source": [
    "sessions.screen_width.value_counts()"
   ]
  },
  {
   "cell_type": "markdown",
   "id": "ed23a4e3-8634-4f01-91ac-17f17386aa8f",
   "metadata": {},
   "source": [
    "Dátum (stlpec session_start) je vo formáte object, idem zmeniť na dátumový typ"
   ]
  },
  {
   "cell_type": "code",
   "execution_count": 30,
   "id": "9924f502-f9b0-4452-90b6-064ad4ee086c",
   "metadata": {},
   "outputs": [
    {
     "name": "stdout",
     "output_type": "stream",
     "text": [
      "<class 'pandas.core.frame.DataFrame'>\n",
      "Index: 10962 entries, 0 to 11093\n",
      "Data columns (total 25 columns):\n",
      " #   Column                          Non-Null Count  Dtype  \n",
      "---  ------                          --------------  -----  \n",
      " 0   pct_wild_mouse                  10951 non-null  float64\n",
      " 1   screen_height                   10962 non-null  object \n",
      " 2   pct_input                       10951 non-null  float64\n",
      " 3   pct_scrandom                    10951 non-null  float64\n",
      " 4   pct_scroll_move                 10951 non-null  float64\n",
      " 5   pct_click_product_info          10951 non-null  float64\n",
      " 6   wild_mouse_duration             10951 non-null  float64\n",
      " 7   session_start                   10962 non-null  object \n",
      " 8   total_load_time                 10962 non-null  float64\n",
      " 9   pct_click                       10951 non-null  float64\n",
      " 10  screen_width                    10962 non-null  object \n",
      " 11  pct_doubleclick                 10951 non-null  float64\n",
      " 12  product_ean                     10962 non-null  int64  \n",
      " 13  pct_mouse_move                  10951 non-null  float64\n",
      " 14  user_id                         10962 non-null  int64  \n",
      " 15  session_id                      10962 non-null  int64  \n",
      " 16  pct_scroll_move_duration        10951 non-null  float64\n",
      " 17  ack                             10962 non-null  int32  \n",
      " 18  scroll_move_total_rel_distance  10951 non-null  float64\n",
      " 19  page_activity_duration          10951 non-null  float64\n",
      " 20  mouse_move_total_rel_distance   10951 non-null  float64\n",
      " 21  browser_name                    10962 non-null  object \n",
      " 22  pct_rage_click                  10951 non-null  float64\n",
      " 23  session_duration                10962 non-null  float64\n",
      " 24  pct_mouse_click                 10951 non-null  float64\n",
      "dtypes: float64(17), int32(1), int64(3), object(4)\n",
      "memory usage: 2.1+ MB\n"
     ]
    }
   ],
   "source": [
    "sessions.info()"
   ]
  },
  {
   "cell_type": "code",
   "execution_count": 31,
   "id": "e35ba359-0a69-4e7f-87cd-b9d43c7d0349",
   "metadata": {},
   "outputs": [],
   "source": [
    "sessions['session_start'] = pd.to_datetime(sessions['session_start'], errors='coerce')"
   ]
  },
  {
   "cell_type": "code",
   "execution_count": 32,
   "id": "74ce336b-3c3b-4894-bb69-2eff60e332e7",
   "metadata": {},
   "outputs": [
    {
     "name": "stdout",
     "output_type": "stream",
     "text": [
      "<class 'pandas.core.frame.DataFrame'>\n",
      "Index: 10962 entries, 0 to 11093\n",
      "Data columns (total 25 columns):\n",
      " #   Column                          Non-Null Count  Dtype         \n",
      "---  ------                          --------------  -----         \n",
      " 0   pct_wild_mouse                  10951 non-null  float64       \n",
      " 1   screen_height                   10962 non-null  object        \n",
      " 2   pct_input                       10951 non-null  float64       \n",
      " 3   pct_scrandom                    10951 non-null  float64       \n",
      " 4   pct_scroll_move                 10951 non-null  float64       \n",
      " 5   pct_click_product_info          10951 non-null  float64       \n",
      " 6   wild_mouse_duration             10951 non-null  float64       \n",
      " 7   session_start                   10962 non-null  datetime64[ns]\n",
      " 8   total_load_time                 10962 non-null  float64       \n",
      " 9   pct_click                       10951 non-null  float64       \n",
      " 10  screen_width                    10962 non-null  object        \n",
      " 11  pct_doubleclick                 10951 non-null  float64       \n",
      " 12  product_ean                     10962 non-null  int64         \n",
      " 13  pct_mouse_move                  10951 non-null  float64       \n",
      " 14  user_id                         10962 non-null  int64         \n",
      " 15  session_id                      10962 non-null  int64         \n",
      " 16  pct_scroll_move_duration        10951 non-null  float64       \n",
      " 17  ack                             10962 non-null  int32         \n",
      " 18  scroll_move_total_rel_distance  10951 non-null  float64       \n",
      " 19  page_activity_duration          10951 non-null  float64       \n",
      " 20  mouse_move_total_rel_distance   10951 non-null  float64       \n",
      " 21  browser_name                    10962 non-null  object        \n",
      " 22  pct_rage_click                  10951 non-null  float64       \n",
      " 23  session_duration                10962 non-null  float64       \n",
      " 24  pct_mouse_click                 10951 non-null  float64       \n",
      "dtypes: datetime64[ns](1), float64(17), int32(1), int64(3), object(3)\n",
      "memory usage: 2.1+ MB\n"
     ]
    }
   ],
   "source": [
    "sessions.info()"
   ]
  },
  {
   "cell_type": "markdown",
   "id": "4bc84ba8-7ea1-43f5-89dd-1d0841fecfdf",
   "metadata": {},
   "source": [
    "**Hypotéza**"
   ]
  },
  {
   "cell_type": "markdown",
   "id": "e2b9c286-4511-49d9-b211-9baf563cb2e2",
   "metadata": {},
   "source": [
    "$H_0$: Ženy nakupujú viac ako muži, teda ked používateľ má pohlavie žena, tak je väčšia pravdepodobnosť, že bude mať atribút ack=1"
   ]
  },
  {
   "cell_type": "markdown",
   "id": "c8891603-c327-429f-92e3-03de0c08b56c",
   "metadata": {},
   "source": [
    "$H_0A$: Pravdepodobnosť hodnoty atribútu ack=1 *je nezávislá* od pohlavia"
   ]
  },
  {
   "cell_type": "markdown",
   "id": "ef31001f-513e-42af-abe9-4f6df02f3c0c",
   "metadata": {},
   "source": [
    "Ako prvé sme spojili datasety a zobrali si z nich atribúty, ktoré iba potrebujeme"
   ]
  },
  {
   "cell_type": "code",
   "execution_count": 33,
   "id": "2a99ff0a-21b0-4d4c-8d5c-cf1c4b7a0742",
   "metadata": {},
   "outputs": [],
   "source": [
    "merged_data_hypoteza1 = pd.merge(users[['user_id', 'sex']], sessions[['user_id', 'ack']], on='user_id')"
   ]
  },
  {
   "cell_type": "code",
   "execution_count": 34,
   "id": "5a238d31-73c2-43be-a28d-9ddf1e108595",
   "metadata": {},
   "outputs": [
    {
     "name": "stdout",
     "output_type": "stream",
     "text": [
      "<class 'pandas.core.frame.DataFrame'>\n",
      "RangeIndex: 11069 entries, 0 to 11068\n",
      "Data columns (total 3 columns):\n",
      " #   Column   Non-Null Count  Dtype \n",
      "---  ------   --------------  ----- \n",
      " 0   user_id  11069 non-null  int64 \n",
      " 1   sex      5587 non-null   object\n",
      " 2   ack      11069 non-null  int32 \n",
      "dtypes: int32(1), int64(1), object(1)\n",
      "memory usage: 216.3+ KB\n"
     ]
    }
   ],
   "source": [
    "merged_data_hypoteza1.info()"
   ]
  },
  {
   "cell_type": "code",
   "execution_count": 35,
   "id": "b17c49c7-11d5-4bd5-9008-a55ddbb17f3d",
   "metadata": {},
   "outputs": [
    {
     "data": {
      "text/html": [
       "<div>\n",
       "<style scoped>\n",
       "    .dataframe tbody tr th:only-of-type {\n",
       "        vertical-align: middle;\n",
       "    }\n",
       "\n",
       "    .dataframe tbody tr th {\n",
       "        vertical-align: top;\n",
       "    }\n",
       "\n",
       "    .dataframe thead th {\n",
       "        text-align: right;\n",
       "    }\n",
       "</style>\n",
       "<table border=\"1\" class=\"dataframe\">\n",
       "  <thead>\n",
       "    <tr style=\"text-align: right;\">\n",
       "      <th></th>\n",
       "      <th>user_id</th>\n",
       "      <th>sex</th>\n",
       "      <th>ack</th>\n",
       "    </tr>\n",
       "  </thead>\n",
       "  <tbody>\n",
       "    <tr>\n",
       "      <th>0</th>\n",
       "      <td>640</td>\n",
       "      <td>NaN</td>\n",
       "      <td>0</td>\n",
       "    </tr>\n",
       "    <tr>\n",
       "      <th>1</th>\n",
       "      <td>640</td>\n",
       "      <td>NaN</td>\n",
       "      <td>0</td>\n",
       "    </tr>\n",
       "    <tr>\n",
       "      <th>2</th>\n",
       "      <td>640</td>\n",
       "      <td>NaN</td>\n",
       "      <td>0</td>\n",
       "    </tr>\n",
       "    <tr>\n",
       "      <th>3</th>\n",
       "      <td>640</td>\n",
       "      <td>NaN</td>\n",
       "      <td>1</td>\n",
       "    </tr>\n",
       "    <tr>\n",
       "      <th>4</th>\n",
       "      <td>640</td>\n",
       "      <td>M</td>\n",
       "      <td>0</td>\n",
       "    </tr>\n",
       "  </tbody>\n",
       "</table>\n",
       "</div>"
      ],
      "text/plain": [
       "   user_id  sex  ack\n",
       "0      640  NaN    0\n",
       "1      640  NaN    0\n",
       "2      640  NaN    0\n",
       "3      640  NaN    1\n",
       "4      640    M    0"
      ]
     },
     "execution_count": 35,
     "metadata": {},
     "output_type": "execute_result"
    }
   ],
   "source": [
    "merged_data_hypoteza1.head()"
   ]
  },
  {
   "cell_type": "markdown",
   "id": "30503f16-caa0-4ead-b9b0-d05743c84b1a",
   "metadata": {},
   "source": [
    "Dalej sme odstránili záznamy, ktoré obsahovali NaN hodnotu v atribúte sex"
   ]
  },
  {
   "cell_type": "code",
   "execution_count": 36,
   "id": "5f8a99e6-0930-4c74-bf78-7a0991279f9c",
   "metadata": {},
   "outputs": [
    {
     "data": {
      "text/html": [
       "<div>\n",
       "<style scoped>\n",
       "    .dataframe tbody tr th:only-of-type {\n",
       "        vertical-align: middle;\n",
       "    }\n",
       "\n",
       "    .dataframe tbody tr th {\n",
       "        vertical-align: top;\n",
       "    }\n",
       "\n",
       "    .dataframe thead th {\n",
       "        text-align: right;\n",
       "    }\n",
       "</style>\n",
       "<table border=\"1\" class=\"dataframe\">\n",
       "  <thead>\n",
       "    <tr style=\"text-align: right;\">\n",
       "      <th></th>\n",
       "      <th>user_id</th>\n",
       "      <th>sex</th>\n",
       "      <th>ack</th>\n",
       "    </tr>\n",
       "  </thead>\n",
       "  <tbody>\n",
       "    <tr>\n",
       "      <th>4</th>\n",
       "      <td>640</td>\n",
       "      <td>M</td>\n",
       "      <td>0</td>\n",
       "    </tr>\n",
       "    <tr>\n",
       "      <th>5</th>\n",
       "      <td>640</td>\n",
       "      <td>M</td>\n",
       "      <td>0</td>\n",
       "    </tr>\n",
       "    <tr>\n",
       "      <th>6</th>\n",
       "      <td>640</td>\n",
       "      <td>M</td>\n",
       "      <td>0</td>\n",
       "    </tr>\n",
       "    <tr>\n",
       "      <th>7</th>\n",
       "      <td>640</td>\n",
       "      <td>M</td>\n",
       "      <td>1</td>\n",
       "    </tr>\n",
       "    <tr>\n",
       "      <th>8</th>\n",
       "      <td>1222</td>\n",
       "      <td>F</td>\n",
       "      <td>0</td>\n",
       "    </tr>\n",
       "    <tr>\n",
       "      <th>...</th>\n",
       "      <td>...</td>\n",
       "      <td>...</td>\n",
       "      <td>...</td>\n",
       "    </tr>\n",
       "    <tr>\n",
       "      <th>11063</th>\n",
       "      <td>1038</td>\n",
       "      <td>F</td>\n",
       "      <td>1</td>\n",
       "    </tr>\n",
       "    <tr>\n",
       "      <th>11064</th>\n",
       "      <td>1038</td>\n",
       "      <td>F</td>\n",
       "      <td>1</td>\n",
       "    </tr>\n",
       "    <tr>\n",
       "      <th>11065</th>\n",
       "      <td>1038</td>\n",
       "      <td>F</td>\n",
       "      <td>0</td>\n",
       "    </tr>\n",
       "    <tr>\n",
       "      <th>11066</th>\n",
       "      <td>1038</td>\n",
       "      <td>F</td>\n",
       "      <td>0</td>\n",
       "    </tr>\n",
       "    <tr>\n",
       "      <th>11067</th>\n",
       "      <td>1038</td>\n",
       "      <td>F</td>\n",
       "      <td>0</td>\n",
       "    </tr>\n",
       "  </tbody>\n",
       "</table>\n",
       "<p>5587 rows × 3 columns</p>\n",
       "</div>"
      ],
      "text/plain": [
       "       user_id sex  ack\n",
       "4          640   M    0\n",
       "5          640   M    0\n",
       "6          640   M    0\n",
       "7          640   M    1\n",
       "8         1222   F    0\n",
       "...        ...  ..  ...\n",
       "11063     1038   F    1\n",
       "11064     1038   F    1\n",
       "11065     1038   F    0\n",
       "11066     1038   F    0\n",
       "11067     1038   F    0\n",
       "\n",
       "[5587 rows x 3 columns]"
      ]
     },
     "execution_count": 36,
     "metadata": {},
     "output_type": "execute_result"
    }
   ],
   "source": [
    "merged_data_hypoteza1.dropna(subset=['sex'])"
   ]
  },
  {
   "cell_type": "markdown",
   "id": "a0bb9731-f4c7-4dff-8ec4-c1be5383c718",
   "metadata": {},
   "source": [
    "Vytvorili sme s 2 datasety, jeden iba pre ženy a druhý iba pre mužov"
   ]
  },
  {
   "cell_type": "code",
   "execution_count": 49,
   "id": "32c485da-2827-4124-bd52-7df7f0996f98",
   "metadata": {},
   "outputs": [
    {
     "data": {
      "text/html": [
       "<div>\n",
       "<style scoped>\n",
       "    .dataframe tbody tr th:only-of-type {\n",
       "        vertical-align: middle;\n",
       "    }\n",
       "\n",
       "    .dataframe tbody tr th {\n",
       "        vertical-align: top;\n",
       "    }\n",
       "\n",
       "    .dataframe thead th {\n",
       "        text-align: right;\n",
       "    }\n",
       "</style>\n",
       "<table border=\"1\" class=\"dataframe\">\n",
       "  <thead>\n",
       "    <tr style=\"text-align: right;\">\n",
       "      <th></th>\n",
       "      <th>user_id</th>\n",
       "      <th>sex</th>\n",
       "      <th>ack</th>\n",
       "    </tr>\n",
       "  </thead>\n",
       "  <tbody>\n",
       "    <tr>\n",
       "      <th>8</th>\n",
       "      <td>1222</td>\n",
       "      <td>F</td>\n",
       "      <td>0</td>\n",
       "    </tr>\n",
       "    <tr>\n",
       "      <th>9</th>\n",
       "      <td>1222</td>\n",
       "      <td>F</td>\n",
       "      <td>1</td>\n",
       "    </tr>\n",
       "    <tr>\n",
       "      <th>10</th>\n",
       "      <td>1222</td>\n",
       "      <td>F</td>\n",
       "      <td>0</td>\n",
       "    </tr>\n",
       "    <tr>\n",
       "      <th>11</th>\n",
       "      <td>1222</td>\n",
       "      <td>F</td>\n",
       "      <td>0</td>\n",
       "    </tr>\n",
       "    <tr>\n",
       "      <th>12</th>\n",
       "      <td>1222</td>\n",
       "      <td>F</td>\n",
       "      <td>1</td>\n",
       "    </tr>\n",
       "  </tbody>\n",
       "</table>\n",
       "</div>"
      ],
      "text/plain": [
       "    user_id sex  ack\n",
       "8      1222   F    0\n",
       "9      1222   F    1\n",
       "10     1222   F    0\n",
       "11     1222   F    0\n",
       "12     1222   F    1"
      ]
     },
     "execution_count": 49,
     "metadata": {},
     "output_type": "execute_result"
    }
   ],
   "source": [
    "females = merged_data_hypoteza1[merged_data_hypoteza1['sex'] == 'F']\n",
    "males = merged_data_hypoteza1[merged_data_hypoteza1['sex'] == 'M']\n",
    "females.head()\n"
   ]
  },
  {
   "cell_type": "code",
   "execution_count": 48,
   "id": "d820d1a9-aad8-438a-887f-208103dd324a",
   "metadata": {},
   "outputs": [
    {
     "data": {
      "text/html": [
       "<div>\n",
       "<style scoped>\n",
       "    .dataframe tbody tr th:only-of-type {\n",
       "        vertical-align: middle;\n",
       "    }\n",
       "\n",
       "    .dataframe tbody tr th {\n",
       "        vertical-align: top;\n",
       "    }\n",
       "\n",
       "    .dataframe thead th {\n",
       "        text-align: right;\n",
       "    }\n",
       "</style>\n",
       "<table border=\"1\" class=\"dataframe\">\n",
       "  <thead>\n",
       "    <tr style=\"text-align: right;\">\n",
       "      <th></th>\n",
       "      <th>user_id</th>\n",
       "      <th>sex</th>\n",
       "      <th>ack</th>\n",
       "    </tr>\n",
       "  </thead>\n",
       "  <tbody>\n",
       "    <tr>\n",
       "      <th>4</th>\n",
       "      <td>640</td>\n",
       "      <td>M</td>\n",
       "      <td>0</td>\n",
       "    </tr>\n",
       "    <tr>\n",
       "      <th>5</th>\n",
       "      <td>640</td>\n",
       "      <td>M</td>\n",
       "      <td>0</td>\n",
       "    </tr>\n",
       "    <tr>\n",
       "      <th>6</th>\n",
       "      <td>640</td>\n",
       "      <td>M</td>\n",
       "      <td>0</td>\n",
       "    </tr>\n",
       "    <tr>\n",
       "      <th>7</th>\n",
       "      <td>640</td>\n",
       "      <td>M</td>\n",
       "      <td>1</td>\n",
       "    </tr>\n",
       "    <tr>\n",
       "      <th>29</th>\n",
       "      <td>1970</td>\n",
       "      <td>M</td>\n",
       "      <td>1</td>\n",
       "    </tr>\n",
       "  </tbody>\n",
       "</table>\n",
       "</div>"
      ],
      "text/plain": [
       "    user_id sex  ack\n",
       "4       640   M    0\n",
       "5       640   M    0\n",
       "6       640   M    0\n",
       "7       640   M    1\n",
       "29     1970   M    1"
      ]
     },
     "execution_count": 48,
     "metadata": {},
     "output_type": "execute_result"
    }
   ],
   "source": [
    "males.head()"
   ]
  },
  {
   "cell_type": "markdown",
   "id": "5767ff23-3781-4fc7-9d26-d616893031e1",
   "metadata": {},
   "source": [
    "Spočítali sme si v datasetoch pre ženu aj pre muža počet hodnôt ack=1 a ack=0"
   ]
  },
  {
   "cell_type": "code",
   "execution_count": 52,
   "id": "52c85516-4c4a-47be-8d53-b6e281c143aa",
   "metadata": {},
   "outputs": [
    {
     "data": {
      "text/plain": [
       "ack\n",
       "1    1517\n",
       "0    1334\n",
       "Name: count, dtype: int64"
      ]
     },
     "execution_count": 52,
     "metadata": {},
     "output_type": "execute_result"
    }
   ],
   "source": [
    "female_ack = females['ack'].value_counts()\n",
    "female_ack"
   ]
  },
  {
   "cell_type": "code",
   "execution_count": 53,
   "id": "800a36c8-2186-4292-a474-c5052ac3bfea",
   "metadata": {},
   "outputs": [
    {
     "data": {
      "text/plain": [
       "ack\n",
       "1    1510\n",
       "0    1226\n",
       "Name: count, dtype: int64"
      ]
     },
     "execution_count": 53,
     "metadata": {},
     "output_type": "execute_result"
    }
   ],
   "source": [
    "male_ack = males['ack'].value_counts()\n",
    "male_ack"
   ]
  },
  {
   "cell_type": "markdown",
   "id": "b25b11f8-f7b8-4e13-aac4-a175cb35ac6d",
   "metadata": {},
   "source": [
    "Vytvorili sme si koláčové grafy, ktoré nám zobrazujú počty ack=1 a ack=0 na základe pohlavia"
   ]
  },
  {
   "cell_type": "code",
   "execution_count": 64,
   "id": "e7ed32a3-94d4-4b1e-b54e-4786c11567a1",
   "metadata": {},
   "outputs": [
    {
     "data": {
      "text/plain": [
       "Text(0.5, 1.0, 'Females')"
      ]
     },
     "execution_count": 64,
     "metadata": {},
     "output_type": "execute_result"
    },
    {
     "data": {
      "image/png": "[encoded data removed]",
      "text/plain": [
       "<Figure size 640x480 with 1 Axes>"
      ]
     },
     "metadata": {},
     "output_type": "display_data"
    }
   ],
   "source": [
    "female_ack.plot(kind='pie', y='ack', labels=['ACK=1', 'ACK=0'], autopct='%1.1f%%', startangle=90).set_title('Females')"
   ]
  },
  {
   "cell_type": "code",
   "execution_count": 65,
   "id": "b145da00-cf20-43b0-bcae-402e3ad63dc5",
   "metadata": {},
   "outputs": [
    {
     "data": {
      "text/plain": [
       "Text(0.5, 1.0, 'Males')"
      ]
     },
     "execution_count": 65,
     "metadata": {},
     "output_type": "execute_result"
    },
    {
     "data": {
      "image/png": "[encoded data removed]",
      "text/plain": [
       "<Figure size 640x480 with 1 Axes>"
      ]
     },
     "metadata": {},
     "output_type": "display_data"
    }
   ],
   "source": [
    "male_ack.plot(kind='pie', y='ack', labels=['ACK=1', 'ACK=0'], autopct='%1.1f%%', startangle=90).set_title('Males')"
   ]
  },
  {
   "cell_type": "markdown",
   "id": "77014e51-ddd9-4323-b801-ccc2346e55f1",
   "metadata": {},
   "source": [
    "Z koláčových grafov môžeme vidieť, že je iba 2% rozdiel medzi ženami a mužmi"
   ]
  },
  {
   "cell_type": "markdown",
   "id": "b57fa39c-568f-4599-94d7-78c010c514c5",
   "metadata": {},
   "source": [
    "**Text z cvičeni**<br />\n",
    "Shapiro-Wilkov test testuje nulovú hypotézu, že dáta pochádzajú z normálneho rozdelenia.<br />\r\n",
    "Ak j p<0,05\r\n",
    ", nulovú hypotézu zamietame a dáta pravdepodobne pochádzajú z iného ako normálneho rozdeleni<br />\n",
    ". Ak  p>0,05 \r\n",
    ", nulovú hypotézu nezamietame, teda na základe dát nemôžeme prehlásiť, že by dáta pochádzali z iného, ako normálneho rozdelen<br />ia."
   ]
  },
  {
   "cell_type": "code",
   "execution_count": 75,
   "id": "3b2b5481-dbba-4b3a-a1ff-fa0ae2e74091",
   "metadata": {},
   "outputs": [],
   "source": [
    "dataTest1_females=merged_data_hypoteza1[merged_data_hypoteza1['sex'] == 'F']['ack']\n",
    "dataTest1_males=merged_data_hypoteza1[merged_data_hypoteza1['sex'] == 'M']['ack']"
   ]
  },
  {
   "cell_type": "code",
   "execution_count": 78,
   "id": "e3ed32e8-84cc-497b-8bb0-fd5b8010f3f7",
   "metadata": {},
   "outputs": [
    {
     "data": {
      "text/plain": [
       "ShapiroResult(statistic=0.635128378868103, pvalue=0.0)"
      ]
     },
     "execution_count": 78,
     "metadata": {},
     "output_type": "execute_result"
    }
   ],
   "source": [
    "stats.shapiro(dataTest1_females)"
   ]
  },
  {
   "cell_type": "code",
   "execution_count": 79,
   "id": "b8b27630-108e-444b-a4b2-2a2b4fd421b8",
   "metadata": {},
   "outputs": [
    {
     "data": {
      "text/plain": [
       "ShapiroResult(statistic=0.6326707601547241, pvalue=0.0)"
      ]
     },
     "execution_count": 79,
     "metadata": {},
     "output_type": "execute_result"
    }
   ],
   "source": [
    "stats.shapiro(dataTest1_males)"
   ]
  },
  {
   "cell_type": "markdown",
   "id": "a6a63151-d0bd-4168-a1ae-5133a47940f9",
   "metadata": {},
   "source": [
    "p je menšie ako 0,05 v oboch prípadoch, čo znamená, že $H_0$ zamietame. Oba datasety pochádzajú pravdepodobne z iného ako normálového rozdelenia. Nespĺňame už prvú podmienku na parametrický test, takže nie je potrebné zisťovať varianciu. Musíme urobiť neparametrický test."
   ]
  },
  {
   "cell_type": "code",
   "execution_count": 80,
   "id": "449fb0f3-e0d9-45fb-9b74-13bc41d0e974",
   "metadata": {},
   "outputs": [
    {
     "data": {
      "text/plain": [
       "MannwhitneyuResult(statistic=3822919.0, pvalue=0.1374883818320964)"
      ]
     },
     "execution_count": 80,
     "metadata": {},
     "output_type": "execute_result"
    }
   ],
   "source": [
    "stats.mannwhitneyu(dataTest1_females, dataTest1_males)"
   ]
  },
  {
   "cell_type": "markdown",
   "id": "24da5c20-e954-4826-8257-78033ff258e9",
   "metadata": {},
   "source": [
    "p je väčšie ako 0,05, čo znamená, že nemôžeme zamietnuť $H_0$ a teda nemáme dôkaz o tom, že by existoval štatisticky významný rozdiel v pravdepodobnosti nákupu medzi ženami a mužmi."
   ]
  },
  {
   "cell_type": "code",
   "execution_count": null,
   "id": "854e7e1d-58e2-4ac3-97f3-2fdd1f7b2980",
   "metadata": {},
   "outputs": [],
   "source": []
  }
 ],
 "metadata": {
  "kernelspec": {
   "display_name": "Python 3 (ipykernel)",
   "language": "python",
   "name": "python3"
  },
  "language_info": {
   "codemirror_mode": {
    "name": "ipython",
    "version": 3
   },
   "file_extension": ".py",
   "mimetype": "text/x-python",
   "name": "python",
   "nbconvert_exporter": "python",
   "pygments_lexer": "ipython3",
   "version": "3.10.7"
  }
 },
 "nbformat": 4,
 "nbformat_minor": 5
}
